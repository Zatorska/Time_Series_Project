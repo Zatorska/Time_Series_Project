{
 "cells": [
  {
   "cell_type": "code",
   "execution_count": 1,
   "metadata": {},
   "outputs": [],
   "source": [
    "import pandas as pd\n",
    "import seaborn as sns\n",
    "import matplotlib.pyplot as plt\n",
    "import numpy as np\n",
    "import datetime\n",
    "from statsmodels.graphics import tsaplots\n",
    "from random import random"
   ]
  },
  {
   "cell_type": "code",
   "execution_count": 2,
   "metadata": {},
   "outputs": [],
   "source": [
    "pd.set_option('display.max_rows', 1000)"
   ]
  },
  {
   "cell_type": "markdown",
   "metadata": {},
   "source": [
    "## First look at the data:"
   ]
  },
  {
   "cell_type": "markdown",
   "metadata": {},
   "source": [
    "### ASC_AntenaEvent"
   ]
  },
  {
   "cell_type": "code",
   "execution_count": 3,
   "metadata": {},
   "outputs": [],
   "source": [
    "ASC_orig = pd.read_csv(\"ASC_AntenaEvent.csv\", parse_dates = ['probingTimestamp'], sep=';')"
   ]
  },
  {
   "cell_type": "code",
   "execution_count": 4,
   "metadata": {},
   "outputs": [
    {
     "data": {
      "text/html": [
       "<div>\n",
       "<style scoped>\n",
       "    .dataframe tbody tr th:only-of-type {\n",
       "        vertical-align: middle;\n",
       "    }\n",
       "\n",
       "    .dataframe tbody tr th {\n",
       "        vertical-align: top;\n",
       "    }\n",
       "\n",
       "    .dataframe thead th {\n",
       "        text-align: right;\n",
       "    }\n",
       "</style>\n",
       "<table border=\"1\" class=\"dataframe\">\n",
       "  <thead>\n",
       "    <tr style=\"text-align: right;\">\n",
       "      <th></th>\n",
       "      <th>dataStream</th>\n",
       "      <th>rows</th>\n",
       "      <th>probingTimestamp</th>\n",
       "    </tr>\n",
       "  </thead>\n",
       "  <tbody>\n",
       "    <tr>\n",
       "      <th>0</th>\n",
       "      <td>ASC_AntenaEvent</td>\n",
       "      <td>112800665</td>\n",
       "      <td>2020-01-13 09:32:03.053</td>\n",
       "    </tr>\n",
       "    <tr>\n",
       "      <th>1</th>\n",
       "      <td>ASC_AntenaEvent</td>\n",
       "      <td>106610066</td>\n",
       "      <td>2020-01-11 00:56:00.353</td>\n",
       "    </tr>\n",
       "    <tr>\n",
       "      <th>2</th>\n",
       "      <td>ASC_AntenaEvent</td>\n",
       "      <td>106610066</td>\n",
       "      <td>2020-01-11 00:57:00.280</td>\n",
       "    </tr>\n",
       "    <tr>\n",
       "      <th>3</th>\n",
       "      <td>ASC_AntenaEvent</td>\n",
       "      <td>106610066</td>\n",
       "      <td>2020-01-11 00:58:00.763</td>\n",
       "    </tr>\n",
       "    <tr>\n",
       "      <th>4</th>\n",
       "      <td>ASC_AntenaEvent</td>\n",
       "      <td>106610066</td>\n",
       "      <td>2020-01-11 00:59:00.217</td>\n",
       "    </tr>\n",
       "    <tr>\n",
       "      <th>...</th>\n",
       "      <td>...</td>\n",
       "      <td>...</td>\n",
       "      <td>...</td>\n",
       "    </tr>\n",
       "    <tr>\n",
       "      <th>160726</th>\n",
       "      <td>ASC_AntenaEvent</td>\n",
       "      <td>201545824</td>\n",
       "      <td>2020-05-02 06:27:00.593</td>\n",
       "    </tr>\n",
       "    <tr>\n",
       "      <th>160727</th>\n",
       "      <td>ASC_AntenaEvent</td>\n",
       "      <td>201545824</td>\n",
       "      <td>2020-05-02 06:28:00.033</td>\n",
       "    </tr>\n",
       "    <tr>\n",
       "      <th>160728</th>\n",
       "      <td>ASC_AntenaEvent</td>\n",
       "      <td>201545824</td>\n",
       "      <td>2020-05-02 07:37:00.697</td>\n",
       "    </tr>\n",
       "    <tr>\n",
       "      <th>160729</th>\n",
       "      <td>ASC_AntenaEvent</td>\n",
       "      <td>201545824</td>\n",
       "      <td>2020-05-02 06:29:00.493</td>\n",
       "    </tr>\n",
       "    <tr>\n",
       "      <th>160730</th>\n",
       "      <td>ASC_AntenaEvent</td>\n",
       "      <td>201545824</td>\n",
       "      <td>2020-05-02 04:48:00.410</td>\n",
       "    </tr>\n",
       "  </tbody>\n",
       "</table>\n",
       "<p>160731 rows × 3 columns</p>\n",
       "</div>"
      ],
      "text/plain": [
       "             dataStream       rows        probingTimestamp\n",
       "0       ASC_AntenaEvent  112800665 2020-01-13 09:32:03.053\n",
       "1       ASC_AntenaEvent  106610066 2020-01-11 00:56:00.353\n",
       "2       ASC_AntenaEvent  106610066 2020-01-11 00:57:00.280\n",
       "3       ASC_AntenaEvent  106610066 2020-01-11 00:58:00.763\n",
       "4       ASC_AntenaEvent  106610066 2020-01-11 00:59:00.217\n",
       "...                 ...        ...                     ...\n",
       "160726  ASC_AntenaEvent  201545824 2020-05-02 06:27:00.593\n",
       "160727  ASC_AntenaEvent  201545824 2020-05-02 06:28:00.033\n",
       "160728  ASC_AntenaEvent  201545824 2020-05-02 07:37:00.697\n",
       "160729  ASC_AntenaEvent  201545824 2020-05-02 06:29:00.493\n",
       "160730  ASC_AntenaEvent  201545824 2020-05-02 04:48:00.410\n",
       "\n",
       "[160731 rows x 3 columns]"
      ]
     },
     "execution_count": 4,
     "metadata": {},
     "output_type": "execute_result"
    }
   ],
   "source": [
    "ASC_orig"
   ]
  },
  {
   "cell_type": "code",
   "execution_count": 5,
   "metadata": {},
   "outputs": [
    {
     "data": {
      "text/plain": [
       "dataStream                  object\n",
       "rows                         int64\n",
       "probingTimestamp    datetime64[ns]\n",
       "dtype: object"
      ]
     },
     "execution_count": 5,
     "metadata": {},
     "output_type": "execute_result"
    }
   ],
   "source": [
    "ASC_orig.dtypes"
   ]
  },
  {
   "cell_type": "code",
   "execution_count": 6,
   "metadata": {},
   "outputs": [
    {
     "data": {
      "text/html": [
       "<div>\n",
       "<style scoped>\n",
       "    .dataframe tbody tr th:only-of-type {\n",
       "        vertical-align: middle;\n",
       "    }\n",
       "\n",
       "    .dataframe tbody tr th {\n",
       "        vertical-align: top;\n",
       "    }\n",
       "\n",
       "    .dataframe thead th {\n",
       "        text-align: right;\n",
       "    }\n",
       "</style>\n",
       "<table border=\"1\" class=\"dataframe\">\n",
       "  <thead>\n",
       "    <tr style=\"text-align: right;\">\n",
       "      <th></th>\n",
       "      <th>rows</th>\n",
       "    </tr>\n",
       "  </thead>\n",
       "  <tbody>\n",
       "    <tr>\n",
       "      <th>count</th>\n",
       "      <td>1.607310e+05</td>\n",
       "    </tr>\n",
       "    <tr>\n",
       "      <th>mean</th>\n",
       "      <td>1.722720e+08</td>\n",
       "    </tr>\n",
       "    <tr>\n",
       "      <th>std</th>\n",
       "      <td>3.004450e+07</td>\n",
       "    </tr>\n",
       "    <tr>\n",
       "      <th>min</th>\n",
       "      <td>1.055903e+08</td>\n",
       "    </tr>\n",
       "    <tr>\n",
       "      <th>25%</th>\n",
       "      <td>1.466788e+08</td>\n",
       "    </tr>\n",
       "    <tr>\n",
       "      <th>50%</th>\n",
       "      <td>1.837351e+08</td>\n",
       "    </tr>\n",
       "    <tr>\n",
       "      <th>75%</th>\n",
       "      <td>2.003999e+08</td>\n",
       "    </tr>\n",
       "    <tr>\n",
       "      <th>max</th>\n",
       "      <td>2.015458e+08</td>\n",
       "    </tr>\n",
       "  </tbody>\n",
       "</table>\n",
       "</div>"
      ],
      "text/plain": [
       "               rows\n",
       "count  1.607310e+05\n",
       "mean   1.722720e+08\n",
       "std    3.004450e+07\n",
       "min    1.055903e+08\n",
       "25%    1.466788e+08\n",
       "50%    1.837351e+08\n",
       "75%    2.003999e+08\n",
       "max    2.015458e+08"
      ]
     },
     "execution_count": 6,
     "metadata": {},
     "output_type": "execute_result"
    }
   ],
   "source": [
    "ASC_orig.describe()"
   ]
  },
  {
   "cell_type": "code",
   "execution_count": 7,
   "metadata": {},
   "outputs": [
    {
     "data": {
      "text/plain": [
       "160731"
      ]
     },
     "execution_count": 7,
     "metadata": {},
     "output_type": "execute_result"
    }
   ],
   "source": [
    "len(ASC_orig.index)"
   ]
  },
  {
   "cell_type": "code",
   "execution_count": 8,
   "metadata": {},
   "outputs": [
    {
     "data": {
      "text/plain": [
       "220"
      ]
     },
     "execution_count": 8,
     "metadata": {},
     "output_type": "execute_result"
    }
   ],
   "source": [
    "ASC_orig.duplicated().sum()"
   ]
  },
  {
   "cell_type": "code",
   "execution_count": 9,
   "metadata": {},
   "outputs": [],
   "source": [
    "ASC = ASC_orig.drop_duplicates()"
   ]
  },
  {
   "cell_type": "code",
   "execution_count": 10,
   "metadata": {},
   "outputs": [
    {
     "data": {
      "text/plain": [
       "0"
      ]
     },
     "execution_count": 10,
     "metadata": {},
     "output_type": "execute_result"
    }
   ],
   "source": [
    "ASC.duplicated().sum()"
   ]
  },
  {
   "cell_type": "code",
   "execution_count": 11,
   "metadata": {},
   "outputs": [
    {
     "data": {
      "text/plain": [
       "160511"
      ]
     },
     "execution_count": 11,
     "metadata": {},
     "output_type": "execute_result"
    }
   ],
   "source": [
    "len(ASC.index)"
   ]
  },
  {
   "cell_type": "code",
   "execution_count": 12,
   "metadata": {},
   "outputs": [
    {
     "data": {
      "text/plain": [
       "array(['ASC_AntenaEvent'], dtype=object)"
      ]
     },
     "execution_count": 12,
     "metadata": {},
     "output_type": "execute_result"
    }
   ],
   "source": [
    "ASC['dataStream'].unique()"
   ]
  },
  {
   "cell_type": "code",
   "execution_count": 13,
   "metadata": {},
   "outputs": [
    {
     "data": {
      "text/plain": [
       "135"
      ]
     },
     "execution_count": 13,
     "metadata": {},
     "output_type": "execute_result"
    }
   ],
   "source": [
    "ASC['rows'].nunique()"
   ]
  },
  {
   "cell_type": "code",
   "execution_count": 14,
   "metadata": {},
   "outputs": [
    {
     "data": {
      "text/plain": [
       "160511"
      ]
     },
     "execution_count": 14,
     "metadata": {},
     "output_type": "execute_result"
    }
   ],
   "source": [
    "ASC['probingTimestamp'].nunique()"
   ]
  },
  {
   "cell_type": "code",
   "execution_count": 15,
   "metadata": {},
   "outputs": [],
   "source": [
    "ASC_sorted = ASC.sort_values(by='probingTimestamp')"
   ]
  },
  {
   "cell_type": "code",
   "execution_count": 16,
   "metadata": {},
   "outputs": [
    {
     "data": {
      "text/html": [
       "<div>\n",
       "<style scoped>\n",
       "    .dataframe tbody tr th:only-of-type {\n",
       "        vertical-align: middle;\n",
       "    }\n",
       "\n",
       "    .dataframe tbody tr th {\n",
       "        vertical-align: top;\n",
       "    }\n",
       "\n",
       "    .dataframe thead th {\n",
       "        text-align: right;\n",
       "    }\n",
       "</style>\n",
       "<table border=\"1\" class=\"dataframe\">\n",
       "  <thead>\n",
       "    <tr style=\"text-align: right;\">\n",
       "      <th></th>\n",
       "      <th>dataStream</th>\n",
       "      <th>rows</th>\n",
       "      <th>probingTimestamp</th>\n",
       "    </tr>\n",
       "  </thead>\n",
       "  <tbody>\n",
       "    <tr>\n",
       "      <th>3548</th>\n",
       "      <td>ASC_AntenaEvent</td>\n",
       "      <td>105590338</td>\n",
       "      <td>2020-01-10 10:04:18.837</td>\n",
       "    </tr>\n",
       "    <tr>\n",
       "      <th>3547</th>\n",
       "      <td>ASC_AntenaEvent</td>\n",
       "      <td>105590338</td>\n",
       "      <td>2020-01-10 10:16:29.063</td>\n",
       "    </tr>\n",
       "    <tr>\n",
       "      <th>3549</th>\n",
       "      <td>ASC_AntenaEvent</td>\n",
       "      <td>105590338</td>\n",
       "      <td>2020-01-10 10:17:00.510</td>\n",
       "    </tr>\n",
       "    <tr>\n",
       "      <th>3554</th>\n",
       "      <td>ASC_AntenaEvent</td>\n",
       "      <td>105590338</td>\n",
       "      <td>2020-01-10 10:18:00.977</td>\n",
       "    </tr>\n",
       "    <tr>\n",
       "      <th>3555</th>\n",
       "      <td>ASC_AntenaEvent</td>\n",
       "      <td>105590338</td>\n",
       "      <td>2020-01-10 10:19:00.610</td>\n",
       "    </tr>\n",
       "    <tr>\n",
       "      <th>...</th>\n",
       "      <td>...</td>\n",
       "      <td>...</td>\n",
       "      <td>...</td>\n",
       "    </tr>\n",
       "    <tr>\n",
       "      <th>160194</th>\n",
       "      <td>ASC_AntenaEvent</td>\n",
       "      <td>201545824</td>\n",
       "      <td>2020-05-02 07:56:00.117</td>\n",
       "    </tr>\n",
       "    <tr>\n",
       "      <th>160195</th>\n",
       "      <td>ASC_AntenaEvent</td>\n",
       "      <td>201545824</td>\n",
       "      <td>2020-05-02 07:57:00.537</td>\n",
       "    </tr>\n",
       "    <tr>\n",
       "      <th>160198</th>\n",
       "      <td>ASC_AntenaEvent</td>\n",
       "      <td>201545824</td>\n",
       "      <td>2020-05-02 07:58:00.083</td>\n",
       "    </tr>\n",
       "    <tr>\n",
       "      <th>160202</th>\n",
       "      <td>ASC_AntenaEvent</td>\n",
       "      <td>201545824</td>\n",
       "      <td>2020-05-02 07:59:00.543</td>\n",
       "    </tr>\n",
       "    <tr>\n",
       "      <th>160228</th>\n",
       "      <td>ASC_AntenaEvent</td>\n",
       "      <td>201545824</td>\n",
       "      <td>2020-05-02 08:00:00.120</td>\n",
       "    </tr>\n",
       "  </tbody>\n",
       "</table>\n",
       "<p>160511 rows × 3 columns</p>\n",
       "</div>"
      ],
      "text/plain": [
       "             dataStream       rows        probingTimestamp\n",
       "3548    ASC_AntenaEvent  105590338 2020-01-10 10:04:18.837\n",
       "3547    ASC_AntenaEvent  105590338 2020-01-10 10:16:29.063\n",
       "3549    ASC_AntenaEvent  105590338 2020-01-10 10:17:00.510\n",
       "3554    ASC_AntenaEvent  105590338 2020-01-10 10:18:00.977\n",
       "3555    ASC_AntenaEvent  105590338 2020-01-10 10:19:00.610\n",
       "...                 ...        ...                     ...\n",
       "160194  ASC_AntenaEvent  201545824 2020-05-02 07:56:00.117\n",
       "160195  ASC_AntenaEvent  201545824 2020-05-02 07:57:00.537\n",
       "160198  ASC_AntenaEvent  201545824 2020-05-02 07:58:00.083\n",
       "160202  ASC_AntenaEvent  201545824 2020-05-02 07:59:00.543\n",
       "160228  ASC_AntenaEvent  201545824 2020-05-02 08:00:00.120\n",
       "\n",
       "[160511 rows x 3 columns]"
      ]
     },
     "execution_count": 16,
     "metadata": {},
     "output_type": "execute_result"
    }
   ],
   "source": [
    "ASC_sorted"
   ]
  },
  {
   "cell_type": "code",
   "execution_count": 17,
   "metadata": {},
   "outputs": [
    {
     "data": {
      "image/png": "[encoded data removed]",
      "text/plain": [
       "<Figure size 576x576 with 1 Axes>"
      ]
     },
     "metadata": {},
     "output_type": "display_data"
    }
   ],
   "source": [
    "sns.set() \n",
    "ASC_sorted['rows'].hist(figsize=(8,8), color='blue') \n",
    "plt.show()"
   ]
  },
  {
   "cell_type": "markdown",
   "metadata": {},
   "source": [
    "### BCL_TaskCreation"
   ]
  },
  {
   "cell_type": "code",
   "execution_count": 18,
   "metadata": {},
   "outputs": [],
   "source": [
    "BCL_orig = pd.read_csv(\"BCL_TaskCreation.csv\", parse_dates = ['probingTimestamp'], sep=';')"
   ]
  },
  {
   "cell_type": "code",
   "execution_count": 19,
   "metadata": {},
   "outputs": [
    {
     "data": {
      "text/html": [
       "<div>\n",
       "<style scoped>\n",
       "    .dataframe tbody tr th:only-of-type {\n",
       "        vertical-align: middle;\n",
       "    }\n",
       "\n",
       "    .dataframe tbody tr th {\n",
       "        vertical-align: top;\n",
       "    }\n",
       "\n",
       "    .dataframe thead th {\n",
       "        text-align: right;\n",
       "    }\n",
       "</style>\n",
       "<table border=\"1\" class=\"dataframe\">\n",
       "  <thead>\n",
       "    <tr style=\"text-align: right;\">\n",
       "      <th></th>\n",
       "      <th>dataStream</th>\n",
       "      <th>rowCount</th>\n",
       "      <th>probingTimestamp</th>\n",
       "    </tr>\n",
       "  </thead>\n",
       "  <tbody>\n",
       "    <tr>\n",
       "      <th>0</th>\n",
       "      <td>BCL_TaskCreation</td>\n",
       "      <td>315349655</td>\n",
       "      <td>2020-01-13 09:33:00.497</td>\n",
       "    </tr>\n",
       "    <tr>\n",
       "      <th>1</th>\n",
       "      <td>BCL_TaskCreation</td>\n",
       "      <td>315349655</td>\n",
       "      <td>2020-01-13 09:34:00.157</td>\n",
       "    </tr>\n",
       "    <tr>\n",
       "      <th>2</th>\n",
       "      <td>BCL_TaskCreation</td>\n",
       "      <td>314533770</td>\n",
       "      <td>2020-01-11 01:18:00.143</td>\n",
       "    </tr>\n",
       "    <tr>\n",
       "      <th>3</th>\n",
       "      <td>BCL_TaskCreation</td>\n",
       "      <td>289249872</td>\n",
       "      <td>2020-04-05 16:10:00.333</td>\n",
       "    </tr>\n",
       "    <tr>\n",
       "      <th>4</th>\n",
       "      <td>BCL_TaskCreation</td>\n",
       "      <td>289249872</td>\n",
       "      <td>2020-04-05 16:11:00.883</td>\n",
       "    </tr>\n",
       "  </tbody>\n",
       "</table>\n",
       "</div>"
      ],
      "text/plain": [
       "         dataStream   rowCount        probingTimestamp\n",
       "0  BCL_TaskCreation  315349655 2020-01-13 09:33:00.497\n",
       "1  BCL_TaskCreation  315349655 2020-01-13 09:34:00.157\n",
       "2  BCL_TaskCreation  314533770 2020-01-11 01:18:00.143\n",
       "3  BCL_TaskCreation  289249872 2020-04-05 16:10:00.333\n",
       "4  BCL_TaskCreation  289249872 2020-04-05 16:11:00.883"
      ]
     },
     "execution_count": 19,
     "metadata": {},
     "output_type": "execute_result"
    }
   ],
   "source": [
    "BCL_orig.head()"
   ]
  },
  {
   "cell_type": "code",
   "execution_count": 20,
   "metadata": {},
   "outputs": [
    {
     "data": {
      "text/plain": [
       "160735"
      ]
     },
     "execution_count": 20,
     "metadata": {},
     "output_type": "execute_result"
    }
   ],
   "source": [
    "len(BCL_orig.index)"
   ]
  },
  {
   "cell_type": "code",
   "execution_count": 21,
   "metadata": {},
   "outputs": [
    {
     "data": {
      "text/plain": [
       "222"
      ]
     },
     "execution_count": 21,
     "metadata": {},
     "output_type": "execute_result"
    }
   ],
   "source": [
    "BCL_orig.duplicated().sum()"
   ]
  },
  {
   "cell_type": "code",
   "execution_count": 22,
   "metadata": {},
   "outputs": [],
   "source": [
    "BCL = BCL_orig.drop_duplicates()"
   ]
  },
  {
   "cell_type": "code",
   "execution_count": 23,
   "metadata": {},
   "outputs": [
    {
     "data": {
      "text/plain": [
       "0"
      ]
     },
     "execution_count": 23,
     "metadata": {},
     "output_type": "execute_result"
    }
   ],
   "source": [
    "BCL.duplicated().sum()"
   ]
  },
  {
   "cell_type": "code",
   "execution_count": 24,
   "metadata": {},
   "outputs": [
    {
     "data": {
      "text/plain": [
       "array(['BCL_TaskCreation'], dtype=object)"
      ]
     },
     "execution_count": 24,
     "metadata": {},
     "output_type": "execute_result"
    }
   ],
   "source": [
    "BCL['dataStream'].unique()"
   ]
  },
  {
   "cell_type": "code",
   "execution_count": 25,
   "metadata": {},
   "outputs": [
    {
     "data": {
      "text/plain": [
       "6612"
      ]
     },
     "execution_count": 25,
     "metadata": {},
     "output_type": "execute_result"
    }
   ],
   "source": [
    "BCL['rowCount'].nunique()"
   ]
  },
  {
   "cell_type": "code",
   "execution_count": 26,
   "metadata": {},
   "outputs": [
    {
     "data": {
      "text/plain": [
       "160513"
      ]
     },
     "execution_count": 26,
     "metadata": {},
     "output_type": "execute_result"
    }
   ],
   "source": [
    "BCL['probingTimestamp'].nunique()"
   ]
  },
  {
   "cell_type": "code",
   "execution_count": 27,
   "metadata": {},
   "outputs": [
    {
     "data": {
      "text/plain": [
       "160513"
      ]
     },
     "execution_count": 27,
     "metadata": {},
     "output_type": "execute_result"
    }
   ],
   "source": [
    "len(BCL.index)"
   ]
  },
  {
   "cell_type": "code",
   "execution_count": 28,
   "metadata": {},
   "outputs": [],
   "source": [
    "BCL_sorted = BCL.sort_values(by='probingTimestamp')"
   ]
  },
  {
   "cell_type": "code",
   "execution_count": 29,
   "metadata": {},
   "outputs": [
    {
     "data": {
      "image/png": "[encoded data removed]",
      "text/plain": [
       "<Figure size 576x576 with 1 Axes>"
      ]
     },
     "metadata": {},
     "output_type": "display_data"
    }
   ],
   "source": [
    "sns.set() \n",
    "BCL_sorted['rowCount'].hist(figsize=(8,8), color='blue') \n",
    "plt.show()"
   ]
  },
  {
   "cell_type": "markdown",
   "metadata": {},
   "source": [
    "### DTTB_IncomeEvents"
   ]
  },
  {
   "cell_type": "code",
   "execution_count": 30,
   "metadata": {},
   "outputs": [],
   "source": [
    "DTTB_orig = pd.read_csv(\"DTTB_IncomeEvents.csv\", parse_dates = ['probingTimestamp'], sep=';')"
   ]
  },
  {
   "cell_type": "code",
   "execution_count": 31,
   "metadata": {},
   "outputs": [
    {
     "data": {
      "text/html": [
       "<div>\n",
       "<style scoped>\n",
       "    .dataframe tbody tr th:only-of-type {\n",
       "        vertical-align: middle;\n",
       "    }\n",
       "\n",
       "    .dataframe tbody tr th {\n",
       "        vertical-align: top;\n",
       "    }\n",
       "\n",
       "    .dataframe thead th {\n",
       "        text-align: right;\n",
       "    }\n",
       "</style>\n",
       "<table border=\"1\" class=\"dataframe\">\n",
       "  <thead>\n",
       "    <tr style=\"text-align: right;\">\n",
       "      <th></th>\n",
       "      <th>dataStream</th>\n",
       "      <th>rowCount</th>\n",
       "      <th>probingTimestamp</th>\n",
       "    </tr>\n",
       "  </thead>\n",
       "  <tbody>\n",
       "    <tr>\n",
       "      <th>0</th>\n",
       "      <td>DTTB_IncomeEvents</td>\n",
       "      <td>2045565</td>\n",
       "      <td>2020-01-11 01:58:00.150</td>\n",
       "    </tr>\n",
       "    <tr>\n",
       "      <th>1</th>\n",
       "      <td>DTTB_IncomeEvents</td>\n",
       "      <td>2045565</td>\n",
       "      <td>2020-01-11 01:59:00.760</td>\n",
       "    </tr>\n",
       "    <tr>\n",
       "      <th>2</th>\n",
       "      <td>DTTB_IncomeEvents</td>\n",
       "      <td>2047466</td>\n",
       "      <td>2020-01-13 09:36:00.877</td>\n",
       "    </tr>\n",
       "    <tr>\n",
       "      <th>3</th>\n",
       "      <td>DTTB_IncomeEvents</td>\n",
       "      <td>2045565</td>\n",
       "      <td>2020-01-11 02:00:00.307</td>\n",
       "    </tr>\n",
       "    <tr>\n",
       "      <th>4</th>\n",
       "      <td>DTTB_IncomeEvents</td>\n",
       "      <td>2045565</td>\n",
       "      <td>2020-01-11 02:01:00.930</td>\n",
       "    </tr>\n",
       "  </tbody>\n",
       "</table>\n",
       "</div>"
      ],
      "text/plain": [
       "          dataStream  rowCount        probingTimestamp\n",
       "0  DTTB_IncomeEvents   2045565 2020-01-11 01:58:00.150\n",
       "1  DTTB_IncomeEvents   2045565 2020-01-11 01:59:00.760\n",
       "2  DTTB_IncomeEvents   2047466 2020-01-13 09:36:00.877\n",
       "3  DTTB_IncomeEvents   2045565 2020-01-11 02:00:00.307\n",
       "4  DTTB_IncomeEvents   2045565 2020-01-11 02:01:00.930"
      ]
     },
     "execution_count": 31,
     "metadata": {},
     "output_type": "execute_result"
    }
   ],
   "source": [
    "DTTB_orig.head()"
   ]
  },
  {
   "cell_type": "code",
   "execution_count": 32,
   "metadata": {},
   "outputs": [
    {
     "data": {
      "text/plain": [
       "160676"
      ]
     },
     "execution_count": 32,
     "metadata": {},
     "output_type": "execute_result"
    }
   ],
   "source": [
    "len(DTTB_orig.index)"
   ]
  },
  {
   "cell_type": "code",
   "execution_count": 33,
   "metadata": {},
   "outputs": [
    {
     "data": {
      "text/plain": [
       "202"
      ]
     },
     "execution_count": 33,
     "metadata": {},
     "output_type": "execute_result"
    }
   ],
   "source": [
    "DTTB_orig.duplicated().sum()"
   ]
  },
  {
   "cell_type": "code",
   "execution_count": 34,
   "metadata": {},
   "outputs": [],
   "source": [
    "DTTB = DTTB_orig.drop_duplicates()"
   ]
  },
  {
   "cell_type": "code",
   "execution_count": 35,
   "metadata": {},
   "outputs": [
    {
     "data": {
      "text/plain": [
       "array(['DTTB_IncomeEvents'], dtype=object)"
      ]
     },
     "execution_count": 35,
     "metadata": {},
     "output_type": "execute_result"
    }
   ],
   "source": [
    "DTTB['dataStream'].unique()"
   ]
  },
  {
   "cell_type": "code",
   "execution_count": 36,
   "metadata": {},
   "outputs": [
    {
     "data": {
      "text/plain": [
       "347"
      ]
     },
     "execution_count": 36,
     "metadata": {},
     "output_type": "execute_result"
    }
   ],
   "source": [
    "DTTB['rowCount'].nunique()"
   ]
  },
  {
   "cell_type": "code",
   "execution_count": 37,
   "metadata": {},
   "outputs": [
    {
     "data": {
      "text/plain": [
       "160474"
      ]
     },
     "execution_count": 37,
     "metadata": {},
     "output_type": "execute_result"
    }
   ],
   "source": [
    "DTTB['probingTimestamp'].nunique()"
   ]
  },
  {
   "cell_type": "code",
   "execution_count": 38,
   "metadata": {},
   "outputs": [
    {
     "data": {
      "text/plain": [
       "160474"
      ]
     },
     "execution_count": 38,
     "metadata": {},
     "output_type": "execute_result"
    }
   ],
   "source": [
    "len(DTTB.index)"
   ]
  },
  {
   "cell_type": "code",
   "execution_count": 39,
   "metadata": {},
   "outputs": [],
   "source": [
    "DTTB_sorted = DTTB.sort_values(by='probingTimestamp')"
   ]
  },
  {
   "cell_type": "code",
   "execution_count": 40,
   "metadata": {},
   "outputs": [
    {
     "data": {
      "image/png": "[encoded data removed]",
      "text/plain": [
       "<Figure size 576x576 with 1 Axes>"
      ]
     },
     "metadata": {},
     "output_type": "display_data"
    }
   ],
   "source": [
    "sns.set() \n",
    "DTTB_sorted['rowCount'].hist(figsize=(8,8), color='blue') \n",
    "plt.show()"
   ]
  },
  {
   "cell_type": "markdown",
   "metadata": {},
   "source": [
    "## Preliminary remarks:\n",
    "\n",
    "* I dropped **duplicates**,\n",
    "* each dataframe has only one **dataStream**, referring to its' name,\n",
    "* every dataframe has different number of **rowCount** values (ASC: 135, BCL: 6612, DTTB: 347), whereas all **probingTimestamp** values are unique and its' number is similar in each df (around 160500),\n",
    "* as we can see above, at least some of **probingTimestamp** values are the same in these 3 dataframes - I'm going to **merge them by probingTimestamp**,\n",
    "* data was collected from 2020-01-10 10:04:18.837 to 2020-05-02 07:57:00.537. "
   ]
  },
  {
   "cell_type": "markdown",
   "metadata": {},
   "source": [
    "# 1. Loading the data into one dataframe"
   ]
  },
  {
   "cell_type": "markdown",
   "metadata": {},
   "source": [
    "### Preparing dataframes for merging"
   ]
  },
  {
   "cell_type": "markdown",
   "metadata": {},
   "source": [
    "#### ASC"
   ]
  },
  {
   "cell_type": "markdown",
   "metadata": {},
   "source": [
    "I assume that \"rows\" column in ASC_AntenaEvent DataFrame is the same as \"rowCount\" in another DataFrames. Therefore I'm going to change its' name to make merge easier:"
   ]
  },
  {
   "cell_type": "code",
   "execution_count": 41,
   "metadata": {},
   "outputs": [],
   "source": [
    "ASC_final = ASC_sorted.rename(columns={'rows': 'rowCount_ASC'})"
   ]
  },
  {
   "cell_type": "code",
   "execution_count": 42,
   "metadata": {},
   "outputs": [
    {
     "data": {
      "text/html": [
       "<div>\n",
       "<style scoped>\n",
       "    .dataframe tbody tr th:only-of-type {\n",
       "        vertical-align: middle;\n",
       "    }\n",
       "\n",
       "    .dataframe tbody tr th {\n",
       "        vertical-align: top;\n",
       "    }\n",
       "\n",
       "    .dataframe thead th {\n",
       "        text-align: right;\n",
       "    }\n",
       "</style>\n",
       "<table border=\"1\" class=\"dataframe\">\n",
       "  <thead>\n",
       "    <tr style=\"text-align: right;\">\n",
       "      <th></th>\n",
       "      <th>dataStream</th>\n",
       "      <th>rowCount_ASC</th>\n",
       "      <th>probingTimestamp</th>\n",
       "    </tr>\n",
       "  </thead>\n",
       "  <tbody>\n",
       "    <tr>\n",
       "      <th>3548</th>\n",
       "      <td>ASC_AntenaEvent</td>\n",
       "      <td>105590338</td>\n",
       "      <td>2020-01-10 10:04:18.837</td>\n",
       "    </tr>\n",
       "    <tr>\n",
       "      <th>3547</th>\n",
       "      <td>ASC_AntenaEvent</td>\n",
       "      <td>105590338</td>\n",
       "      <td>2020-01-10 10:16:29.063</td>\n",
       "    </tr>\n",
       "    <tr>\n",
       "      <th>3549</th>\n",
       "      <td>ASC_AntenaEvent</td>\n",
       "      <td>105590338</td>\n",
       "      <td>2020-01-10 10:17:00.510</td>\n",
       "    </tr>\n",
       "    <tr>\n",
       "      <th>3554</th>\n",
       "      <td>ASC_AntenaEvent</td>\n",
       "      <td>105590338</td>\n",
       "      <td>2020-01-10 10:18:00.977</td>\n",
       "    </tr>\n",
       "    <tr>\n",
       "      <th>3555</th>\n",
       "      <td>ASC_AntenaEvent</td>\n",
       "      <td>105590338</td>\n",
       "      <td>2020-01-10 10:19:00.610</td>\n",
       "    </tr>\n",
       "  </tbody>\n",
       "</table>\n",
       "</div>"
      ],
      "text/plain": [
       "           dataStream  rowCount_ASC        probingTimestamp\n",
       "3548  ASC_AntenaEvent     105590338 2020-01-10 10:04:18.837\n",
       "3547  ASC_AntenaEvent     105590338 2020-01-10 10:16:29.063\n",
       "3549  ASC_AntenaEvent     105590338 2020-01-10 10:17:00.510\n",
       "3554  ASC_AntenaEvent     105590338 2020-01-10 10:18:00.977\n",
       "3555  ASC_AntenaEvent     105590338 2020-01-10 10:19:00.610"
      ]
     },
     "execution_count": 42,
     "metadata": {},
     "output_type": "execute_result"
    }
   ],
   "source": [
    "ASC_final.head()"
   ]
  },
  {
   "cell_type": "markdown",
   "metadata": {},
   "source": [
    "Before merging I'm going to edit dataStream data (into boolean) to increase their readability in the final dataframe:"
   ]
  },
  {
   "cell_type": "code",
   "execution_count": 43,
   "metadata": {},
   "outputs": [],
   "source": [
    "ASC_final = ASC_final.rename(columns={'dataStream': 'ASC_AntenaEvent'})"
   ]
  },
  {
   "cell_type": "code",
   "execution_count": 44,
   "metadata": {},
   "outputs": [],
   "source": [
    "ASC_final = ASC_final.replace({'ASC_AntenaEvent':1})"
   ]
  },
  {
   "cell_type": "code",
   "execution_count": 45,
   "metadata": {},
   "outputs": [
    {
     "data": {
      "text/html": [
       "<div>\n",
       "<style scoped>\n",
       "    .dataframe tbody tr th:only-of-type {\n",
       "        vertical-align: middle;\n",
       "    }\n",
       "\n",
       "    .dataframe tbody tr th {\n",
       "        vertical-align: top;\n",
       "    }\n",
       "\n",
       "    .dataframe thead th {\n",
       "        text-align: right;\n",
       "    }\n",
       "</style>\n",
       "<table border=\"1\" class=\"dataframe\">\n",
       "  <thead>\n",
       "    <tr style=\"text-align: right;\">\n",
       "      <th></th>\n",
       "      <th>ASC_AntenaEvent</th>\n",
       "      <th>rowCount_ASC</th>\n",
       "      <th>probingTimestamp</th>\n",
       "    </tr>\n",
       "  </thead>\n",
       "  <tbody>\n",
       "    <tr>\n",
       "      <th>3548</th>\n",
       "      <td>1</td>\n",
       "      <td>105590338</td>\n",
       "      <td>2020-01-10 10:04:18.837</td>\n",
       "    </tr>\n",
       "    <tr>\n",
       "      <th>3547</th>\n",
       "      <td>1</td>\n",
       "      <td>105590338</td>\n",
       "      <td>2020-01-10 10:16:29.063</td>\n",
       "    </tr>\n",
       "    <tr>\n",
       "      <th>3549</th>\n",
       "      <td>1</td>\n",
       "      <td>105590338</td>\n",
       "      <td>2020-01-10 10:17:00.510</td>\n",
       "    </tr>\n",
       "    <tr>\n",
       "      <th>3554</th>\n",
       "      <td>1</td>\n",
       "      <td>105590338</td>\n",
       "      <td>2020-01-10 10:18:00.977</td>\n",
       "    </tr>\n",
       "    <tr>\n",
       "      <th>3555</th>\n",
       "      <td>1</td>\n",
       "      <td>105590338</td>\n",
       "      <td>2020-01-10 10:19:00.610</td>\n",
       "    </tr>\n",
       "  </tbody>\n",
       "</table>\n",
       "</div>"
      ],
      "text/plain": [
       "      ASC_AntenaEvent  rowCount_ASC        probingTimestamp\n",
       "3548                1     105590338 2020-01-10 10:04:18.837\n",
       "3547                1     105590338 2020-01-10 10:16:29.063\n",
       "3549                1     105590338 2020-01-10 10:17:00.510\n",
       "3554                1     105590338 2020-01-10 10:18:00.977\n",
       "3555                1     105590338 2020-01-10 10:19:00.610"
      ]
     },
     "execution_count": 45,
     "metadata": {},
     "output_type": "execute_result"
    }
   ],
   "source": [
    "ASC_final.head()"
   ]
  },
  {
   "cell_type": "code",
   "execution_count": 46,
   "metadata": {},
   "outputs": [
    {
     "data": {
      "text/plain": [
       "array([1])"
      ]
     },
     "execution_count": 46,
     "metadata": {},
     "output_type": "execute_result"
    }
   ],
   "source": [
    "ASC_final['ASC_AntenaEvent'].unique()"
   ]
  },
  {
   "cell_type": "markdown",
   "metadata": {},
   "source": [
    "#### BCL"
   ]
  },
  {
   "cell_type": "code",
   "execution_count": 47,
   "metadata": {},
   "outputs": [],
   "source": [
    "BCL_final = BCL_sorted.rename(columns={'dataStream': 'BCL_TaskCreation'})"
   ]
  },
  {
   "cell_type": "code",
   "execution_count": 48,
   "metadata": {},
   "outputs": [],
   "source": [
    "BCL_final = BCL_final.replace({'BCL_TaskCreation':1})"
   ]
  },
  {
   "cell_type": "code",
   "execution_count": 49,
   "metadata": {},
   "outputs": [],
   "source": [
    "BCL_final = BCL_final.rename(columns={'rowCount': 'rowCount_BCL'})"
   ]
  },
  {
   "cell_type": "code",
   "execution_count": 50,
   "metadata": {},
   "outputs": [
    {
     "data": {
      "text/html": [
       "<div>\n",
       "<style scoped>\n",
       "    .dataframe tbody tr th:only-of-type {\n",
       "        vertical-align: middle;\n",
       "    }\n",
       "\n",
       "    .dataframe tbody tr th {\n",
       "        vertical-align: top;\n",
       "    }\n",
       "\n",
       "    .dataframe thead th {\n",
       "        text-align: right;\n",
       "    }\n",
       "</style>\n",
       "<table border=\"1\" class=\"dataframe\">\n",
       "  <thead>\n",
       "    <tr style=\"text-align: right;\">\n",
       "      <th></th>\n",
       "      <th>BCL_TaskCreation</th>\n",
       "      <th>rowCount_BCL</th>\n",
       "      <th>probingTimestamp</th>\n",
       "    </tr>\n",
       "  </thead>\n",
       "  <tbody>\n",
       "    <tr>\n",
       "      <th>3506</th>\n",
       "      <td>1</td>\n",
       "      <td>314015548</td>\n",
       "      <td>2020-01-10 10:04:18.837</td>\n",
       "    </tr>\n",
       "    <tr>\n",
       "      <th>3505</th>\n",
       "      <td>1</td>\n",
       "      <td>314015548</td>\n",
       "      <td>2020-01-10 10:16:29.063</td>\n",
       "    </tr>\n",
       "    <tr>\n",
       "      <th>3507</th>\n",
       "      <td>1</td>\n",
       "      <td>314015548</td>\n",
       "      <td>2020-01-10 10:17:00.510</td>\n",
       "    </tr>\n",
       "    <tr>\n",
       "      <th>3512</th>\n",
       "      <td>1</td>\n",
       "      <td>314015548</td>\n",
       "      <td>2020-01-10 10:18:00.977</td>\n",
       "    </tr>\n",
       "    <tr>\n",
       "      <th>3513</th>\n",
       "      <td>1</td>\n",
       "      <td>314015548</td>\n",
       "      <td>2020-01-10 10:19:00.610</td>\n",
       "    </tr>\n",
       "  </tbody>\n",
       "</table>\n",
       "</div>"
      ],
      "text/plain": [
       "      BCL_TaskCreation  rowCount_BCL        probingTimestamp\n",
       "3506                 1     314015548 2020-01-10 10:04:18.837\n",
       "3505                 1     314015548 2020-01-10 10:16:29.063\n",
       "3507                 1     314015548 2020-01-10 10:17:00.510\n",
       "3512                 1     314015548 2020-01-10 10:18:00.977\n",
       "3513                 1     314015548 2020-01-10 10:19:00.610"
      ]
     },
     "execution_count": 50,
     "metadata": {},
     "output_type": "execute_result"
    }
   ],
   "source": [
    "BCL_final.head()"
   ]
  },
  {
   "cell_type": "markdown",
   "metadata": {},
   "source": [
    "#### DTTB"
   ]
  },
  {
   "cell_type": "code",
   "execution_count": 51,
   "metadata": {},
   "outputs": [],
   "source": [
    "DTTB_final = DTTB_sorted.rename(columns={'dataStream': 'DTTB_IncomeEvents'})"
   ]
  },
  {
   "cell_type": "code",
   "execution_count": 52,
   "metadata": {},
   "outputs": [],
   "source": [
    "DTTB_final = DTTB_final.replace({'DTTB_IncomeEvents':1})"
   ]
  },
  {
   "cell_type": "code",
   "execution_count": 53,
   "metadata": {},
   "outputs": [],
   "source": [
    "DTTB_final = DTTB_final.rename(columns={'rowCount': 'rowCount_DTTB'})"
   ]
  },
  {
   "cell_type": "code",
   "execution_count": 54,
   "metadata": {},
   "outputs": [
    {
     "data": {
      "text/html": [
       "<div>\n",
       "<style scoped>\n",
       "    .dataframe tbody tr th:only-of-type {\n",
       "        vertical-align: middle;\n",
       "    }\n",
       "\n",
       "    .dataframe tbody tr th {\n",
       "        vertical-align: top;\n",
       "    }\n",
       "\n",
       "    .dataframe thead th {\n",
       "        text-align: right;\n",
       "    }\n",
       "</style>\n",
       "<table border=\"1\" class=\"dataframe\">\n",
       "  <thead>\n",
       "    <tr style=\"text-align: right;\">\n",
       "      <th></th>\n",
       "      <th>DTTB_IncomeEvents</th>\n",
       "      <th>rowCount_DTTB</th>\n",
       "      <th>probingTimestamp</th>\n",
       "    </tr>\n",
       "  </thead>\n",
       "  <tbody>\n",
       "    <tr>\n",
       "      <th>3588</th>\n",
       "      <td>1</td>\n",
       "      <td>2044256</td>\n",
       "      <td>2020-01-10 10:04:18.837</td>\n",
       "    </tr>\n",
       "    <tr>\n",
       "      <th>3587</th>\n",
       "      <td>1</td>\n",
       "      <td>2044256</td>\n",
       "      <td>2020-01-10 10:16:29.063</td>\n",
       "    </tr>\n",
       "    <tr>\n",
       "      <th>3593</th>\n",
       "      <td>1</td>\n",
       "      <td>2044256</td>\n",
       "      <td>2020-01-10 10:17:00.510</td>\n",
       "    </tr>\n",
       "    <tr>\n",
       "      <th>3594</th>\n",
       "      <td>1</td>\n",
       "      <td>2044256</td>\n",
       "      <td>2020-01-10 10:18:00.977</td>\n",
       "    </tr>\n",
       "    <tr>\n",
       "      <th>3595</th>\n",
       "      <td>1</td>\n",
       "      <td>2044256</td>\n",
       "      <td>2020-01-10 10:19:00.610</td>\n",
       "    </tr>\n",
       "  </tbody>\n",
       "</table>\n",
       "</div>"
      ],
      "text/plain": [
       "      DTTB_IncomeEvents  rowCount_DTTB        probingTimestamp\n",
       "3588                  1        2044256 2020-01-10 10:04:18.837\n",
       "3587                  1        2044256 2020-01-10 10:16:29.063\n",
       "3593                  1        2044256 2020-01-10 10:17:00.510\n",
       "3594                  1        2044256 2020-01-10 10:18:00.977\n",
       "3595                  1        2044256 2020-01-10 10:19:00.610"
      ]
     },
     "execution_count": 54,
     "metadata": {},
     "output_type": "execute_result"
    }
   ],
   "source": [
    "DTTB_final.head()"
   ]
  },
  {
   "cell_type": "code",
   "execution_count": 55,
   "metadata": {},
   "outputs": [
    {
     "data": {
      "text/plain": [
       "array([1])"
      ]
     },
     "execution_count": 55,
     "metadata": {},
     "output_type": "execute_result"
    }
   ],
   "source": [
    "DTTB_final['DTTB_IncomeEvents'].unique()"
   ]
  },
  {
   "cell_type": "markdown",
   "metadata": {},
   "source": [
    "### Merging time:\n",
    "\n",
    "In my opinion **outer** type of merge is the best in this situation. "
   ]
  },
  {
   "cell_type": "code",
   "execution_count": 56,
   "metadata": {},
   "outputs": [],
   "source": [
    "draft_dataset = ASC_final.merge(BCL_final, how = 'outer', on='probingTimestamp')"
   ]
  },
  {
   "cell_type": "code",
   "execution_count": 57,
   "metadata": {},
   "outputs": [
    {
     "data": {
      "text/html": [
       "<div>\n",
       "<style scoped>\n",
       "    .dataframe tbody tr th:only-of-type {\n",
       "        vertical-align: middle;\n",
       "    }\n",
       "\n",
       "    .dataframe tbody tr th {\n",
       "        vertical-align: top;\n",
       "    }\n",
       "\n",
       "    .dataframe thead th {\n",
       "        text-align: right;\n",
       "    }\n",
       "</style>\n",
       "<table border=\"1\" class=\"dataframe\">\n",
       "  <thead>\n",
       "    <tr style=\"text-align: right;\">\n",
       "      <th></th>\n",
       "      <th>ASC_AntenaEvent</th>\n",
       "      <th>rowCount_ASC</th>\n",
       "      <th>probingTimestamp</th>\n",
       "      <th>BCL_TaskCreation</th>\n",
       "      <th>rowCount_BCL</th>\n",
       "    </tr>\n",
       "  </thead>\n",
       "  <tbody>\n",
       "    <tr>\n",
       "      <th>0</th>\n",
       "      <td>1.0</td>\n",
       "      <td>105590338.0</td>\n",
       "      <td>2020-01-10 10:04:18.837</td>\n",
       "      <td>1</td>\n",
       "      <td>314015548</td>\n",
       "    </tr>\n",
       "    <tr>\n",
       "      <th>1</th>\n",
       "      <td>1.0</td>\n",
       "      <td>105590338.0</td>\n",
       "      <td>2020-01-10 10:16:29.063</td>\n",
       "      <td>1</td>\n",
       "      <td>314015548</td>\n",
       "    </tr>\n",
       "    <tr>\n",
       "      <th>2</th>\n",
       "      <td>1.0</td>\n",
       "      <td>105590338.0</td>\n",
       "      <td>2020-01-10 10:17:00.510</td>\n",
       "      <td>1</td>\n",
       "      <td>314015548</td>\n",
       "    </tr>\n",
       "    <tr>\n",
       "      <th>3</th>\n",
       "      <td>1.0</td>\n",
       "      <td>105590338.0</td>\n",
       "      <td>2020-01-10 10:18:00.977</td>\n",
       "      <td>1</td>\n",
       "      <td>314015548</td>\n",
       "    </tr>\n",
       "    <tr>\n",
       "      <th>4</th>\n",
       "      <td>1.0</td>\n",
       "      <td>105590338.0</td>\n",
       "      <td>2020-01-10 10:19:00.610</td>\n",
       "      <td>1</td>\n",
       "      <td>314015548</td>\n",
       "    </tr>\n",
       "    <tr>\n",
       "      <th>...</th>\n",
       "      <td>...</td>\n",
       "      <td>...</td>\n",
       "      <td>...</td>\n",
       "      <td>...</td>\n",
       "      <td>...</td>\n",
       "    </tr>\n",
       "    <tr>\n",
       "      <th>160508</th>\n",
       "      <td>1.0</td>\n",
       "      <td>201545824.0</td>\n",
       "      <td>2020-05-02 07:58:00.083</td>\n",
       "      <td>1</td>\n",
       "      <td>289702943</td>\n",
       "    </tr>\n",
       "    <tr>\n",
       "      <th>160509</th>\n",
       "      <td>1.0</td>\n",
       "      <td>201545824.0</td>\n",
       "      <td>2020-05-02 07:59:00.543</td>\n",
       "      <td>1</td>\n",
       "      <td>289702943</td>\n",
       "    </tr>\n",
       "    <tr>\n",
       "      <th>160510</th>\n",
       "      <td>1.0</td>\n",
       "      <td>201545824.0</td>\n",
       "      <td>2020-05-02 08:00:00.120</td>\n",
       "      <td>1</td>\n",
       "      <td>289702943</td>\n",
       "    </tr>\n",
       "    <tr>\n",
       "      <th>160511</th>\n",
       "      <td>NaN</td>\n",
       "      <td>NaN</td>\n",
       "      <td>2020-03-25 04:01:00.973</td>\n",
       "      <td>1</td>\n",
       "      <td>287893459</td>\n",
       "    </tr>\n",
       "    <tr>\n",
       "      <th>160512</th>\n",
       "      <td>NaN</td>\n",
       "      <td>NaN</td>\n",
       "      <td>2020-04-02 16:01:00.540</td>\n",
       "      <td>1</td>\n",
       "      <td>288576395</td>\n",
       "    </tr>\n",
       "  </tbody>\n",
       "</table>\n",
       "<p>160513 rows × 5 columns</p>\n",
       "</div>"
      ],
      "text/plain": [
       "        ASC_AntenaEvent  rowCount_ASC        probingTimestamp  \\\n",
       "0                   1.0   105590338.0 2020-01-10 10:04:18.837   \n",
       "1                   1.0   105590338.0 2020-01-10 10:16:29.063   \n",
       "2                   1.0   105590338.0 2020-01-10 10:17:00.510   \n",
       "3                   1.0   105590338.0 2020-01-10 10:18:00.977   \n",
       "4                   1.0   105590338.0 2020-01-10 10:19:00.610   \n",
       "...                 ...           ...                     ...   \n",
       "160508              1.0   201545824.0 2020-05-02 07:58:00.083   \n",
       "160509              1.0   201545824.0 2020-05-02 07:59:00.543   \n",
       "160510              1.0   201545824.0 2020-05-02 08:00:00.120   \n",
       "160511              NaN           NaN 2020-03-25 04:01:00.973   \n",
       "160512              NaN           NaN 2020-04-02 16:01:00.540   \n",
       "\n",
       "        BCL_TaskCreation  rowCount_BCL  \n",
       "0                      1     314015548  \n",
       "1                      1     314015548  \n",
       "2                      1     314015548  \n",
       "3                      1     314015548  \n",
       "4                      1     314015548  \n",
       "...                  ...           ...  \n",
       "160508                 1     289702943  \n",
       "160509                 1     289702943  \n",
       "160510                 1     289702943  \n",
       "160511                 1     287893459  \n",
       "160512                 1     288576395  \n",
       "\n",
       "[160513 rows x 5 columns]"
      ]
     },
     "execution_count": 57,
     "metadata": {},
     "output_type": "execute_result"
    }
   ],
   "source": [
    "draft_dataset"
   ]
  },
  {
   "cell_type": "code",
   "execution_count": 58,
   "metadata": {},
   "outputs": [
    {
     "data": {
      "text/plain": [
       "160513"
      ]
     },
     "execution_count": 58,
     "metadata": {},
     "output_type": "execute_result"
    }
   ],
   "source": [
    "len(draft_dataset.index)"
   ]
  },
  {
   "cell_type": "code",
   "execution_count": 59,
   "metadata": {},
   "outputs": [
    {
     "data": {
      "text/plain": [
       "160511"
      ]
     },
     "execution_count": 59,
     "metadata": {},
     "output_type": "execute_result"
    }
   ],
   "source": [
    "len(ASC_final.index)"
   ]
  },
  {
   "cell_type": "code",
   "execution_count": 60,
   "metadata": {},
   "outputs": [
    {
     "data": {
      "text/plain": [
       "160513"
      ]
     },
     "execution_count": 60,
     "metadata": {},
     "output_type": "execute_result"
    }
   ],
   "source": [
    "len(BCL_final.index)"
   ]
  },
  {
   "cell_type": "code",
   "execution_count": 61,
   "metadata": {},
   "outputs": [
    {
     "data": {
      "text/plain": [
       "0"
      ]
     },
     "execution_count": 61,
     "metadata": {},
     "output_type": "execute_result"
    }
   ],
   "source": [
    "draft_dataset.duplicated().sum()"
   ]
  },
  {
   "cell_type": "code",
   "execution_count": 62,
   "metadata": {},
   "outputs": [],
   "source": [
    "draft_dataset = draft_dataset.merge(DTTB_final, how = 'outer', on='probingTimestamp')"
   ]
  },
  {
   "cell_type": "code",
   "execution_count": 63,
   "metadata": {
    "scrolled": true
   },
   "outputs": [
    {
     "data": {
      "text/html": [
       "<div>\n",
       "<style scoped>\n",
       "    .dataframe tbody tr th:only-of-type {\n",
       "        vertical-align: middle;\n",
       "    }\n",
       "\n",
       "    .dataframe tbody tr th {\n",
       "        vertical-align: top;\n",
       "    }\n",
       "\n",
       "    .dataframe thead th {\n",
       "        text-align: right;\n",
       "    }\n",
       "</style>\n",
       "<table border=\"1\" class=\"dataframe\">\n",
       "  <thead>\n",
       "    <tr style=\"text-align: right;\">\n",
       "      <th></th>\n",
       "      <th>ASC_AntenaEvent</th>\n",
       "      <th>rowCount_ASC</th>\n",
       "      <th>probingTimestamp</th>\n",
       "      <th>BCL_TaskCreation</th>\n",
       "      <th>rowCount_BCL</th>\n",
       "      <th>DTTB_IncomeEvents</th>\n",
       "      <th>rowCount_DTTB</th>\n",
       "    </tr>\n",
       "  </thead>\n",
       "  <tbody>\n",
       "    <tr>\n",
       "      <th>0</th>\n",
       "      <td>1.0</td>\n",
       "      <td>105590338.0</td>\n",
       "      <td>2020-01-10 10:04:18.837</td>\n",
       "      <td>1.0</td>\n",
       "      <td>314015548.0</td>\n",
       "      <td>1.0</td>\n",
       "      <td>2044256.0</td>\n",
       "    </tr>\n",
       "    <tr>\n",
       "      <th>1</th>\n",
       "      <td>1.0</td>\n",
       "      <td>105590338.0</td>\n",
       "      <td>2020-01-10 10:16:29.063</td>\n",
       "      <td>1.0</td>\n",
       "      <td>314015548.0</td>\n",
       "      <td>1.0</td>\n",
       "      <td>2044256.0</td>\n",
       "    </tr>\n",
       "    <tr>\n",
       "      <th>2</th>\n",
       "      <td>1.0</td>\n",
       "      <td>105590338.0</td>\n",
       "      <td>2020-01-10 10:17:00.510</td>\n",
       "      <td>1.0</td>\n",
       "      <td>314015548.0</td>\n",
       "      <td>1.0</td>\n",
       "      <td>2044256.0</td>\n",
       "    </tr>\n",
       "    <tr>\n",
       "      <th>3</th>\n",
       "      <td>1.0</td>\n",
       "      <td>105590338.0</td>\n",
       "      <td>2020-01-10 10:18:00.977</td>\n",
       "      <td>1.0</td>\n",
       "      <td>314015548.0</td>\n",
       "      <td>1.0</td>\n",
       "      <td>2044256.0</td>\n",
       "    </tr>\n",
       "    <tr>\n",
       "      <th>4</th>\n",
       "      <td>1.0</td>\n",
       "      <td>105590338.0</td>\n",
       "      <td>2020-01-10 10:19:00.610</td>\n",
       "      <td>1.0</td>\n",
       "      <td>314015548.0</td>\n",
       "      <td>1.0</td>\n",
       "      <td>2044256.0</td>\n",
       "    </tr>\n",
       "    <tr>\n",
       "      <th>...</th>\n",
       "      <td>...</td>\n",
       "      <td>...</td>\n",
       "      <td>...</td>\n",
       "      <td>...</td>\n",
       "      <td>...</td>\n",
       "      <td>...</td>\n",
       "      <td>...</td>\n",
       "    </tr>\n",
       "    <tr>\n",
       "      <th>160515</th>\n",
       "      <td>NaN</td>\n",
       "      <td>NaN</td>\n",
       "      <td>2020-04-05 00:48:02.250</td>\n",
       "      <td>NaN</td>\n",
       "      <td>NaN</td>\n",
       "      <td>1.0</td>\n",
       "      <td>298126.0</td>\n",
       "    </tr>\n",
       "    <tr>\n",
       "      <th>160516</th>\n",
       "      <td>NaN</td>\n",
       "      <td>NaN</td>\n",
       "      <td>2020-04-05 02:07:01.027</td>\n",
       "      <td>NaN</td>\n",
       "      <td>NaN</td>\n",
       "      <td>1.0</td>\n",
       "      <td>298126.0</td>\n",
       "    </tr>\n",
       "    <tr>\n",
       "      <th>160517</th>\n",
       "      <td>NaN</td>\n",
       "      <td>NaN</td>\n",
       "      <td>2020-04-05 02:27:00.667</td>\n",
       "      <td>NaN</td>\n",
       "      <td>NaN</td>\n",
       "      <td>1.0</td>\n",
       "      <td>298126.0</td>\n",
       "    </tr>\n",
       "    <tr>\n",
       "      <th>160518</th>\n",
       "      <td>NaN</td>\n",
       "      <td>NaN</td>\n",
       "      <td>2020-04-05 03:25:00.270</td>\n",
       "      <td>NaN</td>\n",
       "      <td>NaN</td>\n",
       "      <td>1.0</td>\n",
       "      <td>298126.0</td>\n",
       "    </tr>\n",
       "    <tr>\n",
       "      <th>160519</th>\n",
       "      <td>NaN</td>\n",
       "      <td>NaN</td>\n",
       "      <td>2020-04-05 04:43:00.160</td>\n",
       "      <td>NaN</td>\n",
       "      <td>NaN</td>\n",
       "      <td>1.0</td>\n",
       "      <td>298126.0</td>\n",
       "    </tr>\n",
       "  </tbody>\n",
       "</table>\n",
       "<p>160520 rows × 7 columns</p>\n",
       "</div>"
      ],
      "text/plain": [
       "        ASC_AntenaEvent  rowCount_ASC        probingTimestamp  \\\n",
       "0                   1.0   105590338.0 2020-01-10 10:04:18.837   \n",
       "1                   1.0   105590338.0 2020-01-10 10:16:29.063   \n",
       "2                   1.0   105590338.0 2020-01-10 10:17:00.510   \n",
       "3                   1.0   105590338.0 2020-01-10 10:18:00.977   \n",
       "4                   1.0   105590338.0 2020-01-10 10:19:00.610   \n",
       "...                 ...           ...                     ...   \n",
       "160515              NaN           NaN 2020-04-05 00:48:02.250   \n",
       "160516              NaN           NaN 2020-04-05 02:07:01.027   \n",
       "160517              NaN           NaN 2020-04-05 02:27:00.667   \n",
       "160518              NaN           NaN 2020-04-05 03:25:00.270   \n",
       "160519              NaN           NaN 2020-04-05 04:43:00.160   \n",
       "\n",
       "        BCL_TaskCreation  rowCount_BCL  DTTB_IncomeEvents  rowCount_DTTB  \n",
       "0                    1.0   314015548.0                1.0      2044256.0  \n",
       "1                    1.0   314015548.0                1.0      2044256.0  \n",
       "2                    1.0   314015548.0                1.0      2044256.0  \n",
       "3                    1.0   314015548.0                1.0      2044256.0  \n",
       "4                    1.0   314015548.0                1.0      2044256.0  \n",
       "...                  ...           ...                ...            ...  \n",
       "160515               NaN           NaN                1.0       298126.0  \n",
       "160516               NaN           NaN                1.0       298126.0  \n",
       "160517               NaN           NaN                1.0       298126.0  \n",
       "160518               NaN           NaN                1.0       298126.0  \n",
       "160519               NaN           NaN                1.0       298126.0  \n",
       "\n",
       "[160520 rows x 7 columns]"
      ]
     },
     "execution_count": 63,
     "metadata": {},
     "output_type": "execute_result"
    }
   ],
   "source": [
    "draft_dataset"
   ]
  },
  {
   "cell_type": "code",
   "execution_count": 64,
   "metadata": {},
   "outputs": [
    {
     "data": {
      "text/plain": [
       "160520"
      ]
     },
     "execution_count": 64,
     "metadata": {},
     "output_type": "execute_result"
    }
   ],
   "source": [
    "len(draft_dataset.index)"
   ]
  },
  {
   "cell_type": "markdown",
   "metadata": {},
   "source": [
    "Ok. We have few (7) additional rows, it's because of outer merge (for the record work_dataset before merging with DTTB had 160513 rows, and DTTB: 160474). This number is not alarming, I will deal with it in next steps."
   ]
  },
  {
   "cell_type": "markdown",
   "metadata": {},
   "source": [
    "Now, I will only rearrange probingTimestamp column to increase readability:"
   ]
  },
  {
   "cell_type": "code",
   "execution_count": 65,
   "metadata": {},
   "outputs": [],
   "source": [
    "draft_dataset = draft_dataset[['ASC_AntenaEvent', 'rowCount_ASC', 'BCL_TaskCreation', 'rowCount_BCL', 'DTTB_IncomeEvents', 'rowCount_DTTB', 'probingTimestamp']]"
   ]
  },
  {
   "cell_type": "code",
   "execution_count": 66,
   "metadata": {},
   "outputs": [
    {
     "data": {
      "text/html": [
       "<div>\n",
       "<style scoped>\n",
       "    .dataframe tbody tr th:only-of-type {\n",
       "        vertical-align: middle;\n",
       "    }\n",
       "\n",
       "    .dataframe tbody tr th {\n",
       "        vertical-align: top;\n",
       "    }\n",
       "\n",
       "    .dataframe thead th {\n",
       "        text-align: right;\n",
       "    }\n",
       "</style>\n",
       "<table border=\"1\" class=\"dataframe\">\n",
       "  <thead>\n",
       "    <tr style=\"text-align: right;\">\n",
       "      <th></th>\n",
       "      <th>ASC_AntenaEvent</th>\n",
       "      <th>rowCount_ASC</th>\n",
       "      <th>BCL_TaskCreation</th>\n",
       "      <th>rowCount_BCL</th>\n",
       "      <th>DTTB_IncomeEvents</th>\n",
       "      <th>rowCount_DTTB</th>\n",
       "      <th>probingTimestamp</th>\n",
       "    </tr>\n",
       "  </thead>\n",
       "  <tbody>\n",
       "    <tr>\n",
       "      <th>0</th>\n",
       "      <td>1.0</td>\n",
       "      <td>105590338.0</td>\n",
       "      <td>1.0</td>\n",
       "      <td>314015548.0</td>\n",
       "      <td>1.0</td>\n",
       "      <td>2044256.0</td>\n",
       "      <td>2020-01-10 10:04:18.837</td>\n",
       "    </tr>\n",
       "    <tr>\n",
       "      <th>1</th>\n",
       "      <td>1.0</td>\n",
       "      <td>105590338.0</td>\n",
       "      <td>1.0</td>\n",
       "      <td>314015548.0</td>\n",
       "      <td>1.0</td>\n",
       "      <td>2044256.0</td>\n",
       "      <td>2020-01-10 10:16:29.063</td>\n",
       "    </tr>\n",
       "    <tr>\n",
       "      <th>2</th>\n",
       "      <td>1.0</td>\n",
       "      <td>105590338.0</td>\n",
       "      <td>1.0</td>\n",
       "      <td>314015548.0</td>\n",
       "      <td>1.0</td>\n",
       "      <td>2044256.0</td>\n",
       "      <td>2020-01-10 10:17:00.510</td>\n",
       "    </tr>\n",
       "    <tr>\n",
       "      <th>3</th>\n",
       "      <td>1.0</td>\n",
       "      <td>105590338.0</td>\n",
       "      <td>1.0</td>\n",
       "      <td>314015548.0</td>\n",
       "      <td>1.0</td>\n",
       "      <td>2044256.0</td>\n",
       "      <td>2020-01-10 10:18:00.977</td>\n",
       "    </tr>\n",
       "    <tr>\n",
       "      <th>4</th>\n",
       "      <td>1.0</td>\n",
       "      <td>105590338.0</td>\n",
       "      <td>1.0</td>\n",
       "      <td>314015548.0</td>\n",
       "      <td>1.0</td>\n",
       "      <td>2044256.0</td>\n",
       "      <td>2020-01-10 10:19:00.610</td>\n",
       "    </tr>\n",
       "    <tr>\n",
       "      <th>...</th>\n",
       "      <td>...</td>\n",
       "      <td>...</td>\n",
       "      <td>...</td>\n",
       "      <td>...</td>\n",
       "      <td>...</td>\n",
       "      <td>...</td>\n",
       "      <td>...</td>\n",
       "    </tr>\n",
       "    <tr>\n",
       "      <th>160515</th>\n",
       "      <td>NaN</td>\n",
       "      <td>NaN</td>\n",
       "      <td>NaN</td>\n",
       "      <td>NaN</td>\n",
       "      <td>1.0</td>\n",
       "      <td>298126.0</td>\n",
       "      <td>2020-04-05 00:48:02.250</td>\n",
       "    </tr>\n",
       "    <tr>\n",
       "      <th>160516</th>\n",
       "      <td>NaN</td>\n",
       "      <td>NaN</td>\n",
       "      <td>NaN</td>\n",
       "      <td>NaN</td>\n",
       "      <td>1.0</td>\n",
       "      <td>298126.0</td>\n",
       "      <td>2020-04-05 02:07:01.027</td>\n",
       "    </tr>\n",
       "    <tr>\n",
       "      <th>160517</th>\n",
       "      <td>NaN</td>\n",
       "      <td>NaN</td>\n",
       "      <td>NaN</td>\n",
       "      <td>NaN</td>\n",
       "      <td>1.0</td>\n",
       "      <td>298126.0</td>\n",
       "      <td>2020-04-05 02:27:00.667</td>\n",
       "    </tr>\n",
       "    <tr>\n",
       "      <th>160518</th>\n",
       "      <td>NaN</td>\n",
       "      <td>NaN</td>\n",
       "      <td>NaN</td>\n",
       "      <td>NaN</td>\n",
       "      <td>1.0</td>\n",
       "      <td>298126.0</td>\n",
       "      <td>2020-04-05 03:25:00.270</td>\n",
       "    </tr>\n",
       "    <tr>\n",
       "      <th>160519</th>\n",
       "      <td>NaN</td>\n",
       "      <td>NaN</td>\n",
       "      <td>NaN</td>\n",
       "      <td>NaN</td>\n",
       "      <td>1.0</td>\n",
       "      <td>298126.0</td>\n",
       "      <td>2020-04-05 04:43:00.160</td>\n",
       "    </tr>\n",
       "  </tbody>\n",
       "</table>\n",
       "<p>160520 rows × 7 columns</p>\n",
       "</div>"
      ],
      "text/plain": [
       "        ASC_AntenaEvent  rowCount_ASC  BCL_TaskCreation  rowCount_BCL  \\\n",
       "0                   1.0   105590338.0               1.0   314015548.0   \n",
       "1                   1.0   105590338.0               1.0   314015548.0   \n",
       "2                   1.0   105590338.0               1.0   314015548.0   \n",
       "3                   1.0   105590338.0               1.0   314015548.0   \n",
       "4                   1.0   105590338.0               1.0   314015548.0   \n",
       "...                 ...           ...               ...           ...   \n",
       "160515              NaN           NaN               NaN           NaN   \n",
       "160516              NaN           NaN               NaN           NaN   \n",
       "160517              NaN           NaN               NaN           NaN   \n",
       "160518              NaN           NaN               NaN           NaN   \n",
       "160519              NaN           NaN               NaN           NaN   \n",
       "\n",
       "        DTTB_IncomeEvents  rowCount_DTTB        probingTimestamp  \n",
       "0                     1.0      2044256.0 2020-01-10 10:04:18.837  \n",
       "1                     1.0      2044256.0 2020-01-10 10:16:29.063  \n",
       "2                     1.0      2044256.0 2020-01-10 10:17:00.510  \n",
       "3                     1.0      2044256.0 2020-01-10 10:18:00.977  \n",
       "4                     1.0      2044256.0 2020-01-10 10:19:00.610  \n",
       "...                   ...            ...                     ...  \n",
       "160515                1.0       298126.0 2020-04-05 00:48:02.250  \n",
       "160516                1.0       298126.0 2020-04-05 02:07:01.027  \n",
       "160517                1.0       298126.0 2020-04-05 02:27:00.667  \n",
       "160518                1.0       298126.0 2020-04-05 03:25:00.270  \n",
       "160519                1.0       298126.0 2020-04-05 04:43:00.160  \n",
       "\n",
       "[160520 rows x 7 columns]"
      ]
     },
     "execution_count": 66,
     "metadata": {},
     "output_type": "execute_result"
    }
   ],
   "source": [
    "draft_dataset"
   ]
  },
  {
   "cell_type": "markdown",
   "metadata": {},
   "source": [
    "Here we can see side effect of merge: **NaN**. Let's see how it looks like:"
   ]
  },
  {
   "cell_type": "code",
   "execution_count": 67,
   "metadata": {},
   "outputs": [
    {
     "data": {
      "text/plain": [
       "ASC_AntenaEvent       9\n",
       "rowCount_ASC          9\n",
       "BCL_TaskCreation      7\n",
       "rowCount_BCL          7\n",
       "DTTB_IncomeEvents    46\n",
       "rowCount_DTTB        46\n",
       "probingTimestamp      0\n",
       "dtype: int64"
      ]
     },
     "execution_count": 67,
     "metadata": {},
     "output_type": "execute_result"
    }
   ],
   "source": [
    "draft_dataset.isna().sum()"
   ]
  },
  {
   "cell_type": "markdown",
   "metadata": {},
   "source": [
    "I colud replace NaN values using eg. \"0\", but number of NaN rows compared to the total amount of data is faint. \n",
    "In order to make things easier, I decided to remove them."
   ]
  },
  {
   "cell_type": "code",
   "execution_count": 68,
   "metadata": {},
   "outputs": [],
   "source": [
    "draft_dataset = draft_dataset.dropna()"
   ]
  },
  {
   "cell_type": "code",
   "execution_count": 69,
   "metadata": {},
   "outputs": [
    {
     "data": {
      "text/html": [
       "<div>\n",
       "<style scoped>\n",
       "    .dataframe tbody tr th:only-of-type {\n",
       "        vertical-align: middle;\n",
       "    }\n",
       "\n",
       "    .dataframe tbody tr th {\n",
       "        vertical-align: top;\n",
       "    }\n",
       "\n",
       "    .dataframe thead th {\n",
       "        text-align: right;\n",
       "    }\n",
       "</style>\n",
       "<table border=\"1\" class=\"dataframe\">\n",
       "  <thead>\n",
       "    <tr style=\"text-align: right;\">\n",
       "      <th></th>\n",
       "      <th>ASC_AntenaEvent</th>\n",
       "      <th>rowCount_ASC</th>\n",
       "      <th>BCL_TaskCreation</th>\n",
       "      <th>rowCount_BCL</th>\n",
       "      <th>DTTB_IncomeEvents</th>\n",
       "      <th>rowCount_DTTB</th>\n",
       "      <th>probingTimestamp</th>\n",
       "    </tr>\n",
       "  </thead>\n",
       "  <tbody>\n",
       "    <tr>\n",
       "      <th>0</th>\n",
       "      <td>1.0</td>\n",
       "      <td>105590338.0</td>\n",
       "      <td>1.0</td>\n",
       "      <td>314015548.0</td>\n",
       "      <td>1.0</td>\n",
       "      <td>2044256.0</td>\n",
       "      <td>2020-01-10 10:04:18.837</td>\n",
       "    </tr>\n",
       "    <tr>\n",
       "      <th>1</th>\n",
       "      <td>1.0</td>\n",
       "      <td>105590338.0</td>\n",
       "      <td>1.0</td>\n",
       "      <td>314015548.0</td>\n",
       "      <td>1.0</td>\n",
       "      <td>2044256.0</td>\n",
       "      <td>2020-01-10 10:16:29.063</td>\n",
       "    </tr>\n",
       "    <tr>\n",
       "      <th>2</th>\n",
       "      <td>1.0</td>\n",
       "      <td>105590338.0</td>\n",
       "      <td>1.0</td>\n",
       "      <td>314015548.0</td>\n",
       "      <td>1.0</td>\n",
       "      <td>2044256.0</td>\n",
       "      <td>2020-01-10 10:17:00.510</td>\n",
       "    </tr>\n",
       "    <tr>\n",
       "      <th>3</th>\n",
       "      <td>1.0</td>\n",
       "      <td>105590338.0</td>\n",
       "      <td>1.0</td>\n",
       "      <td>314015548.0</td>\n",
       "      <td>1.0</td>\n",
       "      <td>2044256.0</td>\n",
       "      <td>2020-01-10 10:18:00.977</td>\n",
       "    </tr>\n",
       "    <tr>\n",
       "      <th>4</th>\n",
       "      <td>1.0</td>\n",
       "      <td>105590338.0</td>\n",
       "      <td>1.0</td>\n",
       "      <td>314015548.0</td>\n",
       "      <td>1.0</td>\n",
       "      <td>2044256.0</td>\n",
       "      <td>2020-01-10 10:19:00.610</td>\n",
       "    </tr>\n",
       "    <tr>\n",
       "      <th>...</th>\n",
       "      <td>...</td>\n",
       "      <td>...</td>\n",
       "      <td>...</td>\n",
       "      <td>...</td>\n",
       "      <td>...</td>\n",
       "      <td>...</td>\n",
       "      <td>...</td>\n",
       "    </tr>\n",
       "    <tr>\n",
       "      <th>160506</th>\n",
       "      <td>1.0</td>\n",
       "      <td>201545824.0</td>\n",
       "      <td>1.0</td>\n",
       "      <td>289702943.0</td>\n",
       "      <td>1.0</td>\n",
       "      <td>323397.0</td>\n",
       "      <td>2020-05-02 07:56:00.117</td>\n",
       "    </tr>\n",
       "    <tr>\n",
       "      <th>160507</th>\n",
       "      <td>1.0</td>\n",
       "      <td>201545824.0</td>\n",
       "      <td>1.0</td>\n",
       "      <td>289702943.0</td>\n",
       "      <td>1.0</td>\n",
       "      <td>323397.0</td>\n",
       "      <td>2020-05-02 07:57:00.537</td>\n",
       "    </tr>\n",
       "    <tr>\n",
       "      <th>160508</th>\n",
       "      <td>1.0</td>\n",
       "      <td>201545824.0</td>\n",
       "      <td>1.0</td>\n",
       "      <td>289702943.0</td>\n",
       "      <td>1.0</td>\n",
       "      <td>323397.0</td>\n",
       "      <td>2020-05-02 07:58:00.083</td>\n",
       "    </tr>\n",
       "    <tr>\n",
       "      <th>160509</th>\n",
       "      <td>1.0</td>\n",
       "      <td>201545824.0</td>\n",
       "      <td>1.0</td>\n",
       "      <td>289702943.0</td>\n",
       "      <td>1.0</td>\n",
       "      <td>323397.0</td>\n",
       "      <td>2020-05-02 07:59:00.543</td>\n",
       "    </tr>\n",
       "    <tr>\n",
       "      <th>160510</th>\n",
       "      <td>1.0</td>\n",
       "      <td>201545824.0</td>\n",
       "      <td>1.0</td>\n",
       "      <td>289702943.0</td>\n",
       "      <td>1.0</td>\n",
       "      <td>323397.0</td>\n",
       "      <td>2020-05-02 08:00:00.120</td>\n",
       "    </tr>\n",
       "  </tbody>\n",
       "</table>\n",
       "<p>160467 rows × 7 columns</p>\n",
       "</div>"
      ],
      "text/plain": [
       "        ASC_AntenaEvent  rowCount_ASC  BCL_TaskCreation  rowCount_BCL  \\\n",
       "0                   1.0   105590338.0               1.0   314015548.0   \n",
       "1                   1.0   105590338.0               1.0   314015548.0   \n",
       "2                   1.0   105590338.0               1.0   314015548.0   \n",
       "3                   1.0   105590338.0               1.0   314015548.0   \n",
       "4                   1.0   105590338.0               1.0   314015548.0   \n",
       "...                 ...           ...               ...           ...   \n",
       "160506              1.0   201545824.0               1.0   289702943.0   \n",
       "160507              1.0   201545824.0               1.0   289702943.0   \n",
       "160508              1.0   201545824.0               1.0   289702943.0   \n",
       "160509              1.0   201545824.0               1.0   289702943.0   \n",
       "160510              1.0   201545824.0               1.0   289702943.0   \n",
       "\n",
       "        DTTB_IncomeEvents  rowCount_DTTB        probingTimestamp  \n",
       "0                     1.0      2044256.0 2020-01-10 10:04:18.837  \n",
       "1                     1.0      2044256.0 2020-01-10 10:16:29.063  \n",
       "2                     1.0      2044256.0 2020-01-10 10:17:00.510  \n",
       "3                     1.0      2044256.0 2020-01-10 10:18:00.977  \n",
       "4                     1.0      2044256.0 2020-01-10 10:19:00.610  \n",
       "...                   ...            ...                     ...  \n",
       "160506                1.0       323397.0 2020-05-02 07:56:00.117  \n",
       "160507                1.0       323397.0 2020-05-02 07:57:00.537  \n",
       "160508                1.0       323397.0 2020-05-02 07:58:00.083  \n",
       "160509                1.0       323397.0 2020-05-02 07:59:00.543  \n",
       "160510                1.0       323397.0 2020-05-02 08:00:00.120  \n",
       "\n",
       "[160467 rows x 7 columns]"
      ]
     },
     "execution_count": 69,
     "metadata": {},
     "output_type": "execute_result"
    }
   ],
   "source": [
    "draft_dataset"
   ]
  },
  {
   "cell_type": "code",
   "execution_count": 70,
   "metadata": {},
   "outputs": [],
   "source": [
    "draft_dataset = draft_dataset.sort_values(by='probingTimestamp')"
   ]
  },
  {
   "cell_type": "code",
   "execution_count": 71,
   "metadata": {},
   "outputs": [
    {
     "data": {
      "text/html": [
       "<div>\n",
       "<style scoped>\n",
       "    .dataframe tbody tr th:only-of-type {\n",
       "        vertical-align: middle;\n",
       "    }\n",
       "\n",
       "    .dataframe tbody tr th {\n",
       "        vertical-align: top;\n",
       "    }\n",
       "\n",
       "    .dataframe thead th {\n",
       "        text-align: right;\n",
       "    }\n",
       "</style>\n",
       "<table border=\"1\" class=\"dataframe\">\n",
       "  <thead>\n",
       "    <tr style=\"text-align: right;\">\n",
       "      <th></th>\n",
       "      <th>ASC_AntenaEvent</th>\n",
       "      <th>rowCount_ASC</th>\n",
       "      <th>BCL_TaskCreation</th>\n",
       "      <th>rowCount_BCL</th>\n",
       "      <th>DTTB_IncomeEvents</th>\n",
       "      <th>rowCount_DTTB</th>\n",
       "      <th>probingTimestamp</th>\n",
       "    </tr>\n",
       "  </thead>\n",
       "  <tbody>\n",
       "    <tr>\n",
       "      <th>0</th>\n",
       "      <td>1.0</td>\n",
       "      <td>105590338.0</td>\n",
       "      <td>1.0</td>\n",
       "      <td>314015548.0</td>\n",
       "      <td>1.0</td>\n",
       "      <td>2044256.0</td>\n",
       "      <td>2020-01-10 10:04:18.837</td>\n",
       "    </tr>\n",
       "    <tr>\n",
       "      <th>1</th>\n",
       "      <td>1.0</td>\n",
       "      <td>105590338.0</td>\n",
       "      <td>1.0</td>\n",
       "      <td>314015548.0</td>\n",
       "      <td>1.0</td>\n",
       "      <td>2044256.0</td>\n",
       "      <td>2020-01-10 10:16:29.063</td>\n",
       "    </tr>\n",
       "    <tr>\n",
       "      <th>2</th>\n",
       "      <td>1.0</td>\n",
       "      <td>105590338.0</td>\n",
       "      <td>1.0</td>\n",
       "      <td>314015548.0</td>\n",
       "      <td>1.0</td>\n",
       "      <td>2044256.0</td>\n",
       "      <td>2020-01-10 10:17:00.510</td>\n",
       "    </tr>\n",
       "    <tr>\n",
       "      <th>3</th>\n",
       "      <td>1.0</td>\n",
       "      <td>105590338.0</td>\n",
       "      <td>1.0</td>\n",
       "      <td>314015548.0</td>\n",
       "      <td>1.0</td>\n",
       "      <td>2044256.0</td>\n",
       "      <td>2020-01-10 10:18:00.977</td>\n",
       "    </tr>\n",
       "    <tr>\n",
       "      <th>4</th>\n",
       "      <td>1.0</td>\n",
       "      <td>105590338.0</td>\n",
       "      <td>1.0</td>\n",
       "      <td>314015548.0</td>\n",
       "      <td>1.0</td>\n",
       "      <td>2044256.0</td>\n",
       "      <td>2020-01-10 10:19:00.610</td>\n",
       "    </tr>\n",
       "    <tr>\n",
       "      <th>...</th>\n",
       "      <td>...</td>\n",
       "      <td>...</td>\n",
       "      <td>...</td>\n",
       "      <td>...</td>\n",
       "      <td>...</td>\n",
       "      <td>...</td>\n",
       "      <td>...</td>\n",
       "    </tr>\n",
       "    <tr>\n",
       "      <th>160506</th>\n",
       "      <td>1.0</td>\n",
       "      <td>201545824.0</td>\n",
       "      <td>1.0</td>\n",
       "      <td>289702943.0</td>\n",
       "      <td>1.0</td>\n",
       "      <td>323397.0</td>\n",
       "      <td>2020-05-02 07:56:00.117</td>\n",
       "    </tr>\n",
       "    <tr>\n",
       "      <th>160507</th>\n",
       "      <td>1.0</td>\n",
       "      <td>201545824.0</td>\n",
       "      <td>1.0</td>\n",
       "      <td>289702943.0</td>\n",
       "      <td>1.0</td>\n",
       "      <td>323397.0</td>\n",
       "      <td>2020-05-02 07:57:00.537</td>\n",
       "    </tr>\n",
       "    <tr>\n",
       "      <th>160508</th>\n",
       "      <td>1.0</td>\n",
       "      <td>201545824.0</td>\n",
       "      <td>1.0</td>\n",
       "      <td>289702943.0</td>\n",
       "      <td>1.0</td>\n",
       "      <td>323397.0</td>\n",
       "      <td>2020-05-02 07:58:00.083</td>\n",
       "    </tr>\n",
       "    <tr>\n",
       "      <th>160509</th>\n",
       "      <td>1.0</td>\n",
       "      <td>201545824.0</td>\n",
       "      <td>1.0</td>\n",
       "      <td>289702943.0</td>\n",
       "      <td>1.0</td>\n",
       "      <td>323397.0</td>\n",
       "      <td>2020-05-02 07:59:00.543</td>\n",
       "    </tr>\n",
       "    <tr>\n",
       "      <th>160510</th>\n",
       "      <td>1.0</td>\n",
       "      <td>201545824.0</td>\n",
       "      <td>1.0</td>\n",
       "      <td>289702943.0</td>\n",
       "      <td>1.0</td>\n",
       "      <td>323397.0</td>\n",
       "      <td>2020-05-02 08:00:00.120</td>\n",
       "    </tr>\n",
       "  </tbody>\n",
       "</table>\n",
       "<p>160467 rows × 7 columns</p>\n",
       "</div>"
      ],
      "text/plain": [
       "        ASC_AntenaEvent  rowCount_ASC  BCL_TaskCreation  rowCount_BCL  \\\n",
       "0                   1.0   105590338.0               1.0   314015548.0   \n",
       "1                   1.0   105590338.0               1.0   314015548.0   \n",
       "2                   1.0   105590338.0               1.0   314015548.0   \n",
       "3                   1.0   105590338.0               1.0   314015548.0   \n",
       "4                   1.0   105590338.0               1.0   314015548.0   \n",
       "...                 ...           ...               ...           ...   \n",
       "160506              1.0   201545824.0               1.0   289702943.0   \n",
       "160507              1.0   201545824.0               1.0   289702943.0   \n",
       "160508              1.0   201545824.0               1.0   289702943.0   \n",
       "160509              1.0   201545824.0               1.0   289702943.0   \n",
       "160510              1.0   201545824.0               1.0   289702943.0   \n",
       "\n",
       "        DTTB_IncomeEvents  rowCount_DTTB        probingTimestamp  \n",
       "0                     1.0      2044256.0 2020-01-10 10:04:18.837  \n",
       "1                     1.0      2044256.0 2020-01-10 10:16:29.063  \n",
       "2                     1.0      2044256.0 2020-01-10 10:17:00.510  \n",
       "3                     1.0      2044256.0 2020-01-10 10:18:00.977  \n",
       "4                     1.0      2044256.0 2020-01-10 10:19:00.610  \n",
       "...                   ...            ...                     ...  \n",
       "160506                1.0       323397.0 2020-05-02 07:56:00.117  \n",
       "160507                1.0       323397.0 2020-05-02 07:57:00.537  \n",
       "160508                1.0       323397.0 2020-05-02 07:58:00.083  \n",
       "160509                1.0       323397.0 2020-05-02 07:59:00.543  \n",
       "160510                1.0       323397.0 2020-05-02 08:00:00.120  \n",
       "\n",
       "[160467 rows x 7 columns]"
      ]
     },
     "execution_count": 71,
     "metadata": {},
     "output_type": "execute_result"
    }
   ],
   "source": [
    "draft_dataset"
   ]
  },
  {
   "cell_type": "markdown",
   "metadata": {},
   "source": [
    "### Correlation"
   ]
  },
  {
   "cell_type": "code",
   "execution_count": 72,
   "metadata": {},
   "outputs": [
    {
     "data": {
      "text/plain": [
       "<matplotlib.axes._subplots.AxesSubplot at 0x7fecc8ecea58>"
      ]
     },
     "execution_count": 72,
     "metadata": {},
     "output_type": "execute_result"
    },
    {
     "data": {
      "image/png": "[encoded data removed]",
      "text/plain": [
       "<Figure size 576x576 with 2 Axes>"
      ]
     },
     "metadata": {},
     "output_type": "display_data"
    }
   ],
   "source": [
    "correlation = draft_dataset.corr()\n",
    "\n",
    "import matplotlib.pyplot as plt\n",
    "fig = plt.subplots(figsize=(8,8))\n",
    "sns.heatmap(correlation,vmax=1,square=True,annot=True,cmap='Blues')"
   ]
  },
  {
   "cell_type": "markdown",
   "metadata": {},
   "source": [
    "As we can see above for one rowCount value there are many measurements of probingTimestamp. So, I'll try to group the data by rowCounts."
   ]
  },
  {
   "cell_type": "markdown",
   "metadata": {},
   "source": [
    "### Grouping by rowCount_ASC\n",
    "\n",
    "I would like to see an arrangement of probingTimestamp for rowCount."
   ]
  },
  {
   "cell_type": "code",
   "execution_count": 73,
   "metadata": {},
   "outputs": [],
   "source": [
    "probingTimestamp_per_rowcount_ASC = pd.DataFrame(draft_dataset, columns = ['rowCount_ASC','probingTimestamp'])"
   ]
  },
  {
   "cell_type": "code",
   "execution_count": 74,
   "metadata": {},
   "outputs": [],
   "source": [
    "probingTimestamp_per_rowcount_ASC = probingTimestamp_per_rowcount_ASC.groupby('rowCount_ASC').agg('count')"
   ]
  },
  {
   "cell_type": "code",
   "execution_count": 75,
   "metadata": {},
   "outputs": [],
   "source": [
    "probingTimestamp_per_rowcount_ASC = probingTimestamp_per_rowcount_ASC.sort_values(by='probingTimestamp')"
   ]
  },
  {
   "cell_type": "code",
   "execution_count": 76,
   "metadata": {},
   "outputs": [
    {
     "data": {
      "image/png": "[encoded data removed]",
      "text/plain": [
       "<Figure size 576x576 with 1 Axes>"
      ]
     },
     "metadata": {},
     "output_type": "display_data"
    }
   ],
   "source": [
    "sns.set() \n",
    "probingTimestamp_per_rowcount_ASC.hist(figsize=(8,8), color='blue') \n",
    "plt.show()"
   ]
  },
  {
   "cell_type": "markdown",
   "metadata": {},
   "source": [
    "probingTimestamp_per_rowcount_ASC = probingTimestamp_per_rowcount_ASC.reset_index()"
   ]
  },
  {
   "cell_type": "markdown",
   "metadata": {},
   "source": [
    "ASC_barplot = probingTimestamp_per_rowcount_ASC.plot.bar(x='rowCount_ASC', y='probingTimestamp', rot=0)"
   ]
  },
  {
   "cell_type": "markdown",
   "metadata": {},
   "source": [
    "### Wszystkie wykresy słupkowe oczywiście dopracuję"
   ]
  },
  {
   "cell_type": "markdown",
   "metadata": {},
   "source": [
    "### Grouping by rowCount_BCL"
   ]
  },
  {
   "cell_type": "code",
   "execution_count": 77,
   "metadata": {},
   "outputs": [],
   "source": [
    "probingTimestamp_per_rowcount_BCL = pd.DataFrame(draft_dataset, columns = ['rowCount_BCL','probingTimestamp'])"
   ]
  },
  {
   "cell_type": "code",
   "execution_count": 78,
   "metadata": {},
   "outputs": [],
   "source": [
    "probingTimestamp_per_rowcount_BCL = probingTimestamp_per_rowcount_BCL.groupby('rowCount_BCL').agg('count')"
   ]
  },
  {
   "cell_type": "code",
   "execution_count": 79,
   "metadata": {},
   "outputs": [],
   "source": [
    "probingTimestamp_per_rowcount_BCL = probingTimestamp_per_rowcount_BCL.sort_values(by='probingTimestamp')"
   ]
  },
  {
   "cell_type": "code",
   "execution_count": 80,
   "metadata": {},
   "outputs": [
    {
     "data": {
      "image/png": "[encoded data removed]",
      "text/plain": [
       "<Figure size 576x576 with 1 Axes>"
      ]
     },
     "metadata": {},
     "output_type": "display_data"
    }
   ],
   "source": [
    "sns.set() \n",
    "probingTimestamp_per_rowcount_BCL.hist(figsize=(8,8), color='blue') \n",
    "plt.show()"
   ]
  },
  {
   "cell_type": "code",
   "execution_count": 81,
   "metadata": {},
   "outputs": [],
   "source": [
    "probingTimestamp_per_rowcount_BCL = probingTimestamp_per_rowcount_BCL.reset_index()"
   ]
  },
  {
   "cell_type": "markdown",
   "metadata": {},
   "source": [
    "BCL_barplot = probingTimestamp_per_rowcount_BCL.plot.bar(x='rowCount_BCL', y='probingTimestamp', rot=0)"
   ]
  },
  {
   "cell_type": "markdown",
   "metadata": {},
   "source": [
    "### Grouping by rowCount_DTTB"
   ]
  },
  {
   "cell_type": "code",
   "execution_count": 82,
   "metadata": {},
   "outputs": [],
   "source": [
    "probingTimestamp_per_rowcount_DTTB = pd.DataFrame(draft_dataset, columns = ['rowCount_DTTB','probingTimestamp'])"
   ]
  },
  {
   "cell_type": "code",
   "execution_count": 83,
   "metadata": {},
   "outputs": [],
   "source": [
    "probingTimestamp_per_rowcount_DTTB = probingTimestamp_per_rowcount_DTTB.groupby('rowCount_DTTB').agg('count')"
   ]
  },
  {
   "cell_type": "code",
   "execution_count": 84,
   "metadata": {},
   "outputs": [],
   "source": [
    "probingTimestamp_per_rowcount_DTTB = probingTimestamp_per_rowcount_DTTB.sort_values(by='probingTimestamp')"
   ]
  },
  {
   "cell_type": "code",
   "execution_count": 85,
   "metadata": {},
   "outputs": [
    {
     "data": {
      "image/png": "[encoded data removed]",
      "text/plain": [
       "<Figure size 576x576 with 1 Axes>"
      ]
     },
     "metadata": {},
     "output_type": "display_data"
    }
   ],
   "source": [
    "sns.set() \n",
    "probingTimestamp_per_rowcount_DTTB.hist(figsize=(8,8), color='blue') \n",
    "plt.show()"
   ]
  },
  {
   "cell_type": "code",
   "execution_count": 86,
   "metadata": {},
   "outputs": [],
   "source": [
    "probingTimestamp_per_rowcount_DTTB = probingTimestamp_per_rowcount_DTTB.reset_index()"
   ]
  },
  {
   "cell_type": "markdown",
   "metadata": {},
   "source": [
    "DTTB_barplot = probingTimestamp_per_rowcount_DTTB.plot.bar(x='rowCount_DTTB', y='probingTimestamp', rot=0)"
   ]
  },
  {
   "cell_type": "markdown",
   "metadata": {},
   "source": [
    "## Differences between probingTimestamp values"
   ]
  },
  {
   "cell_type": "code",
   "execution_count": 87,
   "metadata": {},
   "outputs": [],
   "source": [
    "draft_dataset_diff = draft_dataset.copy(deep=True)"
   ]
  },
  {
   "cell_type": "code",
   "execution_count": 88,
   "metadata": {},
   "outputs": [],
   "source": [
    "draft_dataset_diff.probingTimestamp = pd.to_datetime(draft_dataset_diff.probingTimestamp)"
   ]
  },
  {
   "cell_type": "code",
   "execution_count": 89,
   "metadata": {},
   "outputs": [],
   "source": [
    "draft_dataset_diff['Difference'] = np.where(draft_dataset_diff.rowCount_ASC == draft_dataset_diff.rowCount_ASC.shift(), draft_dataset_diff.probingTimestamp - draft_dataset_diff.probingTimestamp.shift(), np.nan)"
   ]
  },
  {
   "cell_type": "code",
   "execution_count": 90,
   "metadata": {},
   "outputs": [
    {
     "data": {
      "text/html": [
       "<div>\n",
       "<style scoped>\n",
       "    .dataframe tbody tr th:only-of-type {\n",
       "        vertical-align: middle;\n",
       "    }\n",
       "\n",
       "    .dataframe tbody tr th {\n",
       "        vertical-align: top;\n",
       "    }\n",
       "\n",
       "    .dataframe thead th {\n",
       "        text-align: right;\n",
       "    }\n",
       "</style>\n",
       "<table border=\"1\" class=\"dataframe\">\n",
       "  <thead>\n",
       "    <tr style=\"text-align: right;\">\n",
       "      <th></th>\n",
       "      <th>ASC_AntenaEvent</th>\n",
       "      <th>rowCount_ASC</th>\n",
       "      <th>BCL_TaskCreation</th>\n",
       "      <th>rowCount_BCL</th>\n",
       "      <th>DTTB_IncomeEvents</th>\n",
       "      <th>rowCount_DTTB</th>\n",
       "      <th>probingTimestamp</th>\n",
       "      <th>Difference</th>\n",
       "    </tr>\n",
       "  </thead>\n",
       "  <tbody>\n",
       "    <tr>\n",
       "      <th>0</th>\n",
       "      <td>1.0</td>\n",
       "      <td>105590338.0</td>\n",
       "      <td>1.0</td>\n",
       "      <td>314015548.0</td>\n",
       "      <td>1.0</td>\n",
       "      <td>2044256.0</td>\n",
       "      <td>2020-01-10 10:04:18.837</td>\n",
       "      <td>NaT</td>\n",
       "    </tr>\n",
       "    <tr>\n",
       "      <th>1</th>\n",
       "      <td>1.0</td>\n",
       "      <td>105590338.0</td>\n",
       "      <td>1.0</td>\n",
       "      <td>314015548.0</td>\n",
       "      <td>1.0</td>\n",
       "      <td>2044256.0</td>\n",
       "      <td>2020-01-10 10:16:29.063</td>\n",
       "      <td>0 days 00:12:10.226000</td>\n",
       "    </tr>\n",
       "    <tr>\n",
       "      <th>2</th>\n",
       "      <td>1.0</td>\n",
       "      <td>105590338.0</td>\n",
       "      <td>1.0</td>\n",
       "      <td>314015548.0</td>\n",
       "      <td>1.0</td>\n",
       "      <td>2044256.0</td>\n",
       "      <td>2020-01-10 10:17:00.510</td>\n",
       "      <td>0 days 00:00:31.447000</td>\n",
       "    </tr>\n",
       "    <tr>\n",
       "      <th>3</th>\n",
       "      <td>1.0</td>\n",
       "      <td>105590338.0</td>\n",
       "      <td>1.0</td>\n",
       "      <td>314015548.0</td>\n",
       "      <td>1.0</td>\n",
       "      <td>2044256.0</td>\n",
       "      <td>2020-01-10 10:18:00.977</td>\n",
       "      <td>0 days 00:01:00.467000</td>\n",
       "    </tr>\n",
       "    <tr>\n",
       "      <th>4</th>\n",
       "      <td>1.0</td>\n",
       "      <td>105590338.0</td>\n",
       "      <td>1.0</td>\n",
       "      <td>314015548.0</td>\n",
       "      <td>1.0</td>\n",
       "      <td>2044256.0</td>\n",
       "      <td>2020-01-10 10:19:00.610</td>\n",
       "      <td>0 days 00:00:59.633000</td>\n",
       "    </tr>\n",
       "    <tr>\n",
       "      <th>...</th>\n",
       "      <td>...</td>\n",
       "      <td>...</td>\n",
       "      <td>...</td>\n",
       "      <td>...</td>\n",
       "      <td>...</td>\n",
       "      <td>...</td>\n",
       "      <td>...</td>\n",
       "      <td>...</td>\n",
       "    </tr>\n",
       "    <tr>\n",
       "      <th>160506</th>\n",
       "      <td>1.0</td>\n",
       "      <td>201545824.0</td>\n",
       "      <td>1.0</td>\n",
       "      <td>289702943.0</td>\n",
       "      <td>1.0</td>\n",
       "      <td>323397.0</td>\n",
       "      <td>2020-05-02 07:56:00.117</td>\n",
       "      <td>0 days 00:00:59.497000</td>\n",
       "    </tr>\n",
       "    <tr>\n",
       "      <th>160507</th>\n",
       "      <td>1.0</td>\n",
       "      <td>201545824.0</td>\n",
       "      <td>1.0</td>\n",
       "      <td>289702943.0</td>\n",
       "      <td>1.0</td>\n",
       "      <td>323397.0</td>\n",
       "      <td>2020-05-02 07:57:00.537</td>\n",
       "      <td>0 days 00:01:00.420000</td>\n",
       "    </tr>\n",
       "    <tr>\n",
       "      <th>160508</th>\n",
       "      <td>1.0</td>\n",
       "      <td>201545824.0</td>\n",
       "      <td>1.0</td>\n",
       "      <td>289702943.0</td>\n",
       "      <td>1.0</td>\n",
       "      <td>323397.0</td>\n",
       "      <td>2020-05-02 07:58:00.083</td>\n",
       "      <td>0 days 00:00:59.546000</td>\n",
       "    </tr>\n",
       "    <tr>\n",
       "      <th>160509</th>\n",
       "      <td>1.0</td>\n",
       "      <td>201545824.0</td>\n",
       "      <td>1.0</td>\n",
       "      <td>289702943.0</td>\n",
       "      <td>1.0</td>\n",
       "      <td>323397.0</td>\n",
       "      <td>2020-05-02 07:59:00.543</td>\n",
       "      <td>0 days 00:01:00.460000</td>\n",
       "    </tr>\n",
       "    <tr>\n",
       "      <th>160510</th>\n",
       "      <td>1.0</td>\n",
       "      <td>201545824.0</td>\n",
       "      <td>1.0</td>\n",
       "      <td>289702943.0</td>\n",
       "      <td>1.0</td>\n",
       "      <td>323397.0</td>\n",
       "      <td>2020-05-02 08:00:00.120</td>\n",
       "      <td>0 days 00:00:59.577000</td>\n",
       "    </tr>\n",
       "  </tbody>\n",
       "</table>\n",
       "<p>160467 rows × 8 columns</p>\n",
       "</div>"
      ],
      "text/plain": [
       "        ASC_AntenaEvent  rowCount_ASC  BCL_TaskCreation  rowCount_BCL  \\\n",
       "0                   1.0   105590338.0               1.0   314015548.0   \n",
       "1                   1.0   105590338.0               1.0   314015548.0   \n",
       "2                   1.0   105590338.0               1.0   314015548.0   \n",
       "3                   1.0   105590338.0               1.0   314015548.0   \n",
       "4                   1.0   105590338.0               1.0   314015548.0   \n",
       "...                 ...           ...               ...           ...   \n",
       "160506              1.0   201545824.0               1.0   289702943.0   \n",
       "160507              1.0   201545824.0               1.0   289702943.0   \n",
       "160508              1.0   201545824.0               1.0   289702943.0   \n",
       "160509              1.0   201545824.0               1.0   289702943.0   \n",
       "160510              1.0   201545824.0               1.0   289702943.0   \n",
       "\n",
       "        DTTB_IncomeEvents  rowCount_DTTB        probingTimestamp  \\\n",
       "0                     1.0      2044256.0 2020-01-10 10:04:18.837   \n",
       "1                     1.0      2044256.0 2020-01-10 10:16:29.063   \n",
       "2                     1.0      2044256.0 2020-01-10 10:17:00.510   \n",
       "3                     1.0      2044256.0 2020-01-10 10:18:00.977   \n",
       "4                     1.0      2044256.0 2020-01-10 10:19:00.610   \n",
       "...                   ...            ...                     ...   \n",
       "160506                1.0       323397.0 2020-05-02 07:56:00.117   \n",
       "160507                1.0       323397.0 2020-05-02 07:57:00.537   \n",
       "160508                1.0       323397.0 2020-05-02 07:58:00.083   \n",
       "160509                1.0       323397.0 2020-05-02 07:59:00.543   \n",
       "160510                1.0       323397.0 2020-05-02 08:00:00.120   \n",
       "\n",
       "                   Difference  \n",
       "0                         NaT  \n",
       "1      0 days 00:12:10.226000  \n",
       "2      0 days 00:00:31.447000  \n",
       "3      0 days 00:01:00.467000  \n",
       "4      0 days 00:00:59.633000  \n",
       "...                       ...  \n",
       "160506 0 days 00:00:59.497000  \n",
       "160507 0 days 00:01:00.420000  \n",
       "160508 0 days 00:00:59.546000  \n",
       "160509 0 days 00:01:00.460000  \n",
       "160510 0 days 00:00:59.577000  \n",
       "\n",
       "[160467 rows x 8 columns]"
      ]
     },
     "execution_count": 90,
     "metadata": {},
     "output_type": "execute_result"
    }
   ],
   "source": [
    "draft_dataset_diff"
   ]
  },
  {
   "cell_type": "markdown",
   "metadata": {},
   "source": [
    "# Data analysis"
   ]
  },
  {
   "cell_type": "markdown",
   "metadata": {},
   "source": [
    "## ASC"
   ]
  },
  {
   "cell_type": "code",
   "execution_count": 91,
   "metadata": {},
   "outputs": [
    {
     "data": {
      "text/plain": [
       "ASC_AntenaEvent             float64\n",
       "rowCount_ASC                float64\n",
       "BCL_TaskCreation            float64\n",
       "rowCount_BCL                float64\n",
       "DTTB_IncomeEvents           float64\n",
       "rowCount_DTTB               float64\n",
       "probingTimestamp     datetime64[ns]\n",
       "dtype: object"
      ]
     },
     "execution_count": 91,
     "metadata": {},
     "output_type": "execute_result"
    }
   ],
   "source": [
    "draft_dataset.dtypes"
   ]
  },
  {
   "cell_type": "code",
   "execution_count": 92,
   "metadata": {},
   "outputs": [
    {
     "data": {
      "text/plain": [
       "<matplotlib.axes._subplots.AxesSubplot at 0x7fecc8c85e80>"
      ]
     },
     "execution_count": 92,
     "metadata": {},
     "output_type": "execute_result"
    },
    {
     "data": {
      "image/png": "[encoded data removed]",
      "text/plain": [
       "<Figure size 720x360 with 1 Axes>"
      ]
     },
     "metadata": {},
     "output_type": "display_data"
    }
   ],
   "source": [
    "draft_dataset['rowCount_ASC'].plot(figsize=(10,5), title = \"ASC rowCount\")"
   ]
  },
  {
   "cell_type": "code",
   "execution_count": 93,
   "metadata": {},
   "outputs": [
    {
     "data": {
      "text/plain": [
       "<matplotlib.axes._subplots.AxesSubplot at 0x7fecc8cf1748>"
      ]
     },
     "execution_count": 93,
     "metadata": {},
     "output_type": "execute_result"
    },
    {
     "data": {
      "image/png": "[encoded data removed]",
      "text/plain": [
       "<Figure size 720x360 with 1 Axes>"
      ]
     },
     "metadata": {},
     "output_type": "display_data"
    }
   ],
   "source": [
    "draft_dataset['rowCount_BCL'].plot(figsize=(10,5), title = \"BCL rowCount\")"
   ]
  },
  {
   "cell_type": "code",
   "execution_count": 94,
   "metadata": {},
   "outputs": [
    {
     "data": {
      "text/plain": [
       "<matplotlib.axes._subplots.AxesSubplot at 0x7fecc8f3b4e0>"
      ]
     },
     "execution_count": 94,
     "metadata": {},
     "output_type": "execute_result"
    },
    {
     "data": {
      "image/png": "[encoded data removed]",
      "text/plain": [
       "<Figure size 720x360 with 1 Axes>"
      ]
     },
     "metadata": {},
     "output_type": "display_data"
    }
   ],
   "source": [
    "draft_dataset['rowCount_DTTB'].plot(figsize=(10,5), title = \"DTTB rowCount\")"
   ]
  },
  {
   "cell_type": "code",
   "execution_count": 95,
   "metadata": {},
   "outputs": [
    {
     "data": {
      "image/png": "[encoded data removed]",
      "text/plain": [
       "<Figure size 720x360 with 1 Axes>"
      ]
     },
     "metadata": {},
     "output_type": "display_data"
    }
   ],
   "source": [
    "draft_dataset['rowCount_ASC'].plot(figsize=(10,5))\n",
    "draft_dataset['rowCount_BCL'].plot(figsize=(10,5))\n",
    "draft_dataset['rowCount_DTTB'].plot(figsize=(10,5))\n",
    "plt.title(\"RowCounts in time line\")\n",
    "plt.legend(bbox_to_anchor=(1.05, 1), loc=2, borderaxespad=0.)\n",
    "plt.show()"
   ]
  },
  {
   "cell_type": "markdown",
   "metadata": {},
   "source": [
    "### Autocorrelation"
   ]
  },
  {
   "cell_type": "markdown",
   "metadata": {},
   "source": [
    "#### ASC"
   ]
  },
  {
   "cell_type": "code",
   "execution_count": 96,
   "metadata": {},
   "outputs": [],
   "source": [
    "lag = range(0,31)\n",
    "ASC_acf = []\n",
    "for l in lag:\n",
    "    ASC_acf.append(draft_dataset['rowCount_ASC'].autocorr(l))"
   ]
  },
  {
   "cell_type": "code",
   "execution_count": 97,
   "metadata": {},
   "outputs": [
    {
     "data": {
      "text/plain": [
       "Text(0.5, 1.0, 'Autocorrelation function for ASC')"
      ]
     },
     "execution_count": 97,
     "metadata": {},
     "output_type": "execute_result"
    },
    {
     "data": {
      "image/png": "[encoded data removed]",
      "text/plain": [
       "<Figure size 396x396 with 1 Axes>"
      ]
     },
     "metadata": {},
     "output_type": "display_data"
    }
   ],
   "source": [
    "plt.figure(figsize=(5.5, 5.5))\n",
    "plt.plot(ASC_acf, marker='.', color='b')\n",
    "plt.title('Autocorrelation function for ASC')"
   ]
  },
  {
   "cell_type": "code",
   "execution_count": 98,
   "metadata": {},
   "outputs": [
    {
     "data": {
      "image/png": "[encoded data removed]",
      "text/plain": [
       "<Figure size 432x288 with 1 Axes>"
      ]
     },
     "metadata": {},
     "output_type": "display_data"
    }
   ],
   "source": [
    "tsaplots.plot_acf(draft_dataset['rowCount_ASC'], lags=30)\n",
    "plt.show()"
   ]
  },
  {
   "cell_type": "markdown",
   "metadata": {},
   "source": [
    "#### BCL"
   ]
  },
  {
   "cell_type": "code",
   "execution_count": 99,
   "metadata": {},
   "outputs": [],
   "source": [
    "BCL_acf = []\n",
    "for l in lag:\n",
    "    BCL_acf.append(draft_dataset['rowCount_BCL'].autocorr(l))"
   ]
  },
  {
   "cell_type": "code",
   "execution_count": 100,
   "metadata": {},
   "outputs": [
    {
     "data": {
      "text/plain": [
       "Text(0.5, 1.0, 'Autocorrelation function for BCL')"
      ]
     },
     "execution_count": 100,
     "metadata": {},
     "output_type": "execute_result"
    },
    {
     "data": {
      "image/png": "[encoded data removed]",
      "text/plain": [
       "<Figure size 396x396 with 1 Axes>"
      ]
     },
     "metadata": {},
     "output_type": "display_data"
    }
   ],
   "source": [
    "plt.figure(figsize=(5.5, 5.5))\n",
    "plt.plot(BCL_acf, marker='.', color='b')\n",
    "plt.title('Autocorrelation function for BCL')"
   ]
  },
  {
   "cell_type": "code",
   "execution_count": 101,
   "metadata": {},
   "outputs": [
    {
     "data": {
      "image/png": "[encoded data removed]",
      "text/plain": [
       "<Figure size 432x288 with 1 Axes>"
      ]
     },
     "metadata": {},
     "output_type": "display_data"
    }
   ],
   "source": [
    "tsaplots.plot_acf(draft_dataset['rowCount_BCL'], lags=30)\n",
    "plt.show()"
   ]
  },
  {
   "cell_type": "markdown",
   "metadata": {},
   "source": [
    "#### DTTB"
   ]
  },
  {
   "cell_type": "code",
   "execution_count": 102,
   "metadata": {},
   "outputs": [],
   "source": [
    "DTTB_acf = []\n",
    "for l in lag:\n",
    "    DTTB_acf.append(draft_dataset['rowCount_DTTB'].autocorr(l))"
   ]
  },
  {
   "cell_type": "code",
   "execution_count": 103,
   "metadata": {},
   "outputs": [
    {
     "data": {
      "text/plain": [
       "Text(0.5, 1.0, 'Autocorrelation function for DTTB')"
      ]
     },
     "execution_count": 103,
     "metadata": {},
     "output_type": "execute_result"
    },
    {
     "data": {
      "image/png": "[encoded data removed]",
      "text/plain": [
       "<Figure size 396x396 with 1 Axes>"
      ]
     },
     "metadata": {},
     "output_type": "display_data"
    }
   ],
   "source": [
    "plt.figure(figsize=(5.5, 5.5))\n",
    "plt.plot(DTTB_acf, marker='.', color='b')\n",
    "plt.title('Autocorrelation function for DTTB')"
   ]
  },
  {
   "cell_type": "code",
   "execution_count": 104,
   "metadata": {},
   "outputs": [
    {
     "data": {
      "image/png": "[encoded data removed]",
      "text/plain": [
       "<Figure size 432x288 with 1 Axes>"
      ]
     },
     "metadata": {},
     "output_type": "display_data"
    }
   ],
   "source": [
    "tsaplots.plot_acf(draft_dataset['rowCount_DTTB'], lags=30)\n",
    "plt.show()"
   ]
  },
  {
   "cell_type": "markdown",
   "metadata": {},
   "source": [
    "# Models"
   ]
  },
  {
   "cell_type": "markdown",
   "metadata": {},
   "source": [
    "## Autoregression (AR)"
   ]
  },
  {
   "cell_type": "code",
   "execution_count": null,
   "metadata": {},
   "outputs": [],
   "source": [
    "from statsmodels.tsa.ar_model import AutoReg"
   ]
  },
  {
   "cell_type": "markdown",
   "metadata": {},
   "source": [
    "### ASC"
   ]
  },
  {
   "cell_type": "code",
   "execution_count": 111,
   "metadata": {},
   "outputs": [
    {
     "name": "stdout",
     "output_type": "stream",
     "text": [
      "[2.01546045e+08]\n"
     ]
    },
    {
     "name": "stderr",
     "output_type": "stream",
     "text": [
      "/home/katarzyna/.local/lib/python3.7/site-packages/statsmodels/tsa/ar_model.py:252: FutureWarning: The parameter names will change after 0.12 is released. Set old_names to False to use the new names now. Set old_names to True to use the old names. \n",
      "  FutureWarning,\n"
     ]
    }
   ],
   "source": [
    "data_AR_ASC = draft_dataset['rowCount_ASC'].values\n",
    "\n",
    "model_AR_ASC = AutoReg(data_AR_ASC, lags=1)\n",
    "model_fit_AR_ASC = model_AR_ASC.fit()\n",
    "\n",
    "yhat_AR_ASC = model_fit_AR_ASC.predict(len(data_AR_ASC), len(data_AR_ASC))\n",
    "print(yhat_AR_ASC)"
   ]
  },
  {
   "cell_type": "markdown",
   "metadata": {},
   "source": [
    "#### Metrics:"
   ]
  },
  {
   "cell_type": "code",
   "execution_count": 1,
   "metadata": {},
   "outputs": [],
   "source": [
    "# Mean Absolute Percentage Error\n",
    "def MAPE(Y_actual,Y_Predicted):\n",
    "    mape = np.mean(np.abs((Y_actual - Y_Predicted)/Y_actual))*100\n",
    "    return mape\n",
    "\n",
    "# or:\n",
    "from sklearn.metrics import mean_absolute_percentage_error\n",
    "y_true = [?]\n",
    "y_pred = [?]\n",
    "mean_absolute_percentage_error(y_true, y_pred)"
   ]
  },
  {
   "cell_type": "code",
   "execution_count": null,
   "metadata": {},
   "outputs": [],
   "source": [
    "# Mean Error\n",
    "def ME(y, y_pred):\n",
    "    me = np.mean(y_pred - y)\n",
    "    return me"
   ]
  },
  {
   "cell_type": "code",
   "execution_count": null,
   "metadata": {},
   "outputs": [],
   "source": [
    "# Mean Absolute Error\n",
    "from sklearn.metrics import mean_absolute_error\n",
    "y_true = [?]\n",
    "y_pred = [?]\n",
    "mean_absolute_error(y_true, y_pred)"
   ]
  },
  {
   "cell_type": "code",
   "execution_count": null,
   "metadata": {},
   "outputs": [],
   "source": [
    "# Mean Percentage Error\n",
    "def MPE(actual: np.ndarray, predicted: np.ndarray):\n",
    "    mpe = np.mean(_percentage_error(actual, predicted))\n",
    "    return mpe"
   ]
  },
  {
   "cell_type": "code",
   "execution_count": null,
   "metadata": {},
   "outputs": [],
   "source": [
    "# Root Mean Squared Error\n",
    "from sklearn.metrics import mean_squared_error\n",
    "import math\n",
    "y_actual = [?]\n",
    "y_predicted = [?]\n",
    " \n",
    "MSE = mean_squared_error(y_actual, y_predicted)\n",
    " \n",
    "RMSE = math.sqrt(MSE)\n",
    "print(\"Root Mean Square Error:\\n\")\n",
    "print(RMSE)"
   ]
  },
  {
   "cell_type": "markdown",
   "metadata": {},
   "source": [
    "### BCL"
   ]
  },
  {
   "cell_type": "code",
   "execution_count": 112,
   "metadata": {},
   "outputs": [
    {
     "name": "stdout",
     "output_type": "stream",
     "text": [
      "[2.89702748e+08]\n"
     ]
    },
    {
     "name": "stderr",
     "output_type": "stream",
     "text": [
      "/home/katarzyna/.local/lib/python3.7/site-packages/statsmodels/tsa/ar_model.py:252: FutureWarning: The parameter names will change after 0.12 is released. Set old_names to False to use the new names now. Set old_names to True to use the old names. \n",
      "  FutureWarning,\n"
     ]
    }
   ],
   "source": [
    "data_AR_BCL = draft_dataset['rowCount_BCL'].values\n",
    "\n",
    "model_AR_BCL = AutoReg(data_AR_BCL, lags=1)\n",
    "model_fit_AR_BCL = model_AR_BCL.fit()\n",
    "\n",
    "yhat_AR_BCL = model_fit_AR_BCL.predict(len(data_AR_BCL), len(data_AR_BCL))\n",
    "print(yhat_AR_BCL)"
   ]
  },
  {
   "cell_type": "markdown",
   "metadata": {},
   "source": [
    "### DTTB"
   ]
  },
  {
   "cell_type": "code",
   "execution_count": 113,
   "metadata": {},
   "outputs": [
    {
     "name": "stdout",
     "output_type": "stream",
     "text": [
      "[323401.17811865]\n"
     ]
    },
    {
     "name": "stderr",
     "output_type": "stream",
     "text": [
      "/home/katarzyna/.local/lib/python3.7/site-packages/statsmodels/tsa/ar_model.py:252: FutureWarning: The parameter names will change after 0.12 is released. Set old_names to False to use the new names now. Set old_names to True to use the old names. \n",
      "  FutureWarning,\n"
     ]
    }
   ],
   "source": [
    "data_AR_DTTB = draft_dataset['rowCount_DTTB'].values\n",
    "\n",
    "model_AR_DTTB = AutoReg(data_AR_DTTB, lags=1)\n",
    "model_fit_AR_DTTB = model_AR_DTTB.fit()\n",
    "\n",
    "yhat_AR_DTTB = model_fit_AR_DTTB.predict(len(data_AR_DTTB), len(data_AR_DTTB))\n",
    "print(yhat_AR_DTTB)"
   ]
  },
  {
   "cell_type": "markdown",
   "metadata": {},
   "source": [
    "## Moving Average (MA)"
   ]
  },
  {
   "cell_type": "code",
   "execution_count": 115,
   "metadata": {},
   "outputs": [],
   "source": [
    "from statsmodels.tsa.arima.model import ARIMA"
   ]
  },
  {
   "cell_type": "markdown",
   "metadata": {},
   "source": [
    "### ASC"
   ]
  },
  {
   "cell_type": "code",
   "execution_count": 118,
   "metadata": {},
   "outputs": [
    {
     "name": "stdout",
     "output_type": "stream",
     "text": [
      "[1.86898547e+08]\n"
     ]
    }
   ],
   "source": [
    "data_MA_ASC = draft_dataset['rowCount_ASC'].values\n",
    "\n",
    "model_MA_ASC = ARIMA(data_MA_ASC, order=(0, 0, 1))\n",
    "model_fit_MA_ASC = model_MA_ASC.fit()\n",
    "\n",
    "yhat_MA_ASC = model_fit_MA_ASC.predict(len(data_MA_ASC), len(data_MA_ASC))\n",
    "print(yhat_MA_ASC)"
   ]
  },
  {
   "cell_type": "markdown",
   "metadata": {},
   "source": [
    "### BCL"
   ]
  },
  {
   "cell_type": "code",
   "execution_count": 117,
   "metadata": {},
   "outputs": [
    {
     "name": "stderr",
     "output_type": "stream",
     "text": [
      "/home/katarzyna/.local/lib/python3.7/site-packages/statsmodels/tsa/statespace/sarimax.py:978: UserWarning: Non-invertible starting MA parameters found. Using zeros as starting parameters.\n",
      "  warn('Non-invertible starting MA parameters found.'\n"
     ]
    },
    {
     "name": "stdout",
     "output_type": "stream",
     "text": [
      "[2.98892835e+08]\n"
     ]
    }
   ],
   "source": [
    "data_MA_BCL = draft_dataset['rowCount_BCL'].values\n",
    "\n",
    "model_MA_BCL = ARIMA(data_MA_BCL, order=(0, 0, 1))\n",
    "model_fit_MA_BCL = model_MA_BCL.fit()\n",
    "\n",
    "yhat_MA_BCL = model_fit_MA_BCL.predict(len(data_MA_BCL), len(data_MA_BCL))\n",
    "print(yhat_MA_BCL)"
   ]
  },
  {
   "cell_type": "markdown",
   "metadata": {},
   "source": [
    "### DTTB"
   ]
  },
  {
   "cell_type": "code",
   "execution_count": 116,
   "metadata": {},
   "outputs": [
    {
     "name": "stdout",
     "output_type": "stream",
     "text": [
      "[464967.78838476]\n"
     ]
    }
   ],
   "source": [
    "data_MA_DTTB = draft_dataset['rowCount_DTTB'].values\n",
    "\n",
    "model_MA_DTTB = ARIMA(data_MA_DTTB, order=(0, 0, 1))\n",
    "model_fit_MA_DTTB = model_MA_DTTB.fit()\n",
    "\n",
    "yhat_MA_DTTB = model_fit_MA_DTTB.predict(len(data_MA_DTTB), len(data_MA_DTTB))\n",
    "print(yhat_MA_DTTB)"
   ]
  },
  {
   "cell_type": "markdown",
   "metadata": {},
   "source": [
    "## Autoregressive Moving Average (ARMA)"
   ]
  },
  {
   "cell_type": "markdown",
   "metadata": {},
   "source": [
    "### ASC"
   ]
  },
  {
   "cell_type": "code",
   "execution_count": 119,
   "metadata": {},
   "outputs": [
    {
     "name": "stdout",
     "output_type": "stream",
     "text": [
      "[2.01545806e+08]\n"
     ]
    }
   ],
   "source": [
    "data_ARMA_ASC = draft_dataset['rowCount_ASC'].values\n",
    "\n",
    "model_ARMA_ASC = ARIMA(data_ARMA_ASC, order=(2, 0, 1))\n",
    "model_fit_ARMA_ASC = model_ARMA_ASC.fit()\n",
    "\n",
    "yhat_ARMA_ASC = model_fit_ARMA_ASC.predict(len(data_ARMA_ASC), len(data_ARMA_ASC))\n",
    "print(yhat_ARMA_ASC)"
   ]
  },
  {
   "cell_type": "markdown",
   "metadata": {},
   "source": [
    "### BCL"
   ]
  },
  {
   "cell_type": "code",
   "execution_count": 120,
   "metadata": {},
   "outputs": [
    {
     "name": "stdout",
     "output_type": "stream",
     "text": [
      "[2.89702946e+08]\n"
     ]
    }
   ],
   "source": [
    "data_ARMA_BCL = draft_dataset['rowCount_BCL'].values\n",
    "\n",
    "model_ARMA_BCL = ARIMA(data_ARMA_BCL, order=(2, 0, 1))\n",
    "model_fit_ARMA_BCL = model_ARMA_BCL.fit()\n",
    "\n",
    "yhat_ARMA_BCL = model_fit_ARMA_BCL.predict(len(data_ARMA_BCL), len(data_ARMA_BCL))\n",
    "print(yhat_ARMA_BCL)"
   ]
  },
  {
   "cell_type": "markdown",
   "metadata": {},
   "source": [
    "### DTTB"
   ]
  },
  {
   "cell_type": "code",
   "execution_count": 121,
   "metadata": {},
   "outputs": [
    {
     "name": "stdout",
     "output_type": "stream",
     "text": [
      "[323409.13633538]\n"
     ]
    }
   ],
   "source": [
    "data_ARMA_DTTB = draft_dataset['rowCount_DTTB'].values\n",
    "\n",
    "model_ARMA_DTTB = ARIMA(data_ARMA_DTTB, order=(2, 0, 1))\n",
    "model_fit_ARMA_DTTB = model_ARMA_DTTB.fit()\n",
    "\n",
    "yhat_ARMA_DTTB = model_fit_ARMA_DTTB.predict(len(data_ARMA_DTTB), len(data_ARMA_DTTB))\n",
    "print(yhat_ARMA_DTTB)"
   ]
  },
  {
   "cell_type": "markdown",
   "metadata": {},
   "source": [
    "## Autoregressive Integrated Moving Average (ARIMA)"
   ]
  },
  {
   "cell_type": "markdown",
   "metadata": {},
   "source": [
    "### ASC"
   ]
  },
  {
   "cell_type": "code",
   "execution_count": 122,
   "metadata": {},
   "outputs": [
    {
     "name": "stdout",
     "output_type": "stream",
     "text": [
      "[2.01545824e+08]\n"
     ]
    }
   ],
   "source": [
    "data_ARMIA_ASC = draft_dataset['rowCount_ASC'].values\n",
    "\n",
    "model_ARMIA_ASC = ARIMA(data_ARMIA_ASC, order=(1, 1, 1))\n",
    "model_fit_ARMIA_ASC = model_ARMIA_ASC.fit()\n",
    "\n",
    "yhat_ARMIA_ASC = model_fit_ARMIA_ASC.predict(len(data_ARMIA_ASC), len(data_ARMIA_ASC), typ='levels')\n",
    "print(yhat_ARMIA_ASC)"
   ]
  },
  {
   "cell_type": "markdown",
   "metadata": {},
   "source": [
    "### BCL"
   ]
  },
  {
   "cell_type": "code",
   "execution_count": 123,
   "metadata": {},
   "outputs": [
    {
     "name": "stderr",
     "output_type": "stream",
     "text": [
      "/home/katarzyna/.local/lib/python3.7/site-packages/statsmodels/base/model.py:568: ConvergenceWarning: Maximum Likelihood optimization failed to converge. Check mle_retvals\n",
      "  ConvergenceWarning)\n"
     ]
    },
    {
     "name": "stdout",
     "output_type": "stream",
     "text": [
      "[2.89702956e+08]\n"
     ]
    }
   ],
   "source": [
    "data_ARMIA_BCL = draft_dataset['rowCount_BCL'].values\n",
    "\n",
    "model_ARMIA_BCL = ARIMA(data_ARMIA_BCL, order=(1, 1, 1))\n",
    "model_fit_ARMIA_BCL = model_ARMIA_BCL.fit()\n",
    "\n",
    "yhat_ARMIA_BCL = model_fit_ARMIA_BCL.predict(len(data_ARMIA_BCL), len(data_ARMIA_BCL), typ='levels')\n",
    "print(yhat_ARMIA_BCL)"
   ]
  },
  {
   "cell_type": "markdown",
   "metadata": {},
   "source": [
    "### DTTB"
   ]
  },
  {
   "cell_type": "code",
   "execution_count": 126,
   "metadata": {},
   "outputs": [
    {
     "name": "stdout",
     "output_type": "stream",
     "text": [
      "[323397.]\n"
     ]
    }
   ],
   "source": [
    "data_ARIMA_DTTB = draft_dataset['rowCount_DTTB'].values\n",
    "\n",
    "model_ARMIA_DTTB = ARIMA(data_ARIMA_DTTB, order=(1, 1, 1))\n",
    "model_fit_ARMIA_DTTB = model_ARMIA_DTTB.fit()\n",
    "\n",
    "yhat_ARMIA_DTTB = model_fit_ARMIA_DTTB.predict(len(data_ARMIA_DTTB), len(data_ARMIA_DTTB), typ='levels')\n",
    "print(yhat_ARMIA_DTTB)"
   ]
  }
 ],
 "metadata": {
  "kernelspec": {
   "display_name": "Python 3",
   "language": "python",
   "name": "python3"
  },
  "language_info": {
   "codemirror_mode": {
    "name": "ipython",
    "version": 3
   },
   "file_extension": ".py",
   "mimetype": "text/x-python",
   "name": "python",
   "nbconvert_exporter": "python",
   "pygments_lexer": "ipython3",
   "version": "3.7.3"
  }
 },
 "nbformat": 4,
 "nbformat_minor": 2
}
