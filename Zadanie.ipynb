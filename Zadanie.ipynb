{
 "cells": [
  {
   "cell_type": "code",
   "execution_count": 1,
   "metadata": {},
   "outputs": [],
   "source": [
    "import pandas as pd\n",
    "import seaborn as sns\n",
    "import matplotlib.pyplot as plt\n",
    "import numpy as np"
   ]
  },
  {
   "cell_type": "code",
   "execution_count": 88,
   "metadata": {},
   "outputs": [],
   "source": [
    "pd.set_option('display.max_rows', 1000)"
   ]
  },
  {
   "cell_type": "markdown",
   "metadata": {},
   "source": [
    "## First look at the data:"
   ]
  },
  {
   "cell_type": "markdown",
   "metadata": {},
   "source": [
    "### ASC_AntenaEvent"
   ]
  },
  {
   "cell_type": "code",
   "execution_count": 2,
   "metadata": {},
   "outputs": [],
   "source": [
    "ASC = pd.read_csv(\"ASC_AntenaEvent.csv\", sep=';')"
   ]
  },
  {
   "cell_type": "code",
   "execution_count": 3,
   "metadata": {},
   "outputs": [
    {
     "data": {
      "text/html": [
       "<div>\n",
       "<style scoped>\n",
       "    .dataframe tbody tr th:only-of-type {\n",
       "        vertical-align: middle;\n",
       "    }\n",
       "\n",
       "    .dataframe tbody tr th {\n",
       "        vertical-align: top;\n",
       "    }\n",
       "\n",
       "    .dataframe thead th {\n",
       "        text-align: right;\n",
       "    }\n",
       "</style>\n",
       "<table border=\"1\" class=\"dataframe\">\n",
       "  <thead>\n",
       "    <tr style=\"text-align: right;\">\n",
       "      <th></th>\n",
       "      <th>dataStream</th>\n",
       "      <th>rows</th>\n",
       "      <th>probingTimestamp</th>\n",
       "    </tr>\n",
       "  </thead>\n",
       "  <tbody>\n",
       "    <tr>\n",
       "      <td>0</td>\n",
       "      <td>ASC_AntenaEvent</td>\n",
       "      <td>112800665</td>\n",
       "      <td>2020-01-13 09:32:03.053</td>\n",
       "    </tr>\n",
       "    <tr>\n",
       "      <td>1</td>\n",
       "      <td>ASC_AntenaEvent</td>\n",
       "      <td>106610066</td>\n",
       "      <td>2020-01-11 00:56:00.353</td>\n",
       "    </tr>\n",
       "    <tr>\n",
       "      <td>2</td>\n",
       "      <td>ASC_AntenaEvent</td>\n",
       "      <td>106610066</td>\n",
       "      <td>2020-01-11 00:57:00.280</td>\n",
       "    </tr>\n",
       "    <tr>\n",
       "      <td>3</td>\n",
       "      <td>ASC_AntenaEvent</td>\n",
       "      <td>106610066</td>\n",
       "      <td>2020-01-11 00:58:00.763</td>\n",
       "    </tr>\n",
       "    <tr>\n",
       "      <td>4</td>\n",
       "      <td>ASC_AntenaEvent</td>\n",
       "      <td>106610066</td>\n",
       "      <td>2020-01-11 00:59:00.217</td>\n",
       "    </tr>\n",
       "    <tr>\n",
       "      <td>...</td>\n",
       "      <td>...</td>\n",
       "      <td>...</td>\n",
       "      <td>...</td>\n",
       "    </tr>\n",
       "    <tr>\n",
       "      <td>160726</td>\n",
       "      <td>ASC_AntenaEvent</td>\n",
       "      <td>201545824</td>\n",
       "      <td>2020-05-02 06:27:00.593</td>\n",
       "    </tr>\n",
       "    <tr>\n",
       "      <td>160727</td>\n",
       "      <td>ASC_AntenaEvent</td>\n",
       "      <td>201545824</td>\n",
       "      <td>2020-05-02 06:28:00.033</td>\n",
       "    </tr>\n",
       "    <tr>\n",
       "      <td>160728</td>\n",
       "      <td>ASC_AntenaEvent</td>\n",
       "      <td>201545824</td>\n",
       "      <td>2020-05-02 07:37:00.697</td>\n",
       "    </tr>\n",
       "    <tr>\n",
       "      <td>160729</td>\n",
       "      <td>ASC_AntenaEvent</td>\n",
       "      <td>201545824</td>\n",
       "      <td>2020-05-02 06:29:00.493</td>\n",
       "    </tr>\n",
       "    <tr>\n",
       "      <td>160730</td>\n",
       "      <td>ASC_AntenaEvent</td>\n",
       "      <td>201545824</td>\n",
       "      <td>2020-05-02 04:48:00.410</td>\n",
       "    </tr>\n",
       "  </tbody>\n",
       "</table>\n",
       "<p>160731 rows × 3 columns</p>\n",
       "</div>"
      ],
      "text/plain": [
       "             dataStream       rows         probingTimestamp\n",
       "0       ASC_AntenaEvent  112800665  2020-01-13 09:32:03.053\n",
       "1       ASC_AntenaEvent  106610066  2020-01-11 00:56:00.353\n",
       "2       ASC_AntenaEvent  106610066  2020-01-11 00:57:00.280\n",
       "3       ASC_AntenaEvent  106610066  2020-01-11 00:58:00.763\n",
       "4       ASC_AntenaEvent  106610066  2020-01-11 00:59:00.217\n",
       "...                 ...        ...                      ...\n",
       "160726  ASC_AntenaEvent  201545824  2020-05-02 06:27:00.593\n",
       "160727  ASC_AntenaEvent  201545824  2020-05-02 06:28:00.033\n",
       "160728  ASC_AntenaEvent  201545824  2020-05-02 07:37:00.697\n",
       "160729  ASC_AntenaEvent  201545824  2020-05-02 06:29:00.493\n",
       "160730  ASC_AntenaEvent  201545824  2020-05-02 04:48:00.410\n",
       "\n",
       "[160731 rows x 3 columns]"
      ]
     },
     "execution_count": 3,
     "metadata": {},
     "output_type": "execute_result"
    }
   ],
   "source": [
    "ASC"
   ]
  },
  {
   "cell_type": "code",
   "execution_count": 4,
   "metadata": {},
   "outputs": [
    {
     "data": {
      "text/plain": [
       "160731"
      ]
     },
     "execution_count": 4,
     "metadata": {},
     "output_type": "execute_result"
    }
   ],
   "source": [
    "len(ASC.index)"
   ]
  },
  {
   "cell_type": "code",
   "execution_count": 5,
   "metadata": {},
   "outputs": [
    {
     "data": {
      "text/plain": [
       "220"
      ]
     },
     "execution_count": 5,
     "metadata": {},
     "output_type": "execute_result"
    }
   ],
   "source": [
    "ASC.duplicated().sum()"
   ]
  },
  {
   "cell_type": "code",
   "execution_count": 6,
   "metadata": {},
   "outputs": [],
   "source": [
    "ASC = ASC.drop_duplicates()"
   ]
  },
  {
   "cell_type": "code",
   "execution_count": 7,
   "metadata": {},
   "outputs": [
    {
     "data": {
      "text/plain": [
       "0"
      ]
     },
     "execution_count": 7,
     "metadata": {},
     "output_type": "execute_result"
    }
   ],
   "source": [
    "ASC.duplicated().sum()"
   ]
  },
  {
   "cell_type": "code",
   "execution_count": 8,
   "metadata": {},
   "outputs": [
    {
     "data": {
      "text/plain": [
       "160511"
      ]
     },
     "execution_count": 8,
     "metadata": {},
     "output_type": "execute_result"
    }
   ],
   "source": [
    "len(ASC.index)"
   ]
  },
  {
   "cell_type": "code",
   "execution_count": 9,
   "metadata": {},
   "outputs": [
    {
     "data": {
      "text/plain": [
       "array(['ASC_AntenaEvent'], dtype=object)"
      ]
     },
     "execution_count": 9,
     "metadata": {},
     "output_type": "execute_result"
    }
   ],
   "source": [
    "ASC['dataStream'].unique()"
   ]
  },
  {
   "cell_type": "code",
   "execution_count": 10,
   "metadata": {},
   "outputs": [],
   "source": [
    "unique_ASC_timestamp = pd.DataFrame(ASC, columns = ['probingTimestamp', 'rows'])"
   ]
  },
  {
   "cell_type": "code",
   "execution_count": 11,
   "metadata": {},
   "outputs": [],
   "source": [
    "unique_ASC_timestamp = unique_ASC_timestamp.groupby('probingTimestamp').agg('count')"
   ]
  },
  {
   "cell_type": "code",
   "execution_count": 12,
   "metadata": {},
   "outputs": [
    {
     "data": {
      "text/html": [
       "<div>\n",
       "<style scoped>\n",
       "    .dataframe tbody tr th:only-of-type {\n",
       "        vertical-align: middle;\n",
       "    }\n",
       "\n",
       "    .dataframe tbody tr th {\n",
       "        vertical-align: top;\n",
       "    }\n",
       "\n",
       "    .dataframe thead th {\n",
       "        text-align: right;\n",
       "    }\n",
       "</style>\n",
       "<table border=\"1\" class=\"dataframe\">\n",
       "  <thead>\n",
       "    <tr style=\"text-align: right;\">\n",
       "      <th></th>\n",
       "      <th>rows</th>\n",
       "    </tr>\n",
       "    <tr>\n",
       "      <th>probingTimestamp</th>\n",
       "      <th></th>\n",
       "    </tr>\n",
       "  </thead>\n",
       "  <tbody>\n",
       "  </tbody>\n",
       "</table>\n",
       "</div>"
      ],
      "text/plain": [
       "Empty DataFrame\n",
       "Columns: [rows]\n",
       "Index: []"
      ]
     },
     "execution_count": 12,
     "metadata": {},
     "output_type": "execute_result"
    }
   ],
   "source": [
    "unique_ASC_timestamp[unique_ASC_timestamp['rows'] > 1]"
   ]
  },
  {
   "cell_type": "code",
   "execution_count": 13,
   "metadata": {},
   "outputs": [
    {
     "data": {
      "text/html": [
       "<div>\n",
       "<style scoped>\n",
       "    .dataframe tbody tr th:only-of-type {\n",
       "        vertical-align: middle;\n",
       "    }\n",
       "\n",
       "    .dataframe tbody tr th {\n",
       "        vertical-align: top;\n",
       "    }\n",
       "\n",
       "    .dataframe thead th {\n",
       "        text-align: right;\n",
       "    }\n",
       "</style>\n",
       "<table border=\"1\" class=\"dataframe\">\n",
       "  <thead>\n",
       "    <tr style=\"text-align: right;\">\n",
       "      <th></th>\n",
       "      <th>dataStream</th>\n",
       "      <th>rows</th>\n",
       "      <th>probingTimestamp</th>\n",
       "    </tr>\n",
       "  </thead>\n",
       "  <tbody>\n",
       "    <tr>\n",
       "      <td>3548</td>\n",
       "      <td>ASC_AntenaEvent</td>\n",
       "      <td>105590338</td>\n",
       "      <td>2020-01-10 10:04:18.837</td>\n",
       "    </tr>\n",
       "    <tr>\n",
       "      <td>3547</td>\n",
       "      <td>ASC_AntenaEvent</td>\n",
       "      <td>105590338</td>\n",
       "      <td>2020-01-10 10:16:29.063</td>\n",
       "    </tr>\n",
       "    <tr>\n",
       "      <td>3549</td>\n",
       "      <td>ASC_AntenaEvent</td>\n",
       "      <td>105590338</td>\n",
       "      <td>2020-01-10 10:17:00.510</td>\n",
       "    </tr>\n",
       "    <tr>\n",
       "      <td>3554</td>\n",
       "      <td>ASC_AntenaEvent</td>\n",
       "      <td>105590338</td>\n",
       "      <td>2020-01-10 10:18:00.977</td>\n",
       "    </tr>\n",
       "    <tr>\n",
       "      <td>3555</td>\n",
       "      <td>ASC_AntenaEvent</td>\n",
       "      <td>105590338</td>\n",
       "      <td>2020-01-10 10:19:00.610</td>\n",
       "    </tr>\n",
       "    <tr>\n",
       "      <td>...</td>\n",
       "      <td>...</td>\n",
       "      <td>...</td>\n",
       "      <td>...</td>\n",
       "    </tr>\n",
       "    <tr>\n",
       "      <td>160194</td>\n",
       "      <td>ASC_AntenaEvent</td>\n",
       "      <td>201545824</td>\n",
       "      <td>2020-05-02 07:56:00.117</td>\n",
       "    </tr>\n",
       "    <tr>\n",
       "      <td>160195</td>\n",
       "      <td>ASC_AntenaEvent</td>\n",
       "      <td>201545824</td>\n",
       "      <td>2020-05-02 07:57:00.537</td>\n",
       "    </tr>\n",
       "    <tr>\n",
       "      <td>160198</td>\n",
       "      <td>ASC_AntenaEvent</td>\n",
       "      <td>201545824</td>\n",
       "      <td>2020-05-02 07:58:00.083</td>\n",
       "    </tr>\n",
       "    <tr>\n",
       "      <td>160202</td>\n",
       "      <td>ASC_AntenaEvent</td>\n",
       "      <td>201545824</td>\n",
       "      <td>2020-05-02 07:59:00.543</td>\n",
       "    </tr>\n",
       "    <tr>\n",
       "      <td>160228</td>\n",
       "      <td>ASC_AntenaEvent</td>\n",
       "      <td>201545824</td>\n",
       "      <td>2020-05-02 08:00:00.120</td>\n",
       "    </tr>\n",
       "  </tbody>\n",
       "</table>\n",
       "<p>160511 rows × 3 columns</p>\n",
       "</div>"
      ],
      "text/plain": [
       "             dataStream       rows         probingTimestamp\n",
       "3548    ASC_AntenaEvent  105590338  2020-01-10 10:04:18.837\n",
       "3547    ASC_AntenaEvent  105590338  2020-01-10 10:16:29.063\n",
       "3549    ASC_AntenaEvent  105590338  2020-01-10 10:17:00.510\n",
       "3554    ASC_AntenaEvent  105590338  2020-01-10 10:18:00.977\n",
       "3555    ASC_AntenaEvent  105590338  2020-01-10 10:19:00.610\n",
       "...                 ...        ...                      ...\n",
       "160194  ASC_AntenaEvent  201545824  2020-05-02 07:56:00.117\n",
       "160195  ASC_AntenaEvent  201545824  2020-05-02 07:57:00.537\n",
       "160198  ASC_AntenaEvent  201545824  2020-05-02 07:58:00.083\n",
       "160202  ASC_AntenaEvent  201545824  2020-05-02 07:59:00.543\n",
       "160228  ASC_AntenaEvent  201545824  2020-05-02 08:00:00.120\n",
       "\n",
       "[160511 rows x 3 columns]"
      ]
     },
     "execution_count": 13,
     "metadata": {},
     "output_type": "execute_result"
    }
   ],
   "source": [
    "ASC.sort_values(by='probingTimestamp')"
   ]
  },
  {
   "cell_type": "markdown",
   "metadata": {},
   "source": [
    "### BCL_TaskCreation"
   ]
  },
  {
   "cell_type": "code",
   "execution_count": 14,
   "metadata": {},
   "outputs": [],
   "source": [
    "BCL = pd.read_csv(\"BCL_TaskCreation.csv\", sep=';')"
   ]
  },
  {
   "cell_type": "code",
   "execution_count": 15,
   "metadata": {},
   "outputs": [
    {
     "data": {
      "text/html": [
       "<div>\n",
       "<style scoped>\n",
       "    .dataframe tbody tr th:only-of-type {\n",
       "        vertical-align: middle;\n",
       "    }\n",
       "\n",
       "    .dataframe tbody tr th {\n",
       "        vertical-align: top;\n",
       "    }\n",
       "\n",
       "    .dataframe thead th {\n",
       "        text-align: right;\n",
       "    }\n",
       "</style>\n",
       "<table border=\"1\" class=\"dataframe\">\n",
       "  <thead>\n",
       "    <tr style=\"text-align: right;\">\n",
       "      <th></th>\n",
       "      <th>dataStream</th>\n",
       "      <th>rowCount</th>\n",
       "      <th>probingTimestamp</th>\n",
       "    </tr>\n",
       "  </thead>\n",
       "  <tbody>\n",
       "    <tr>\n",
       "      <td>0</td>\n",
       "      <td>BCL_TaskCreation</td>\n",
       "      <td>315349655</td>\n",
       "      <td>2020-01-13 09:33:00.497</td>\n",
       "    </tr>\n",
       "    <tr>\n",
       "      <td>1</td>\n",
       "      <td>BCL_TaskCreation</td>\n",
       "      <td>315349655</td>\n",
       "      <td>2020-01-13 09:34:00.157</td>\n",
       "    </tr>\n",
       "    <tr>\n",
       "      <td>2</td>\n",
       "      <td>BCL_TaskCreation</td>\n",
       "      <td>314533770</td>\n",
       "      <td>2020-01-11 01:18:00.143</td>\n",
       "    </tr>\n",
       "    <tr>\n",
       "      <td>3</td>\n",
       "      <td>BCL_TaskCreation</td>\n",
       "      <td>289249872</td>\n",
       "      <td>2020-04-05 16:10:00.333</td>\n",
       "    </tr>\n",
       "    <tr>\n",
       "      <td>4</td>\n",
       "      <td>BCL_TaskCreation</td>\n",
       "      <td>289249872</td>\n",
       "      <td>2020-04-05 16:11:00.883</td>\n",
       "    </tr>\n",
       "  </tbody>\n",
       "</table>\n",
       "</div>"
      ],
      "text/plain": [
       "         dataStream   rowCount         probingTimestamp\n",
       "0  BCL_TaskCreation  315349655  2020-01-13 09:33:00.497\n",
       "1  BCL_TaskCreation  315349655  2020-01-13 09:34:00.157\n",
       "2  BCL_TaskCreation  314533770  2020-01-11 01:18:00.143\n",
       "3  BCL_TaskCreation  289249872  2020-04-05 16:10:00.333\n",
       "4  BCL_TaskCreation  289249872  2020-04-05 16:11:00.883"
      ]
     },
     "execution_count": 15,
     "metadata": {},
     "output_type": "execute_result"
    }
   ],
   "source": [
    "BCL.head()"
   ]
  },
  {
   "cell_type": "code",
   "execution_count": 16,
   "metadata": {},
   "outputs": [
    {
     "data": {
      "text/plain": [
       "160735"
      ]
     },
     "execution_count": 16,
     "metadata": {},
     "output_type": "execute_result"
    }
   ],
   "source": [
    "len(BCL.index)"
   ]
  },
  {
   "cell_type": "code",
   "execution_count": 17,
   "metadata": {},
   "outputs": [
    {
     "data": {
      "text/plain": [
       "222"
      ]
     },
     "execution_count": 17,
     "metadata": {},
     "output_type": "execute_result"
    }
   ],
   "source": [
    "BCL.duplicated().sum()"
   ]
  },
  {
   "cell_type": "code",
   "execution_count": 18,
   "metadata": {},
   "outputs": [],
   "source": [
    "BCL = BCL.drop_duplicates()"
   ]
  },
  {
   "cell_type": "code",
   "execution_count": 19,
   "metadata": {},
   "outputs": [
    {
     "data": {
      "text/plain": [
       "0"
      ]
     },
     "execution_count": 19,
     "metadata": {},
     "output_type": "execute_result"
    }
   ],
   "source": [
    "BCL.duplicated().sum()"
   ]
  },
  {
   "cell_type": "code",
   "execution_count": 20,
   "metadata": {},
   "outputs": [
    {
     "data": {
      "text/plain": [
       "160513"
      ]
     },
     "execution_count": 20,
     "metadata": {},
     "output_type": "execute_result"
    }
   ],
   "source": [
    "len(BCL.index)"
   ]
  },
  {
   "cell_type": "code",
   "execution_count": 21,
   "metadata": {},
   "outputs": [],
   "source": [
    "unique_BCL_timestamp = pd.DataFrame(BCL, columns = ['probingTimestamp', 'rowCount'])"
   ]
  },
  {
   "cell_type": "code",
   "execution_count": 22,
   "metadata": {},
   "outputs": [],
   "source": [
    "unique_BCL_timestamp = unique_BCL_timestamp.groupby('probingTimestamp').agg('count')"
   ]
  },
  {
   "cell_type": "code",
   "execution_count": 23,
   "metadata": {},
   "outputs": [
    {
     "data": {
      "text/html": [
       "<div>\n",
       "<style scoped>\n",
       "    .dataframe tbody tr th:only-of-type {\n",
       "        vertical-align: middle;\n",
       "    }\n",
       "\n",
       "    .dataframe tbody tr th {\n",
       "        vertical-align: top;\n",
       "    }\n",
       "\n",
       "    .dataframe thead th {\n",
       "        text-align: right;\n",
       "    }\n",
       "</style>\n",
       "<table border=\"1\" class=\"dataframe\">\n",
       "  <thead>\n",
       "    <tr style=\"text-align: right;\">\n",
       "      <th></th>\n",
       "      <th>rows</th>\n",
       "    </tr>\n",
       "    <tr>\n",
       "      <th>probingTimestamp</th>\n",
       "      <th></th>\n",
       "    </tr>\n",
       "  </thead>\n",
       "  <tbody>\n",
       "  </tbody>\n",
       "</table>\n",
       "</div>"
      ],
      "text/plain": [
       "Empty DataFrame\n",
       "Columns: [rows]\n",
       "Index: []"
      ]
     },
     "execution_count": 23,
     "metadata": {},
     "output_type": "execute_result"
    }
   ],
   "source": [
    "unique_ASC_timestamp[unique_ASC_timestamp['rows'] > 1]"
   ]
  },
  {
   "cell_type": "code",
   "execution_count": 24,
   "metadata": {},
   "outputs": [
    {
     "data": {
      "text/plain": [
       "array([1])"
      ]
     },
     "execution_count": 24,
     "metadata": {},
     "output_type": "execute_result"
    }
   ],
   "source": [
    "unique_BCL_timestamp['rowCount'].unique()"
   ]
  },
  {
   "cell_type": "code",
   "execution_count": 25,
   "metadata": {},
   "outputs": [
    {
     "data": {
      "text/plain": [
       "array(['BCL_TaskCreation'], dtype=object)"
      ]
     },
     "execution_count": 25,
     "metadata": {},
     "output_type": "execute_result"
    }
   ],
   "source": [
    "BCL['dataStream'].unique()"
   ]
  },
  {
   "cell_type": "code",
   "execution_count": 26,
   "metadata": {},
   "outputs": [
    {
     "data": {
      "text/html": [
       "<div>\n",
       "<style scoped>\n",
       "    .dataframe tbody tr th:only-of-type {\n",
       "        vertical-align: middle;\n",
       "    }\n",
       "\n",
       "    .dataframe tbody tr th {\n",
       "        vertical-align: top;\n",
       "    }\n",
       "\n",
       "    .dataframe thead th {\n",
       "        text-align: right;\n",
       "    }\n",
       "</style>\n",
       "<table border=\"1\" class=\"dataframe\">\n",
       "  <thead>\n",
       "    <tr style=\"text-align: right;\">\n",
       "      <th></th>\n",
       "      <th>dataStream</th>\n",
       "      <th>rowCount</th>\n",
       "      <th>probingTimestamp</th>\n",
       "    </tr>\n",
       "  </thead>\n",
       "  <tbody>\n",
       "    <tr>\n",
       "      <td>3506</td>\n",
       "      <td>BCL_TaskCreation</td>\n",
       "      <td>314015548</td>\n",
       "      <td>2020-01-10 10:04:18.837</td>\n",
       "    </tr>\n",
       "    <tr>\n",
       "      <td>3505</td>\n",
       "      <td>BCL_TaskCreation</td>\n",
       "      <td>314015548</td>\n",
       "      <td>2020-01-10 10:16:29.063</td>\n",
       "    </tr>\n",
       "    <tr>\n",
       "      <td>3507</td>\n",
       "      <td>BCL_TaskCreation</td>\n",
       "      <td>314015548</td>\n",
       "      <td>2020-01-10 10:17:00.510</td>\n",
       "    </tr>\n",
       "    <tr>\n",
       "      <td>3512</td>\n",
       "      <td>BCL_TaskCreation</td>\n",
       "      <td>314015548</td>\n",
       "      <td>2020-01-10 10:18:00.977</td>\n",
       "    </tr>\n",
       "    <tr>\n",
       "      <td>3513</td>\n",
       "      <td>BCL_TaskCreation</td>\n",
       "      <td>314015548</td>\n",
       "      <td>2020-01-10 10:19:00.610</td>\n",
       "    </tr>\n",
       "    <tr>\n",
       "      <td>...</td>\n",
       "      <td>...</td>\n",
       "      <td>...</td>\n",
       "      <td>...</td>\n",
       "    </tr>\n",
       "    <tr>\n",
       "      <td>160365</td>\n",
       "      <td>BCL_TaskCreation</td>\n",
       "      <td>289702943</td>\n",
       "      <td>2020-05-02 07:56:00.117</td>\n",
       "    </tr>\n",
       "    <tr>\n",
       "      <td>160366</td>\n",
       "      <td>BCL_TaskCreation</td>\n",
       "      <td>289702943</td>\n",
       "      <td>2020-05-02 07:57:00.537</td>\n",
       "    </tr>\n",
       "    <tr>\n",
       "      <td>160369</td>\n",
       "      <td>BCL_TaskCreation</td>\n",
       "      <td>289702943</td>\n",
       "      <td>2020-05-02 07:58:00.083</td>\n",
       "    </tr>\n",
       "    <tr>\n",
       "      <td>160373</td>\n",
       "      <td>BCL_TaskCreation</td>\n",
       "      <td>289702943</td>\n",
       "      <td>2020-05-02 07:59:00.543</td>\n",
       "    </tr>\n",
       "    <tr>\n",
       "      <td>160058</td>\n",
       "      <td>BCL_TaskCreation</td>\n",
       "      <td>289702943</td>\n",
       "      <td>2020-05-02 08:00:00.120</td>\n",
       "    </tr>\n",
       "  </tbody>\n",
       "</table>\n",
       "<p>160513 rows × 3 columns</p>\n",
       "</div>"
      ],
      "text/plain": [
       "              dataStream   rowCount         probingTimestamp\n",
       "3506    BCL_TaskCreation  314015548  2020-01-10 10:04:18.837\n",
       "3505    BCL_TaskCreation  314015548  2020-01-10 10:16:29.063\n",
       "3507    BCL_TaskCreation  314015548  2020-01-10 10:17:00.510\n",
       "3512    BCL_TaskCreation  314015548  2020-01-10 10:18:00.977\n",
       "3513    BCL_TaskCreation  314015548  2020-01-10 10:19:00.610\n",
       "...                  ...        ...                      ...\n",
       "160365  BCL_TaskCreation  289702943  2020-05-02 07:56:00.117\n",
       "160366  BCL_TaskCreation  289702943  2020-05-02 07:57:00.537\n",
       "160369  BCL_TaskCreation  289702943  2020-05-02 07:58:00.083\n",
       "160373  BCL_TaskCreation  289702943  2020-05-02 07:59:00.543\n",
       "160058  BCL_TaskCreation  289702943  2020-05-02 08:00:00.120\n",
       "\n",
       "[160513 rows x 3 columns]"
      ]
     },
     "execution_count": 26,
     "metadata": {},
     "output_type": "execute_result"
    }
   ],
   "source": [
    "BCL.sort_values(by='probingTimestamp')"
   ]
  },
  {
   "cell_type": "markdown",
   "metadata": {},
   "source": [
    "### DTTB_IncomeEvents"
   ]
  },
  {
   "cell_type": "code",
   "execution_count": 27,
   "metadata": {},
   "outputs": [],
   "source": [
    "DTTB = pd.read_csv(\"DTTB_IncomeEvents.csv\", sep=';')"
   ]
  },
  {
   "cell_type": "code",
   "execution_count": 28,
   "metadata": {},
   "outputs": [
    {
     "data": {
      "text/html": [
       "<div>\n",
       "<style scoped>\n",
       "    .dataframe tbody tr th:only-of-type {\n",
       "        vertical-align: middle;\n",
       "    }\n",
       "\n",
       "    .dataframe tbody tr th {\n",
       "        vertical-align: top;\n",
       "    }\n",
       "\n",
       "    .dataframe thead th {\n",
       "        text-align: right;\n",
       "    }\n",
       "</style>\n",
       "<table border=\"1\" class=\"dataframe\">\n",
       "  <thead>\n",
       "    <tr style=\"text-align: right;\">\n",
       "      <th></th>\n",
       "      <th>dataStream</th>\n",
       "      <th>rowCount</th>\n",
       "      <th>probingTimestamp</th>\n",
       "    </tr>\n",
       "  </thead>\n",
       "  <tbody>\n",
       "    <tr>\n",
       "      <td>0</td>\n",
       "      <td>DTTB_IncomeEvents</td>\n",
       "      <td>2045565</td>\n",
       "      <td>2020-01-11 01:58:00.150</td>\n",
       "    </tr>\n",
       "    <tr>\n",
       "      <td>1</td>\n",
       "      <td>DTTB_IncomeEvents</td>\n",
       "      <td>2045565</td>\n",
       "      <td>2020-01-11 01:59:00.760</td>\n",
       "    </tr>\n",
       "    <tr>\n",
       "      <td>2</td>\n",
       "      <td>DTTB_IncomeEvents</td>\n",
       "      <td>2047466</td>\n",
       "      <td>2020-01-13 09:36:00.877</td>\n",
       "    </tr>\n",
       "    <tr>\n",
       "      <td>3</td>\n",
       "      <td>DTTB_IncomeEvents</td>\n",
       "      <td>2045565</td>\n",
       "      <td>2020-01-11 02:00:00.307</td>\n",
       "    </tr>\n",
       "    <tr>\n",
       "      <td>4</td>\n",
       "      <td>DTTB_IncomeEvents</td>\n",
       "      <td>2045565</td>\n",
       "      <td>2020-01-11 02:01:00.930</td>\n",
       "    </tr>\n",
       "  </tbody>\n",
       "</table>\n",
       "</div>"
      ],
      "text/plain": [
       "          dataStream  rowCount         probingTimestamp\n",
       "0  DTTB_IncomeEvents   2045565  2020-01-11 01:58:00.150\n",
       "1  DTTB_IncomeEvents   2045565  2020-01-11 01:59:00.760\n",
       "2  DTTB_IncomeEvents   2047466  2020-01-13 09:36:00.877\n",
       "3  DTTB_IncomeEvents   2045565  2020-01-11 02:00:00.307\n",
       "4  DTTB_IncomeEvents   2045565  2020-01-11 02:01:00.930"
      ]
     },
     "execution_count": 28,
     "metadata": {},
     "output_type": "execute_result"
    }
   ],
   "source": [
    "DTTB.head()"
   ]
  },
  {
   "cell_type": "code",
   "execution_count": 29,
   "metadata": {},
   "outputs": [
    {
     "data": {
      "text/plain": [
       "160676"
      ]
     },
     "execution_count": 29,
     "metadata": {},
     "output_type": "execute_result"
    }
   ],
   "source": [
    "len(DTTB.index)"
   ]
  },
  {
   "cell_type": "code",
   "execution_count": 30,
   "metadata": {},
   "outputs": [
    {
     "data": {
      "text/plain": [
       "202"
      ]
     },
     "execution_count": 30,
     "metadata": {},
     "output_type": "execute_result"
    }
   ],
   "source": [
    "DTTB.duplicated().sum()"
   ]
  },
  {
   "cell_type": "code",
   "execution_count": 31,
   "metadata": {},
   "outputs": [],
   "source": [
    "DTTB = DTTB.drop_duplicates()"
   ]
  },
  {
   "cell_type": "code",
   "execution_count": 32,
   "metadata": {},
   "outputs": [
    {
     "data": {
      "text/plain": [
       "160474"
      ]
     },
     "execution_count": 32,
     "metadata": {},
     "output_type": "execute_result"
    }
   ],
   "source": [
    "len(DTTB.index)"
   ]
  },
  {
   "cell_type": "code",
   "execution_count": 33,
   "metadata": {},
   "outputs": [
    {
     "data": {
      "text/plain": [
       "array(['DTTB_IncomeEvents'], dtype=object)"
      ]
     },
     "execution_count": 33,
     "metadata": {},
     "output_type": "execute_result"
    }
   ],
   "source": [
    "DTTB['dataStream'].unique()"
   ]
  },
  {
   "cell_type": "code",
   "execution_count": 34,
   "metadata": {},
   "outputs": [
    {
     "data": {
      "text/html": [
       "<div>\n",
       "<style scoped>\n",
       "    .dataframe tbody tr th:only-of-type {\n",
       "        vertical-align: middle;\n",
       "    }\n",
       "\n",
       "    .dataframe tbody tr th {\n",
       "        vertical-align: top;\n",
       "    }\n",
       "\n",
       "    .dataframe thead th {\n",
       "        text-align: right;\n",
       "    }\n",
       "</style>\n",
       "<table border=\"1\" class=\"dataframe\">\n",
       "  <thead>\n",
       "    <tr style=\"text-align: right;\">\n",
       "      <th></th>\n",
       "      <th>dataStream</th>\n",
       "      <th>rowCount</th>\n",
       "      <th>probingTimestamp</th>\n",
       "    </tr>\n",
       "  </thead>\n",
       "  <tbody>\n",
       "    <tr>\n",
       "      <td>3588</td>\n",
       "      <td>DTTB_IncomeEvents</td>\n",
       "      <td>2044256</td>\n",
       "      <td>2020-01-10 10:04:18.837</td>\n",
       "    </tr>\n",
       "    <tr>\n",
       "      <td>3587</td>\n",
       "      <td>DTTB_IncomeEvents</td>\n",
       "      <td>2044256</td>\n",
       "      <td>2020-01-10 10:16:29.063</td>\n",
       "    </tr>\n",
       "    <tr>\n",
       "      <td>3593</td>\n",
       "      <td>DTTB_IncomeEvents</td>\n",
       "      <td>2044256</td>\n",
       "      <td>2020-01-10 10:17:00.510</td>\n",
       "    </tr>\n",
       "    <tr>\n",
       "      <td>3594</td>\n",
       "      <td>DTTB_IncomeEvents</td>\n",
       "      <td>2044256</td>\n",
       "      <td>2020-01-10 10:18:00.977</td>\n",
       "    </tr>\n",
       "    <tr>\n",
       "      <td>3595</td>\n",
       "      <td>DTTB_IncomeEvents</td>\n",
       "      <td>2044256</td>\n",
       "      <td>2020-01-10 10:19:00.610</td>\n",
       "    </tr>\n",
       "    <tr>\n",
       "      <td>...</td>\n",
       "      <td>...</td>\n",
       "      <td>...</td>\n",
       "      <td>...</td>\n",
       "    </tr>\n",
       "    <tr>\n",
       "      <td>160354</td>\n",
       "      <td>DTTB_IncomeEvents</td>\n",
       "      <td>323397</td>\n",
       "      <td>2020-05-02 07:56:00.117</td>\n",
       "    </tr>\n",
       "    <tr>\n",
       "      <td>160355</td>\n",
       "      <td>DTTB_IncomeEvents</td>\n",
       "      <td>323397</td>\n",
       "      <td>2020-05-02 07:57:00.537</td>\n",
       "    </tr>\n",
       "    <tr>\n",
       "      <td>160361</td>\n",
       "      <td>DTTB_IncomeEvents</td>\n",
       "      <td>323397</td>\n",
       "      <td>2020-05-02 07:58:00.083</td>\n",
       "    </tr>\n",
       "    <tr>\n",
       "      <td>160369</td>\n",
       "      <td>DTTB_IncomeEvents</td>\n",
       "      <td>323397</td>\n",
       "      <td>2020-05-02 07:59:00.543</td>\n",
       "    </tr>\n",
       "    <tr>\n",
       "      <td>160376</td>\n",
       "      <td>DTTB_IncomeEvents</td>\n",
       "      <td>323397</td>\n",
       "      <td>2020-05-02 08:00:00.120</td>\n",
       "    </tr>\n",
       "  </tbody>\n",
       "</table>\n",
       "<p>160474 rows × 3 columns</p>\n",
       "</div>"
      ],
      "text/plain": [
       "               dataStream  rowCount         probingTimestamp\n",
       "3588    DTTB_IncomeEvents   2044256  2020-01-10 10:04:18.837\n",
       "3587    DTTB_IncomeEvents   2044256  2020-01-10 10:16:29.063\n",
       "3593    DTTB_IncomeEvents   2044256  2020-01-10 10:17:00.510\n",
       "3594    DTTB_IncomeEvents   2044256  2020-01-10 10:18:00.977\n",
       "3595    DTTB_IncomeEvents   2044256  2020-01-10 10:19:00.610\n",
       "...                   ...       ...                      ...\n",
       "160354  DTTB_IncomeEvents    323397  2020-05-02 07:56:00.117\n",
       "160355  DTTB_IncomeEvents    323397  2020-05-02 07:57:00.537\n",
       "160361  DTTB_IncomeEvents    323397  2020-05-02 07:58:00.083\n",
       "160369  DTTB_IncomeEvents    323397  2020-05-02 07:59:00.543\n",
       "160376  DTTB_IncomeEvents    323397  2020-05-02 08:00:00.120\n",
       "\n",
       "[160474 rows x 3 columns]"
      ]
     },
     "execution_count": 34,
     "metadata": {},
     "output_type": "execute_result"
    }
   ],
   "source": [
    "DTTB.sort_values(by='probingTimestamp')"
   ]
  },
  {
   "cell_type": "markdown",
   "metadata": {},
   "source": [
    "## Preliminary remarks:\n",
    "\n",
    "* I dropped duplicates\n",
    "* each dataframe has only one dataStream, referring to its' name\n",
    "* as we can see above, at least some of probingTimestamp values are the same in these 3 dataframes - I'm going to merge them by probingTimestamp \n",
    "* data was collected from 2020-01-10 10:04:18.837 to 2020-05-02 07:57:00.537. "
   ]
  },
  {
   "cell_type": "markdown",
   "metadata": {},
   "source": [
    "# 1. Loading the data into one dataframe"
   ]
  },
  {
   "cell_type": "markdown",
   "metadata": {},
   "source": [
    "### Preparing dataframes for merging"
   ]
  },
  {
   "cell_type": "markdown",
   "metadata": {},
   "source": [
    "I assume that \"rows\" column in ASC_AntenaEvent DataFrame is the same as \"rowCount\" in another DataFrames. Therefore I'm going to change its' name to make merge easier:"
   ]
  },
  {
   "cell_type": "code",
   "execution_count": 35,
   "metadata": {},
   "outputs": [],
   "source": [
    "ASC = ASC.rename(columns={'rows': 'rowCount_ASC'})"
   ]
  },
  {
   "cell_type": "code",
   "execution_count": 36,
   "metadata": {},
   "outputs": [
    {
     "data": {
      "text/html": [
       "<div>\n",
       "<style scoped>\n",
       "    .dataframe tbody tr th:only-of-type {\n",
       "        vertical-align: middle;\n",
       "    }\n",
       "\n",
       "    .dataframe tbody tr th {\n",
       "        vertical-align: top;\n",
       "    }\n",
       "\n",
       "    .dataframe thead th {\n",
       "        text-align: right;\n",
       "    }\n",
       "</style>\n",
       "<table border=\"1\" class=\"dataframe\">\n",
       "  <thead>\n",
       "    <tr style=\"text-align: right;\">\n",
       "      <th></th>\n",
       "      <th>dataStream</th>\n",
       "      <th>rowCount_ASC</th>\n",
       "      <th>probingTimestamp</th>\n",
       "    </tr>\n",
       "  </thead>\n",
       "  <tbody>\n",
       "    <tr>\n",
       "      <td>0</td>\n",
       "      <td>ASC_AntenaEvent</td>\n",
       "      <td>112800665</td>\n",
       "      <td>2020-01-13 09:32:03.053</td>\n",
       "    </tr>\n",
       "    <tr>\n",
       "      <td>1</td>\n",
       "      <td>ASC_AntenaEvent</td>\n",
       "      <td>106610066</td>\n",
       "      <td>2020-01-11 00:56:00.353</td>\n",
       "    </tr>\n",
       "    <tr>\n",
       "      <td>2</td>\n",
       "      <td>ASC_AntenaEvent</td>\n",
       "      <td>106610066</td>\n",
       "      <td>2020-01-11 00:57:00.280</td>\n",
       "    </tr>\n",
       "    <tr>\n",
       "      <td>3</td>\n",
       "      <td>ASC_AntenaEvent</td>\n",
       "      <td>106610066</td>\n",
       "      <td>2020-01-11 00:58:00.763</td>\n",
       "    </tr>\n",
       "    <tr>\n",
       "      <td>4</td>\n",
       "      <td>ASC_AntenaEvent</td>\n",
       "      <td>106610066</td>\n",
       "      <td>2020-01-11 00:59:00.217</td>\n",
       "    </tr>\n",
       "  </tbody>\n",
       "</table>\n",
       "</div>"
      ],
      "text/plain": [
       "        dataStream  rowCount_ASC         probingTimestamp\n",
       "0  ASC_AntenaEvent     112800665  2020-01-13 09:32:03.053\n",
       "1  ASC_AntenaEvent     106610066  2020-01-11 00:56:00.353\n",
       "2  ASC_AntenaEvent     106610066  2020-01-11 00:57:00.280\n",
       "3  ASC_AntenaEvent     106610066  2020-01-11 00:58:00.763\n",
       "4  ASC_AntenaEvent     106610066  2020-01-11 00:59:00.217"
      ]
     },
     "execution_count": 36,
     "metadata": {},
     "output_type": "execute_result"
    }
   ],
   "source": [
    "ASC.head()"
   ]
  },
  {
   "cell_type": "markdown",
   "metadata": {},
   "source": [
    "Before merging I'm going to edit dataStream data (into boolean) to increase their readability in the final dataframe:"
   ]
  },
  {
   "cell_type": "code",
   "execution_count": 37,
   "metadata": {},
   "outputs": [],
   "source": [
    "ASC = ASC.rename(columns={'dataStream': 'ASC_AntenaEvent'})"
   ]
  },
  {
   "cell_type": "code",
   "execution_count": 38,
   "metadata": {},
   "outputs": [],
   "source": [
    "ASC = ASC.replace({'ASC_AntenaEvent':1})"
   ]
  },
  {
   "cell_type": "code",
   "execution_count": 39,
   "metadata": {},
   "outputs": [
    {
     "data": {
      "text/html": [
       "<div>\n",
       "<style scoped>\n",
       "    .dataframe tbody tr th:only-of-type {\n",
       "        vertical-align: middle;\n",
       "    }\n",
       "\n",
       "    .dataframe tbody tr th {\n",
       "        vertical-align: top;\n",
       "    }\n",
       "\n",
       "    .dataframe thead th {\n",
       "        text-align: right;\n",
       "    }\n",
       "</style>\n",
       "<table border=\"1\" class=\"dataframe\">\n",
       "  <thead>\n",
       "    <tr style=\"text-align: right;\">\n",
       "      <th></th>\n",
       "      <th>ASC_AntenaEvent</th>\n",
       "      <th>rowCount_ASC</th>\n",
       "      <th>probingTimestamp</th>\n",
       "    </tr>\n",
       "  </thead>\n",
       "  <tbody>\n",
       "    <tr>\n",
       "      <td>0</td>\n",
       "      <td>1</td>\n",
       "      <td>112800665</td>\n",
       "      <td>2020-01-13 09:32:03.053</td>\n",
       "    </tr>\n",
       "    <tr>\n",
       "      <td>1</td>\n",
       "      <td>1</td>\n",
       "      <td>106610066</td>\n",
       "      <td>2020-01-11 00:56:00.353</td>\n",
       "    </tr>\n",
       "    <tr>\n",
       "      <td>2</td>\n",
       "      <td>1</td>\n",
       "      <td>106610066</td>\n",
       "      <td>2020-01-11 00:57:00.280</td>\n",
       "    </tr>\n",
       "    <tr>\n",
       "      <td>3</td>\n",
       "      <td>1</td>\n",
       "      <td>106610066</td>\n",
       "      <td>2020-01-11 00:58:00.763</td>\n",
       "    </tr>\n",
       "    <tr>\n",
       "      <td>4</td>\n",
       "      <td>1</td>\n",
       "      <td>106610066</td>\n",
       "      <td>2020-01-11 00:59:00.217</td>\n",
       "    </tr>\n",
       "  </tbody>\n",
       "</table>\n",
       "</div>"
      ],
      "text/plain": [
       "   ASC_AntenaEvent  rowCount_ASC         probingTimestamp\n",
       "0                1     112800665  2020-01-13 09:32:03.053\n",
       "1                1     106610066  2020-01-11 00:56:00.353\n",
       "2                1     106610066  2020-01-11 00:57:00.280\n",
       "3                1     106610066  2020-01-11 00:58:00.763\n",
       "4                1     106610066  2020-01-11 00:59:00.217"
      ]
     },
     "execution_count": 39,
     "metadata": {},
     "output_type": "execute_result"
    }
   ],
   "source": [
    "ASC.head()"
   ]
  },
  {
   "cell_type": "code",
   "execution_count": 40,
   "metadata": {},
   "outputs": [
    {
     "data": {
      "text/plain": [
       "array([1])"
      ]
     },
     "execution_count": 40,
     "metadata": {},
     "output_type": "execute_result"
    }
   ],
   "source": [
    "ASC['ASC_AntenaEvent'].unique()"
   ]
  },
  {
   "cell_type": "code",
   "execution_count": 41,
   "metadata": {},
   "outputs": [
    {
     "data": {
      "text/plain": [
       "160511"
      ]
     },
     "execution_count": 41,
     "metadata": {},
     "output_type": "execute_result"
    }
   ],
   "source": [
    "len(ASC.index)"
   ]
  },
  {
   "cell_type": "code",
   "execution_count": 42,
   "metadata": {},
   "outputs": [],
   "source": [
    "BCL = BCL.rename(columns={'dataStream': 'BCL_TaskCreation'})"
   ]
  },
  {
   "cell_type": "code",
   "execution_count": 43,
   "metadata": {},
   "outputs": [],
   "source": [
    "BCL = BCL.replace({'BCL_TaskCreation':1})"
   ]
  },
  {
   "cell_type": "code",
   "execution_count": 44,
   "metadata": {},
   "outputs": [],
   "source": [
    "BCL = BCL.rename(columns={'rowCount': 'rowCount_BCL'})"
   ]
  },
  {
   "cell_type": "code",
   "execution_count": 45,
   "metadata": {},
   "outputs": [
    {
     "data": {
      "text/html": [
       "<div>\n",
       "<style scoped>\n",
       "    .dataframe tbody tr th:only-of-type {\n",
       "        vertical-align: middle;\n",
       "    }\n",
       "\n",
       "    .dataframe tbody tr th {\n",
       "        vertical-align: top;\n",
       "    }\n",
       "\n",
       "    .dataframe thead th {\n",
       "        text-align: right;\n",
       "    }\n",
       "</style>\n",
       "<table border=\"1\" class=\"dataframe\">\n",
       "  <thead>\n",
       "    <tr style=\"text-align: right;\">\n",
       "      <th></th>\n",
       "      <th>BCL_TaskCreation</th>\n",
       "      <th>rowCount_BCL</th>\n",
       "      <th>probingTimestamp</th>\n",
       "    </tr>\n",
       "  </thead>\n",
       "  <tbody>\n",
       "    <tr>\n",
       "      <td>0</td>\n",
       "      <td>1</td>\n",
       "      <td>315349655</td>\n",
       "      <td>2020-01-13 09:33:00.497</td>\n",
       "    </tr>\n",
       "    <tr>\n",
       "      <td>1</td>\n",
       "      <td>1</td>\n",
       "      <td>315349655</td>\n",
       "      <td>2020-01-13 09:34:00.157</td>\n",
       "    </tr>\n",
       "    <tr>\n",
       "      <td>2</td>\n",
       "      <td>1</td>\n",
       "      <td>314533770</td>\n",
       "      <td>2020-01-11 01:18:00.143</td>\n",
       "    </tr>\n",
       "    <tr>\n",
       "      <td>3</td>\n",
       "      <td>1</td>\n",
       "      <td>289249872</td>\n",
       "      <td>2020-04-05 16:10:00.333</td>\n",
       "    </tr>\n",
       "    <tr>\n",
       "      <td>4</td>\n",
       "      <td>1</td>\n",
       "      <td>289249872</td>\n",
       "      <td>2020-04-05 16:11:00.883</td>\n",
       "    </tr>\n",
       "  </tbody>\n",
       "</table>\n",
       "</div>"
      ],
      "text/plain": [
       "   BCL_TaskCreation  rowCount_BCL         probingTimestamp\n",
       "0                 1     315349655  2020-01-13 09:33:00.497\n",
       "1                 1     315349655  2020-01-13 09:34:00.157\n",
       "2                 1     314533770  2020-01-11 01:18:00.143\n",
       "3                 1     289249872  2020-04-05 16:10:00.333\n",
       "4                 1     289249872  2020-04-05 16:11:00.883"
      ]
     },
     "execution_count": 45,
     "metadata": {},
     "output_type": "execute_result"
    }
   ],
   "source": [
    "BCL.head()"
   ]
  },
  {
   "cell_type": "code",
   "execution_count": 46,
   "metadata": {},
   "outputs": [
    {
     "data": {
      "text/plain": [
       "160513"
      ]
     },
     "execution_count": 46,
     "metadata": {},
     "output_type": "execute_result"
    }
   ],
   "source": [
    "len(BCL.index)"
   ]
  },
  {
   "cell_type": "code",
   "execution_count": 47,
   "metadata": {},
   "outputs": [],
   "source": [
    "DTTB = DTTB.rename(columns={'dataStream': 'DTTB_IncomeEvents'})"
   ]
  },
  {
   "cell_type": "code",
   "execution_count": 48,
   "metadata": {},
   "outputs": [],
   "source": [
    "DTTB = DTTB.replace({'DTTB_IncomeEvents':1})"
   ]
  },
  {
   "cell_type": "code",
   "execution_count": 49,
   "metadata": {},
   "outputs": [],
   "source": [
    "DTTB = DTTB.rename(columns={'rowCount': 'rowCount_DTTB'})"
   ]
  },
  {
   "cell_type": "code",
   "execution_count": 50,
   "metadata": {},
   "outputs": [
    {
     "data": {
      "text/html": [
       "<div>\n",
       "<style scoped>\n",
       "    .dataframe tbody tr th:only-of-type {\n",
       "        vertical-align: middle;\n",
       "    }\n",
       "\n",
       "    .dataframe tbody tr th {\n",
       "        vertical-align: top;\n",
       "    }\n",
       "\n",
       "    .dataframe thead th {\n",
       "        text-align: right;\n",
       "    }\n",
       "</style>\n",
       "<table border=\"1\" class=\"dataframe\">\n",
       "  <thead>\n",
       "    <tr style=\"text-align: right;\">\n",
       "      <th></th>\n",
       "      <th>DTTB_IncomeEvents</th>\n",
       "      <th>rowCount_DTTB</th>\n",
       "      <th>probingTimestamp</th>\n",
       "    </tr>\n",
       "  </thead>\n",
       "  <tbody>\n",
       "    <tr>\n",
       "      <td>0</td>\n",
       "      <td>1</td>\n",
       "      <td>2045565</td>\n",
       "      <td>2020-01-11 01:58:00.150</td>\n",
       "    </tr>\n",
       "    <tr>\n",
       "      <td>1</td>\n",
       "      <td>1</td>\n",
       "      <td>2045565</td>\n",
       "      <td>2020-01-11 01:59:00.760</td>\n",
       "    </tr>\n",
       "    <tr>\n",
       "      <td>2</td>\n",
       "      <td>1</td>\n",
       "      <td>2047466</td>\n",
       "      <td>2020-01-13 09:36:00.877</td>\n",
       "    </tr>\n",
       "    <tr>\n",
       "      <td>3</td>\n",
       "      <td>1</td>\n",
       "      <td>2045565</td>\n",
       "      <td>2020-01-11 02:00:00.307</td>\n",
       "    </tr>\n",
       "    <tr>\n",
       "      <td>4</td>\n",
       "      <td>1</td>\n",
       "      <td>2045565</td>\n",
       "      <td>2020-01-11 02:01:00.930</td>\n",
       "    </tr>\n",
       "  </tbody>\n",
       "</table>\n",
       "</div>"
      ],
      "text/plain": [
       "   DTTB_IncomeEvents  rowCount_DTTB         probingTimestamp\n",
       "0                  1        2045565  2020-01-11 01:58:00.150\n",
       "1                  1        2045565  2020-01-11 01:59:00.760\n",
       "2                  1        2047466  2020-01-13 09:36:00.877\n",
       "3                  1        2045565  2020-01-11 02:00:00.307\n",
       "4                  1        2045565  2020-01-11 02:01:00.930"
      ]
     },
     "execution_count": 50,
     "metadata": {},
     "output_type": "execute_result"
    }
   ],
   "source": [
    "DTTB.head()"
   ]
  },
  {
   "cell_type": "code",
   "execution_count": 51,
   "metadata": {},
   "outputs": [
    {
     "data": {
      "text/plain": [
       "array([1])"
      ]
     },
     "execution_count": 51,
     "metadata": {},
     "output_type": "execute_result"
    }
   ],
   "source": [
    "DTTB['DTTB_IncomeEvents'].unique()"
   ]
  },
  {
   "cell_type": "code",
   "execution_count": 52,
   "metadata": {},
   "outputs": [
    {
     "data": {
      "text/plain": [
       "160474"
      ]
     },
     "execution_count": 52,
     "metadata": {},
     "output_type": "execute_result"
    }
   ],
   "source": [
    "len(DTTB.index)"
   ]
  },
  {
   "cell_type": "markdown",
   "metadata": {},
   "source": [
    "Merging time:"
   ]
  },
  {
   "cell_type": "code",
   "execution_count": 53,
   "metadata": {},
   "outputs": [],
   "source": [
    "work_dataset = ASC.merge(BCL, how = 'outer', on='probingTimestamp')"
   ]
  },
  {
   "cell_type": "code",
   "execution_count": 54,
   "metadata": {},
   "outputs": [
    {
     "data": {
      "text/html": [
       "<div>\n",
       "<style scoped>\n",
       "    .dataframe tbody tr th:only-of-type {\n",
       "        vertical-align: middle;\n",
       "    }\n",
       "\n",
       "    .dataframe tbody tr th {\n",
       "        vertical-align: top;\n",
       "    }\n",
       "\n",
       "    .dataframe thead th {\n",
       "        text-align: right;\n",
       "    }\n",
       "</style>\n",
       "<table border=\"1\" class=\"dataframe\">\n",
       "  <thead>\n",
       "    <tr style=\"text-align: right;\">\n",
       "      <th></th>\n",
       "      <th>ASC_AntenaEvent</th>\n",
       "      <th>rowCount_ASC</th>\n",
       "      <th>probingTimestamp</th>\n",
       "      <th>BCL_TaskCreation</th>\n",
       "      <th>rowCount_BCL</th>\n",
       "    </tr>\n",
       "  </thead>\n",
       "  <tbody>\n",
       "    <tr>\n",
       "      <td>0</td>\n",
       "      <td>1.0</td>\n",
       "      <td>112800665.0</td>\n",
       "      <td>2020-01-13 09:32:03.053</td>\n",
       "      <td>1</td>\n",
       "      <td>315349655</td>\n",
       "    </tr>\n",
       "    <tr>\n",
       "      <td>1</td>\n",
       "      <td>1.0</td>\n",
       "      <td>106610066.0</td>\n",
       "      <td>2020-01-11 00:56:00.353</td>\n",
       "      <td>1</td>\n",
       "      <td>314523780</td>\n",
       "    </tr>\n",
       "    <tr>\n",
       "      <td>2</td>\n",
       "      <td>1.0</td>\n",
       "      <td>106610066.0</td>\n",
       "      <td>2020-01-11 00:57:00.280</td>\n",
       "      <td>1</td>\n",
       "      <td>314523780</td>\n",
       "    </tr>\n",
       "    <tr>\n",
       "      <td>3</td>\n",
       "      <td>1.0</td>\n",
       "      <td>106610066.0</td>\n",
       "      <td>2020-01-11 00:58:00.763</td>\n",
       "      <td>1</td>\n",
       "      <td>314523780</td>\n",
       "    </tr>\n",
       "    <tr>\n",
       "      <td>4</td>\n",
       "      <td>1.0</td>\n",
       "      <td>106610066.0</td>\n",
       "      <td>2020-01-11 00:59:00.217</td>\n",
       "      <td>1</td>\n",
       "      <td>314523780</td>\n",
       "    </tr>\n",
       "    <tr>\n",
       "      <td>...</td>\n",
       "      <td>...</td>\n",
       "      <td>...</td>\n",
       "      <td>...</td>\n",
       "      <td>...</td>\n",
       "      <td>...</td>\n",
       "    </tr>\n",
       "    <tr>\n",
       "      <td>160508</td>\n",
       "      <td>1.0</td>\n",
       "      <td>201545824.0</td>\n",
       "      <td>2020-05-02 07:37:00.697</td>\n",
       "      <td>1</td>\n",
       "      <td>289702943</td>\n",
       "    </tr>\n",
       "    <tr>\n",
       "      <td>160509</td>\n",
       "      <td>1.0</td>\n",
       "      <td>201545824.0</td>\n",
       "      <td>2020-05-02 06:29:00.493</td>\n",
       "      <td>1</td>\n",
       "      <td>289702883</td>\n",
       "    </tr>\n",
       "    <tr>\n",
       "      <td>160510</td>\n",
       "      <td>1.0</td>\n",
       "      <td>201545824.0</td>\n",
       "      <td>2020-05-02 04:48:00.410</td>\n",
       "      <td>1</td>\n",
       "      <td>289702842</td>\n",
       "    </tr>\n",
       "    <tr>\n",
       "      <td>160511</td>\n",
       "      <td>NaN</td>\n",
       "      <td>NaN</td>\n",
       "      <td>2020-03-25 04:01:00.973</td>\n",
       "      <td>1</td>\n",
       "      <td>287893459</td>\n",
       "    </tr>\n",
       "    <tr>\n",
       "      <td>160512</td>\n",
       "      <td>NaN</td>\n",
       "      <td>NaN</td>\n",
       "      <td>2020-04-02 16:01:00.540</td>\n",
       "      <td>1</td>\n",
       "      <td>288576395</td>\n",
       "    </tr>\n",
       "  </tbody>\n",
       "</table>\n",
       "<p>160513 rows × 5 columns</p>\n",
       "</div>"
      ],
      "text/plain": [
       "        ASC_AntenaEvent  rowCount_ASC         probingTimestamp  \\\n",
       "0                   1.0   112800665.0  2020-01-13 09:32:03.053   \n",
       "1                   1.0   106610066.0  2020-01-11 00:56:00.353   \n",
       "2                   1.0   106610066.0  2020-01-11 00:57:00.280   \n",
       "3                   1.0   106610066.0  2020-01-11 00:58:00.763   \n",
       "4                   1.0   106610066.0  2020-01-11 00:59:00.217   \n",
       "...                 ...           ...                      ...   \n",
       "160508              1.0   201545824.0  2020-05-02 07:37:00.697   \n",
       "160509              1.0   201545824.0  2020-05-02 06:29:00.493   \n",
       "160510              1.0   201545824.0  2020-05-02 04:48:00.410   \n",
       "160511              NaN           NaN  2020-03-25 04:01:00.973   \n",
       "160512              NaN           NaN  2020-04-02 16:01:00.540   \n",
       "\n",
       "        BCL_TaskCreation  rowCount_BCL  \n",
       "0                      1     315349655  \n",
       "1                      1     314523780  \n",
       "2                      1     314523780  \n",
       "3                      1     314523780  \n",
       "4                      1     314523780  \n",
       "...                  ...           ...  \n",
       "160508                 1     289702943  \n",
       "160509                 1     289702883  \n",
       "160510                 1     289702842  \n",
       "160511                 1     287893459  \n",
       "160512                 1     288576395  \n",
       "\n",
       "[160513 rows x 5 columns]"
      ]
     },
     "execution_count": 54,
     "metadata": {},
     "output_type": "execute_result"
    }
   ],
   "source": [
    "work_dataset"
   ]
  },
  {
   "cell_type": "code",
   "execution_count": 55,
   "metadata": {},
   "outputs": [
    {
     "data": {
      "text/plain": [
       "160513"
      ]
     },
     "execution_count": 55,
     "metadata": {},
     "output_type": "execute_result"
    }
   ],
   "source": [
    "len(work_dataset.index)"
   ]
  },
  {
   "cell_type": "code",
   "execution_count": 56,
   "metadata": {},
   "outputs": [
    {
     "data": {
      "text/plain": [
       "0"
      ]
     },
     "execution_count": 56,
     "metadata": {},
     "output_type": "execute_result"
    }
   ],
   "source": [
    "work_dataset.duplicated().sum()"
   ]
  },
  {
   "cell_type": "code",
   "execution_count": 57,
   "metadata": {},
   "outputs": [],
   "source": [
    "work_dataset = work_dataset.merge(DTTB, how = 'outer', on='probingTimestamp')"
   ]
  },
  {
   "cell_type": "code",
   "execution_count": 58,
   "metadata": {
    "scrolled": true
   },
   "outputs": [
    {
     "data": {
      "text/html": [
       "<div>\n",
       "<style scoped>\n",
       "    .dataframe tbody tr th:only-of-type {\n",
       "        vertical-align: middle;\n",
       "    }\n",
       "\n",
       "    .dataframe tbody tr th {\n",
       "        vertical-align: top;\n",
       "    }\n",
       "\n",
       "    .dataframe thead th {\n",
       "        text-align: right;\n",
       "    }\n",
       "</style>\n",
       "<table border=\"1\" class=\"dataframe\">\n",
       "  <thead>\n",
       "    <tr style=\"text-align: right;\">\n",
       "      <th></th>\n",
       "      <th>ASC_AntenaEvent</th>\n",
       "      <th>rowCount_ASC</th>\n",
       "      <th>probingTimestamp</th>\n",
       "      <th>BCL_TaskCreation</th>\n",
       "      <th>rowCount_BCL</th>\n",
       "      <th>DTTB_IncomeEvents</th>\n",
       "      <th>rowCount_DTTB</th>\n",
       "    </tr>\n",
       "  </thead>\n",
       "  <tbody>\n",
       "    <tr>\n",
       "      <td>0</td>\n",
       "      <td>1.0</td>\n",
       "      <td>112800665.0</td>\n",
       "      <td>2020-01-13 09:32:03.053</td>\n",
       "      <td>1.0</td>\n",
       "      <td>315349655.0</td>\n",
       "      <td>1.0</td>\n",
       "      <td>2047466.0</td>\n",
       "    </tr>\n",
       "    <tr>\n",
       "      <td>1</td>\n",
       "      <td>1.0</td>\n",
       "      <td>106610066.0</td>\n",
       "      <td>2020-01-11 00:56:00.353</td>\n",
       "      <td>1.0</td>\n",
       "      <td>314523780.0</td>\n",
       "      <td>1.0</td>\n",
       "      <td>2045565.0</td>\n",
       "    </tr>\n",
       "    <tr>\n",
       "      <td>2</td>\n",
       "      <td>1.0</td>\n",
       "      <td>106610066.0</td>\n",
       "      <td>2020-01-11 00:57:00.280</td>\n",
       "      <td>1.0</td>\n",
       "      <td>314523780.0</td>\n",
       "      <td>1.0</td>\n",
       "      <td>2045565.0</td>\n",
       "    </tr>\n",
       "    <tr>\n",
       "      <td>3</td>\n",
       "      <td>1.0</td>\n",
       "      <td>106610066.0</td>\n",
       "      <td>2020-01-11 00:58:00.763</td>\n",
       "      <td>1.0</td>\n",
       "      <td>314523780.0</td>\n",
       "      <td>1.0</td>\n",
       "      <td>2045565.0</td>\n",
       "    </tr>\n",
       "    <tr>\n",
       "      <td>4</td>\n",
       "      <td>1.0</td>\n",
       "      <td>106610066.0</td>\n",
       "      <td>2020-01-11 00:59:00.217</td>\n",
       "      <td>1.0</td>\n",
       "      <td>314523780.0</td>\n",
       "      <td>1.0</td>\n",
       "      <td>2045565.0</td>\n",
       "    </tr>\n",
       "    <tr>\n",
       "      <td>...</td>\n",
       "      <td>...</td>\n",
       "      <td>...</td>\n",
       "      <td>...</td>\n",
       "      <td>...</td>\n",
       "      <td>...</td>\n",
       "      <td>...</td>\n",
       "      <td>...</td>\n",
       "    </tr>\n",
       "    <tr>\n",
       "      <td>160515</td>\n",
       "      <td>NaN</td>\n",
       "      <td>NaN</td>\n",
       "      <td>2020-04-05 02:07:01.027</td>\n",
       "      <td>NaN</td>\n",
       "      <td>NaN</td>\n",
       "      <td>1.0</td>\n",
       "      <td>298126.0</td>\n",
       "    </tr>\n",
       "    <tr>\n",
       "      <td>160516</td>\n",
       "      <td>NaN</td>\n",
       "      <td>NaN</td>\n",
       "      <td>2020-04-05 00:28:01.540</td>\n",
       "      <td>NaN</td>\n",
       "      <td>NaN</td>\n",
       "      <td>1.0</td>\n",
       "      <td>298126.0</td>\n",
       "    </tr>\n",
       "    <tr>\n",
       "      <td>160517</td>\n",
       "      <td>NaN</td>\n",
       "      <td>NaN</td>\n",
       "      <td>2020-04-05 02:27:00.667</td>\n",
       "      <td>NaN</td>\n",
       "      <td>NaN</td>\n",
       "      <td>1.0</td>\n",
       "      <td>298126.0</td>\n",
       "    </tr>\n",
       "    <tr>\n",
       "      <td>160518</td>\n",
       "      <td>NaN</td>\n",
       "      <td>NaN</td>\n",
       "      <td>2020-04-05 04:43:00.160</td>\n",
       "      <td>NaN</td>\n",
       "      <td>NaN</td>\n",
       "      <td>1.0</td>\n",
       "      <td>298126.0</td>\n",
       "    </tr>\n",
       "    <tr>\n",
       "      <td>160519</td>\n",
       "      <td>NaN</td>\n",
       "      <td>NaN</td>\n",
       "      <td>2020-04-05 03:25:00.270</td>\n",
       "      <td>NaN</td>\n",
       "      <td>NaN</td>\n",
       "      <td>1.0</td>\n",
       "      <td>298126.0</td>\n",
       "    </tr>\n",
       "  </tbody>\n",
       "</table>\n",
       "<p>160520 rows × 7 columns</p>\n",
       "</div>"
      ],
      "text/plain": [
       "        ASC_AntenaEvent  rowCount_ASC         probingTimestamp  \\\n",
       "0                   1.0   112800665.0  2020-01-13 09:32:03.053   \n",
       "1                   1.0   106610066.0  2020-01-11 00:56:00.353   \n",
       "2                   1.0   106610066.0  2020-01-11 00:57:00.280   \n",
       "3                   1.0   106610066.0  2020-01-11 00:58:00.763   \n",
       "4                   1.0   106610066.0  2020-01-11 00:59:00.217   \n",
       "...                 ...           ...                      ...   \n",
       "160515              NaN           NaN  2020-04-05 02:07:01.027   \n",
       "160516              NaN           NaN  2020-04-05 00:28:01.540   \n",
       "160517              NaN           NaN  2020-04-05 02:27:00.667   \n",
       "160518              NaN           NaN  2020-04-05 04:43:00.160   \n",
       "160519              NaN           NaN  2020-04-05 03:25:00.270   \n",
       "\n",
       "        BCL_TaskCreation  rowCount_BCL  DTTB_IncomeEvents  rowCount_DTTB  \n",
       "0                    1.0   315349655.0                1.0      2047466.0  \n",
       "1                    1.0   314523780.0                1.0      2045565.0  \n",
       "2                    1.0   314523780.0                1.0      2045565.0  \n",
       "3                    1.0   314523780.0                1.0      2045565.0  \n",
       "4                    1.0   314523780.0                1.0      2045565.0  \n",
       "...                  ...           ...                ...            ...  \n",
       "160515               NaN           NaN                1.0       298126.0  \n",
       "160516               NaN           NaN                1.0       298126.0  \n",
       "160517               NaN           NaN                1.0       298126.0  \n",
       "160518               NaN           NaN                1.0       298126.0  \n",
       "160519               NaN           NaN                1.0       298126.0  \n",
       "\n",
       "[160520 rows x 7 columns]"
      ]
     },
     "execution_count": 58,
     "metadata": {},
     "output_type": "execute_result"
    }
   ],
   "source": [
    "work_dataset"
   ]
  },
  {
   "cell_type": "code",
   "execution_count": 59,
   "metadata": {},
   "outputs": [
    {
     "data": {
      "text/plain": [
       "160520"
      ]
     },
     "execution_count": 59,
     "metadata": {},
     "output_type": "execute_result"
    }
   ],
   "source": [
    "len(work_dataset.index)"
   ]
  },
  {
   "cell_type": "markdown",
   "metadata": {},
   "source": [
    "I will only rearrange probingTimestamp column to increase readability:"
   ]
  },
  {
   "cell_type": "code",
   "execution_count": 60,
   "metadata": {},
   "outputs": [],
   "source": [
    "work_dataset = work_dataset[['ASC_AntenaEvent', 'rowCount_ASC', 'BCL_TaskCreation', 'rowCount_BCL', 'DTTB_IncomeEvents', 'rowCount_DTTB', 'probingTimestamp']]"
   ]
  },
  {
   "cell_type": "code",
   "execution_count": 61,
   "metadata": {},
   "outputs": [
    {
     "data": {
      "text/html": [
       "<div>\n",
       "<style scoped>\n",
       "    .dataframe tbody tr th:only-of-type {\n",
       "        vertical-align: middle;\n",
       "    }\n",
       "\n",
       "    .dataframe tbody tr th {\n",
       "        vertical-align: top;\n",
       "    }\n",
       "\n",
       "    .dataframe thead th {\n",
       "        text-align: right;\n",
       "    }\n",
       "</style>\n",
       "<table border=\"1\" class=\"dataframe\">\n",
       "  <thead>\n",
       "    <tr style=\"text-align: right;\">\n",
       "      <th></th>\n",
       "      <th>ASC_AntenaEvent</th>\n",
       "      <th>rowCount_ASC</th>\n",
       "      <th>BCL_TaskCreation</th>\n",
       "      <th>rowCount_BCL</th>\n",
       "      <th>DTTB_IncomeEvents</th>\n",
       "      <th>rowCount_DTTB</th>\n",
       "      <th>probingTimestamp</th>\n",
       "    </tr>\n",
       "  </thead>\n",
       "  <tbody>\n",
       "    <tr>\n",
       "      <td>0</td>\n",
       "      <td>1.0</td>\n",
       "      <td>112800665.0</td>\n",
       "      <td>1.0</td>\n",
       "      <td>315349655.0</td>\n",
       "      <td>1.0</td>\n",
       "      <td>2047466.0</td>\n",
       "      <td>2020-01-13 09:32:03.053</td>\n",
       "    </tr>\n",
       "    <tr>\n",
       "      <td>1</td>\n",
       "      <td>1.0</td>\n",
       "      <td>106610066.0</td>\n",
       "      <td>1.0</td>\n",
       "      <td>314523780.0</td>\n",
       "      <td>1.0</td>\n",
       "      <td>2045565.0</td>\n",
       "      <td>2020-01-11 00:56:00.353</td>\n",
       "    </tr>\n",
       "    <tr>\n",
       "      <td>2</td>\n",
       "      <td>1.0</td>\n",
       "      <td>106610066.0</td>\n",
       "      <td>1.0</td>\n",
       "      <td>314523780.0</td>\n",
       "      <td>1.0</td>\n",
       "      <td>2045565.0</td>\n",
       "      <td>2020-01-11 00:57:00.280</td>\n",
       "    </tr>\n",
       "    <tr>\n",
       "      <td>3</td>\n",
       "      <td>1.0</td>\n",
       "      <td>106610066.0</td>\n",
       "      <td>1.0</td>\n",
       "      <td>314523780.0</td>\n",
       "      <td>1.0</td>\n",
       "      <td>2045565.0</td>\n",
       "      <td>2020-01-11 00:58:00.763</td>\n",
       "    </tr>\n",
       "    <tr>\n",
       "      <td>4</td>\n",
       "      <td>1.0</td>\n",
       "      <td>106610066.0</td>\n",
       "      <td>1.0</td>\n",
       "      <td>314523780.0</td>\n",
       "      <td>1.0</td>\n",
       "      <td>2045565.0</td>\n",
       "      <td>2020-01-11 00:59:00.217</td>\n",
       "    </tr>\n",
       "    <tr>\n",
       "      <td>...</td>\n",
       "      <td>...</td>\n",
       "      <td>...</td>\n",
       "      <td>...</td>\n",
       "      <td>...</td>\n",
       "      <td>...</td>\n",
       "      <td>...</td>\n",
       "      <td>...</td>\n",
       "    </tr>\n",
       "    <tr>\n",
       "      <td>160515</td>\n",
       "      <td>NaN</td>\n",
       "      <td>NaN</td>\n",
       "      <td>NaN</td>\n",
       "      <td>NaN</td>\n",
       "      <td>1.0</td>\n",
       "      <td>298126.0</td>\n",
       "      <td>2020-04-05 02:07:01.027</td>\n",
       "    </tr>\n",
       "    <tr>\n",
       "      <td>160516</td>\n",
       "      <td>NaN</td>\n",
       "      <td>NaN</td>\n",
       "      <td>NaN</td>\n",
       "      <td>NaN</td>\n",
       "      <td>1.0</td>\n",
       "      <td>298126.0</td>\n",
       "      <td>2020-04-05 00:28:01.540</td>\n",
       "    </tr>\n",
       "    <tr>\n",
       "      <td>160517</td>\n",
       "      <td>NaN</td>\n",
       "      <td>NaN</td>\n",
       "      <td>NaN</td>\n",
       "      <td>NaN</td>\n",
       "      <td>1.0</td>\n",
       "      <td>298126.0</td>\n",
       "      <td>2020-04-05 02:27:00.667</td>\n",
       "    </tr>\n",
       "    <tr>\n",
       "      <td>160518</td>\n",
       "      <td>NaN</td>\n",
       "      <td>NaN</td>\n",
       "      <td>NaN</td>\n",
       "      <td>NaN</td>\n",
       "      <td>1.0</td>\n",
       "      <td>298126.0</td>\n",
       "      <td>2020-04-05 04:43:00.160</td>\n",
       "    </tr>\n",
       "    <tr>\n",
       "      <td>160519</td>\n",
       "      <td>NaN</td>\n",
       "      <td>NaN</td>\n",
       "      <td>NaN</td>\n",
       "      <td>NaN</td>\n",
       "      <td>1.0</td>\n",
       "      <td>298126.0</td>\n",
       "      <td>2020-04-05 03:25:00.270</td>\n",
       "    </tr>\n",
       "  </tbody>\n",
       "</table>\n",
       "<p>160520 rows × 7 columns</p>\n",
       "</div>"
      ],
      "text/plain": [
       "        ASC_AntenaEvent  rowCount_ASC  BCL_TaskCreation  rowCount_BCL  \\\n",
       "0                   1.0   112800665.0               1.0   315349655.0   \n",
       "1                   1.0   106610066.0               1.0   314523780.0   \n",
       "2                   1.0   106610066.0               1.0   314523780.0   \n",
       "3                   1.0   106610066.0               1.0   314523780.0   \n",
       "4                   1.0   106610066.0               1.0   314523780.0   \n",
       "...                 ...           ...               ...           ...   \n",
       "160515              NaN           NaN               NaN           NaN   \n",
       "160516              NaN           NaN               NaN           NaN   \n",
       "160517              NaN           NaN               NaN           NaN   \n",
       "160518              NaN           NaN               NaN           NaN   \n",
       "160519              NaN           NaN               NaN           NaN   \n",
       "\n",
       "        DTTB_IncomeEvents  rowCount_DTTB         probingTimestamp  \n",
       "0                     1.0      2047466.0  2020-01-13 09:32:03.053  \n",
       "1                     1.0      2045565.0  2020-01-11 00:56:00.353  \n",
       "2                     1.0      2045565.0  2020-01-11 00:57:00.280  \n",
       "3                     1.0      2045565.0  2020-01-11 00:58:00.763  \n",
       "4                     1.0      2045565.0  2020-01-11 00:59:00.217  \n",
       "...                   ...            ...                      ...  \n",
       "160515                1.0       298126.0  2020-04-05 02:07:01.027  \n",
       "160516                1.0       298126.0  2020-04-05 00:28:01.540  \n",
       "160517                1.0       298126.0  2020-04-05 02:27:00.667  \n",
       "160518                1.0       298126.0  2020-04-05 04:43:00.160  \n",
       "160519                1.0       298126.0  2020-04-05 03:25:00.270  \n",
       "\n",
       "[160520 rows x 7 columns]"
      ]
     },
     "execution_count": 61,
     "metadata": {},
     "output_type": "execute_result"
    }
   ],
   "source": [
    "work_dataset"
   ]
  },
  {
   "cell_type": "code",
   "execution_count": 62,
   "metadata": {},
   "outputs": [
    {
     "data": {
      "text/plain": [
       "ASC_AntenaEvent       9\n",
       "rowCount_ASC          9\n",
       "BCL_TaskCreation      7\n",
       "rowCount_BCL          7\n",
       "DTTB_IncomeEvents    46\n",
       "rowCount_DTTB        46\n",
       "probingTimestamp      0\n",
       "dtype: int64"
      ]
     },
     "execution_count": 62,
     "metadata": {},
     "output_type": "execute_result"
    }
   ],
   "source": [
    "work_dataset.isna().sum()"
   ]
  },
  {
   "cell_type": "markdown",
   "metadata": {},
   "source": [
    "As we can see, as the result of outer merging new cells (with NaN) appeared. \n",
    "\n",
    "I colud replace NaN values using \"0\", but number of NaN rows compared to the total amount of data it is faint. In order to make things easier, I decided to remove them."
   ]
  },
  {
   "cell_type": "code",
   "execution_count": 63,
   "metadata": {},
   "outputs": [],
   "source": [
    "work_dataset = work_dataset.dropna()"
   ]
  },
  {
   "cell_type": "code",
   "execution_count": 64,
   "metadata": {},
   "outputs": [
    {
     "data": {
      "text/html": [
       "<div>\n",
       "<style scoped>\n",
       "    .dataframe tbody tr th:only-of-type {\n",
       "        vertical-align: middle;\n",
       "    }\n",
       "\n",
       "    .dataframe tbody tr th {\n",
       "        vertical-align: top;\n",
       "    }\n",
       "\n",
       "    .dataframe thead th {\n",
       "        text-align: right;\n",
       "    }\n",
       "</style>\n",
       "<table border=\"1\" class=\"dataframe\">\n",
       "  <thead>\n",
       "    <tr style=\"text-align: right;\">\n",
       "      <th></th>\n",
       "      <th>ASC_AntenaEvent</th>\n",
       "      <th>rowCount_ASC</th>\n",
       "      <th>BCL_TaskCreation</th>\n",
       "      <th>rowCount_BCL</th>\n",
       "      <th>DTTB_IncomeEvents</th>\n",
       "      <th>rowCount_DTTB</th>\n",
       "      <th>probingTimestamp</th>\n",
       "    </tr>\n",
       "  </thead>\n",
       "  <tbody>\n",
       "    <tr>\n",
       "      <td>0</td>\n",
       "      <td>1.0</td>\n",
       "      <td>112800665.0</td>\n",
       "      <td>1.0</td>\n",
       "      <td>315349655.0</td>\n",
       "      <td>1.0</td>\n",
       "      <td>2047466.0</td>\n",
       "      <td>2020-01-13 09:32:03.053</td>\n",
       "    </tr>\n",
       "    <tr>\n",
       "      <td>1</td>\n",
       "      <td>1.0</td>\n",
       "      <td>106610066.0</td>\n",
       "      <td>1.0</td>\n",
       "      <td>314523780.0</td>\n",
       "      <td>1.0</td>\n",
       "      <td>2045565.0</td>\n",
       "      <td>2020-01-11 00:56:00.353</td>\n",
       "    </tr>\n",
       "    <tr>\n",
       "      <td>2</td>\n",
       "      <td>1.0</td>\n",
       "      <td>106610066.0</td>\n",
       "      <td>1.0</td>\n",
       "      <td>314523780.0</td>\n",
       "      <td>1.0</td>\n",
       "      <td>2045565.0</td>\n",
       "      <td>2020-01-11 00:57:00.280</td>\n",
       "    </tr>\n",
       "    <tr>\n",
       "      <td>3</td>\n",
       "      <td>1.0</td>\n",
       "      <td>106610066.0</td>\n",
       "      <td>1.0</td>\n",
       "      <td>314523780.0</td>\n",
       "      <td>1.0</td>\n",
       "      <td>2045565.0</td>\n",
       "      <td>2020-01-11 00:58:00.763</td>\n",
       "    </tr>\n",
       "    <tr>\n",
       "      <td>4</td>\n",
       "      <td>1.0</td>\n",
       "      <td>106610066.0</td>\n",
       "      <td>1.0</td>\n",
       "      <td>314523780.0</td>\n",
       "      <td>1.0</td>\n",
       "      <td>2045565.0</td>\n",
       "      <td>2020-01-11 00:59:00.217</td>\n",
       "    </tr>\n",
       "    <tr>\n",
       "      <td>...</td>\n",
       "      <td>...</td>\n",
       "      <td>...</td>\n",
       "      <td>...</td>\n",
       "      <td>...</td>\n",
       "      <td>...</td>\n",
       "      <td>...</td>\n",
       "      <td>...</td>\n",
       "    </tr>\n",
       "    <tr>\n",
       "      <td>160506</td>\n",
       "      <td>1.0</td>\n",
       "      <td>201545824.0</td>\n",
       "      <td>1.0</td>\n",
       "      <td>289702883.0</td>\n",
       "      <td>1.0</td>\n",
       "      <td>323397.0</td>\n",
       "      <td>2020-05-02 06:27:00.593</td>\n",
       "    </tr>\n",
       "    <tr>\n",
       "      <td>160507</td>\n",
       "      <td>1.0</td>\n",
       "      <td>201545824.0</td>\n",
       "      <td>1.0</td>\n",
       "      <td>289702883.0</td>\n",
       "      <td>1.0</td>\n",
       "      <td>323397.0</td>\n",
       "      <td>2020-05-02 06:28:00.033</td>\n",
       "    </tr>\n",
       "    <tr>\n",
       "      <td>160508</td>\n",
       "      <td>1.0</td>\n",
       "      <td>201545824.0</td>\n",
       "      <td>1.0</td>\n",
       "      <td>289702943.0</td>\n",
       "      <td>1.0</td>\n",
       "      <td>323397.0</td>\n",
       "      <td>2020-05-02 07:37:00.697</td>\n",
       "    </tr>\n",
       "    <tr>\n",
       "      <td>160509</td>\n",
       "      <td>1.0</td>\n",
       "      <td>201545824.0</td>\n",
       "      <td>1.0</td>\n",
       "      <td>289702883.0</td>\n",
       "      <td>1.0</td>\n",
       "      <td>323397.0</td>\n",
       "      <td>2020-05-02 06:29:00.493</td>\n",
       "    </tr>\n",
       "    <tr>\n",
       "      <td>160510</td>\n",
       "      <td>1.0</td>\n",
       "      <td>201545824.0</td>\n",
       "      <td>1.0</td>\n",
       "      <td>289702842.0</td>\n",
       "      <td>1.0</td>\n",
       "      <td>323397.0</td>\n",
       "      <td>2020-05-02 04:48:00.410</td>\n",
       "    </tr>\n",
       "  </tbody>\n",
       "</table>\n",
       "<p>160467 rows × 7 columns</p>\n",
       "</div>"
      ],
      "text/plain": [
       "        ASC_AntenaEvent  rowCount_ASC  BCL_TaskCreation  rowCount_BCL  \\\n",
       "0                   1.0   112800665.0               1.0   315349655.0   \n",
       "1                   1.0   106610066.0               1.0   314523780.0   \n",
       "2                   1.0   106610066.0               1.0   314523780.0   \n",
       "3                   1.0   106610066.0               1.0   314523780.0   \n",
       "4                   1.0   106610066.0               1.0   314523780.0   \n",
       "...                 ...           ...               ...           ...   \n",
       "160506              1.0   201545824.0               1.0   289702883.0   \n",
       "160507              1.0   201545824.0               1.0   289702883.0   \n",
       "160508              1.0   201545824.0               1.0   289702943.0   \n",
       "160509              1.0   201545824.0               1.0   289702883.0   \n",
       "160510              1.0   201545824.0               1.0   289702842.0   \n",
       "\n",
       "        DTTB_IncomeEvents  rowCount_DTTB         probingTimestamp  \n",
       "0                     1.0      2047466.0  2020-01-13 09:32:03.053  \n",
       "1                     1.0      2045565.0  2020-01-11 00:56:00.353  \n",
       "2                     1.0      2045565.0  2020-01-11 00:57:00.280  \n",
       "3                     1.0      2045565.0  2020-01-11 00:58:00.763  \n",
       "4                     1.0      2045565.0  2020-01-11 00:59:00.217  \n",
       "...                   ...            ...                      ...  \n",
       "160506                1.0       323397.0  2020-05-02 06:27:00.593  \n",
       "160507                1.0       323397.0  2020-05-02 06:28:00.033  \n",
       "160508                1.0       323397.0  2020-05-02 07:37:00.697  \n",
       "160509                1.0       323397.0  2020-05-02 06:29:00.493  \n",
       "160510                1.0       323397.0  2020-05-02 04:48:00.410  \n",
       "\n",
       "[160467 rows x 7 columns]"
      ]
     },
     "execution_count": 64,
     "metadata": {},
     "output_type": "execute_result"
    }
   ],
   "source": [
    "work_dataset"
   ]
  },
  {
   "cell_type": "code",
   "execution_count": 71,
   "metadata": {},
   "outputs": [],
   "source": [
    "work_dataset = work_dataset.sort_values(by='probingTimestamp')"
   ]
  },
  {
   "cell_type": "code",
   "execution_count": 75,
   "metadata": {},
   "outputs": [
    {
     "data": {
      "text/html": [
       "<div>\n",
       "<style scoped>\n",
       "    .dataframe tbody tr th:only-of-type {\n",
       "        vertical-align: middle;\n",
       "    }\n",
       "\n",
       "    .dataframe tbody tr th {\n",
       "        vertical-align: top;\n",
       "    }\n",
       "\n",
       "    .dataframe thead th {\n",
       "        text-align: right;\n",
       "    }\n",
       "</style>\n",
       "<table border=\"1\" class=\"dataframe\">\n",
       "  <thead>\n",
       "    <tr style=\"text-align: right;\">\n",
       "      <th></th>\n",
       "      <th>ASC_AntenaEvent</th>\n",
       "      <th>rowCount_ASC</th>\n",
       "      <th>BCL_TaskCreation</th>\n",
       "      <th>rowCount_BCL</th>\n",
       "      <th>DTTB_IncomeEvents</th>\n",
       "      <th>rowCount_DTTB</th>\n",
       "      <th>probingTimestamp</th>\n",
       "    </tr>\n",
       "  </thead>\n",
       "  <tbody>\n",
       "    <tr>\n",
       "      <td>3548</td>\n",
       "      <td>1.000000</td>\n",
       "      <td>105590338.000000</td>\n",
       "      <td>1.000000</td>\n",
       "      <td>314015548.000000</td>\n",
       "      <td>1.000000</td>\n",
       "      <td>2044256.000000</td>\n",
       "      <td>2020-01-10 10:04:18.837</td>\n",
       "    </tr>\n",
       "    <tr>\n",
       "      <td>3547</td>\n",
       "      <td>1.000000</td>\n",
       "      <td>105590338.000000</td>\n",
       "      <td>1.000000</td>\n",
       "      <td>314015548.000000</td>\n",
       "      <td>1.000000</td>\n",
       "      <td>2044256.000000</td>\n",
       "      <td>2020-01-10 10:16:29.063</td>\n",
       "    </tr>\n",
       "    <tr>\n",
       "      <td>3549</td>\n",
       "      <td>1.000000</td>\n",
       "      <td>105590338.000000</td>\n",
       "      <td>1.000000</td>\n",
       "      <td>314015548.000000</td>\n",
       "      <td>1.000000</td>\n",
       "      <td>2044256.000000</td>\n",
       "      <td>2020-01-10 10:17:00.510</td>\n",
       "    </tr>\n",
       "    <tr>\n",
       "      <td>3554</td>\n",
       "      <td>1.000000</td>\n",
       "      <td>105590338.000000</td>\n",
       "      <td>1.000000</td>\n",
       "      <td>314015548.000000</td>\n",
       "      <td>1.000000</td>\n",
       "      <td>2044256.000000</td>\n",
       "      <td>2020-01-10 10:18:00.977</td>\n",
       "    </tr>\n",
       "    <tr>\n",
       "      <td>3555</td>\n",
       "      <td>1.000000</td>\n",
       "      <td>105590338.000000</td>\n",
       "      <td>1.000000</td>\n",
       "      <td>314015548.000000</td>\n",
       "      <td>1.000000</td>\n",
       "      <td>2044256.000000</td>\n",
       "      <td>2020-01-10 10:19:00.610</td>\n",
       "    </tr>\n",
       "    <tr>\n",
       "      <td>3556</td>\n",
       "      <td>1.000000</td>\n",
       "      <td>105590338.000000</td>\n",
       "      <td>1.000000</td>\n",
       "      <td>314015548.000000</td>\n",
       "      <td>1.000000</td>\n",
       "      <td>2044256.000000</td>\n",
       "      <td>2020-01-10 10:20:00.970</td>\n",
       "    </tr>\n",
       "    <tr>\n",
       "      <td>3557</td>\n",
       "      <td>1.000000</td>\n",
       "      <td>105590338.000000</td>\n",
       "      <td>1.000000</td>\n",
       "      <td>314015548.000000</td>\n",
       "      <td>1.000000</td>\n",
       "      <td>2044256.000000</td>\n",
       "      <td>2020-01-10 10:21:00.440</td>\n",
       "    </tr>\n",
       "    <tr>\n",
       "      <td>3558</td>\n",
       "      <td>1.000000</td>\n",
       "      <td>105590338.000000</td>\n",
       "      <td>1.000000</td>\n",
       "      <td>314015548.000000</td>\n",
       "      <td>1.000000</td>\n",
       "      <td>2044256.000000</td>\n",
       "      <td>2020-01-10 10:22:00.933</td>\n",
       "    </tr>\n",
       "    <tr>\n",
       "      <td>3560</td>\n",
       "      <td>1.000000</td>\n",
       "      <td>105590338.000000</td>\n",
       "      <td>1.000000</td>\n",
       "      <td>314015548.000000</td>\n",
       "      <td>1.000000</td>\n",
       "      <td>2044256.000000</td>\n",
       "      <td>2020-01-10 10:23:00.893</td>\n",
       "    </tr>\n",
       "    <tr>\n",
       "      <td>3597</td>\n",
       "      <td>1.000000</td>\n",
       "      <td>105590338.000000</td>\n",
       "      <td>1.000000</td>\n",
       "      <td>314015548.000000</td>\n",
       "      <td>1.000000</td>\n",
       "      <td>2044256.000000</td>\n",
       "      <td>2020-01-10 10:24:00.407</td>\n",
       "    </tr>\n",
       "    <tr>\n",
       "      <td>3598</td>\n",
       "      <td>1.000000</td>\n",
       "      <td>105590338.000000</td>\n",
       "      <td>1.000000</td>\n",
       "      <td>314015548.000000</td>\n",
       "      <td>1.000000</td>\n",
       "      <td>2044256.000000</td>\n",
       "      <td>2020-01-10 10:25:00.880</td>\n",
       "    </tr>\n",
       "    <tr>\n",
       "      <td>3559</td>\n",
       "      <td>1.000000</td>\n",
       "      <td>105590338.000000</td>\n",
       "      <td>1.000000</td>\n",
       "      <td>314015548.000000</td>\n",
       "      <td>1.000000</td>\n",
       "      <td>2044256.000000</td>\n",
       "      <td>2020-01-10 10:26:00.447</td>\n",
       "    </tr>\n",
       "    <tr>\n",
       "      <td>3599</td>\n",
       "      <td>1.000000</td>\n",
       "      <td>105590338.000000</td>\n",
       "      <td>1.000000</td>\n",
       "      <td>314015548.000000</td>\n",
       "      <td>1.000000</td>\n",
       "      <td>2044256.000000</td>\n",
       "      <td>2020-01-10 10:27:00.237</td>\n",
       "    </tr>\n",
       "    <tr>\n",
       "      <td>3600</td>\n",
       "      <td>1.000000</td>\n",
       "      <td>105590338.000000</td>\n",
       "      <td>1.000000</td>\n",
       "      <td>314015548.000000</td>\n",
       "      <td>1.000000</td>\n",
       "      <td>2044256.000000</td>\n",
       "      <td>2020-01-10 10:28:00.723</td>\n",
       "    </tr>\n",
       "    <tr>\n",
       "      <td>3601</td>\n",
       "      <td>1.000000</td>\n",
       "      <td>105590338.000000</td>\n",
       "      <td>1.000000</td>\n",
       "      <td>314015548.000000</td>\n",
       "      <td>1.000000</td>\n",
       "      <td>2044256.000000</td>\n",
       "      <td>2020-01-10 10:29:00.320</td>\n",
       "    </tr>\n",
       "    <tr>\n",
       "      <td>3603</td>\n",
       "      <td>1.000000</td>\n",
       "      <td>105590338.000000</td>\n",
       "      <td>1.000000</td>\n",
       "      <td>314015548.000000</td>\n",
       "      <td>1.000000</td>\n",
       "      <td>2044256.000000</td>\n",
       "      <td>2020-01-10 10:30:00.790</td>\n",
       "    </tr>\n",
       "    <tr>\n",
       "      <td>3604</td>\n",
       "      <td>1.000000</td>\n",
       "      <td>105590338.000000</td>\n",
       "      <td>1.000000</td>\n",
       "      <td>314015548.000000</td>\n",
       "      <td>1.000000</td>\n",
       "      <td>2044256.000000</td>\n",
       "      <td>2020-01-10 10:31:00.320</td>\n",
       "    </tr>\n",
       "    <tr>\n",
       "      <td>3605</td>\n",
       "      <td>1.000000</td>\n",
       "      <td>105590338.000000</td>\n",
       "      <td>1.000000</td>\n",
       "      <td>314015548.000000</td>\n",
       "      <td>1.000000</td>\n",
       "      <td>2044256.000000</td>\n",
       "      <td>2020-01-10 10:32:00.773</td>\n",
       "    </tr>\n",
       "    <tr>\n",
       "      <td>3606</td>\n",
       "      <td>1.000000</td>\n",
       "      <td>105590338.000000</td>\n",
       "      <td>1.000000</td>\n",
       "      <td>314015548.000000</td>\n",
       "      <td>1.000000</td>\n",
       "      <td>2044256.000000</td>\n",
       "      <td>2020-01-10 10:33:00.870</td>\n",
       "    </tr>\n",
       "    <tr>\n",
       "      <td>3607</td>\n",
       "      <td>1.000000</td>\n",
       "      <td>105590338.000000</td>\n",
       "      <td>1.000000</td>\n",
       "      <td>314015548.000000</td>\n",
       "      <td>1.000000</td>\n",
       "      <td>2044256.000000</td>\n",
       "      <td>2020-01-10 10:34:00.353</td>\n",
       "    </tr>\n",
       "    <tr>\n",
       "      <td>3609</td>\n",
       "      <td>1.000000</td>\n",
       "      <td>105590338.000000</td>\n",
       "      <td>1.000000</td>\n",
       "      <td>314015548.000000</td>\n",
       "      <td>1.000000</td>\n",
       "      <td>2044256.000000</td>\n",
       "      <td>2020-01-10 10:35:00.943</td>\n",
       "    </tr>\n",
       "    <tr>\n",
       "      <td>3610</td>\n",
       "      <td>1.000000</td>\n",
       "      <td>105590338.000000</td>\n",
       "      <td>1.000000</td>\n",
       "      <td>314015548.000000</td>\n",
       "      <td>1.000000</td>\n",
       "      <td>2044256.000000</td>\n",
       "      <td>2020-01-10 10:36:00.510</td>\n",
       "    </tr>\n",
       "    <tr>\n",
       "      <td>3611</td>\n",
       "      <td>1.000000</td>\n",
       "      <td>105590338.000000</td>\n",
       "      <td>1.000000</td>\n",
       "      <td>314015548.000000</td>\n",
       "      <td>1.000000</td>\n",
       "      <td>2044256.000000</td>\n",
       "      <td>2020-01-10 10:37:00.060</td>\n",
       "    </tr>\n",
       "    <tr>\n",
       "      <td>3608</td>\n",
       "      <td>1.000000</td>\n",
       "      <td>105590338.000000</td>\n",
       "      <td>1.000000</td>\n",
       "      <td>314015548.000000</td>\n",
       "      <td>1.000000</td>\n",
       "      <td>2044256.000000</td>\n",
       "      <td>2020-01-10 10:38:00.683</td>\n",
       "    </tr>\n",
       "    <tr>\n",
       "      <td>3612</td>\n",
       "      <td>1.000000</td>\n",
       "      <td>105590338.000000</td>\n",
       "      <td>1.000000</td>\n",
       "      <td>314015548.000000</td>\n",
       "      <td>1.000000</td>\n",
       "      <td>2044256.000000</td>\n",
       "      <td>2020-01-10 10:39:00.163</td>\n",
       "    </tr>\n",
       "    <tr>\n",
       "      <td>3613</td>\n",
       "      <td>1.000000</td>\n",
       "      <td>105590338.000000</td>\n",
       "      <td>1.000000</td>\n",
       "      <td>314015548.000000</td>\n",
       "      <td>1.000000</td>\n",
       "      <td>2044256.000000</td>\n",
       "      <td>2020-01-10 10:40:00.757</td>\n",
       "    </tr>\n",
       "    <tr>\n",
       "      <td>3614</td>\n",
       "      <td>1.000000</td>\n",
       "      <td>105590338.000000</td>\n",
       "      <td>1.000000</td>\n",
       "      <td>314015548.000000</td>\n",
       "      <td>1.000000</td>\n",
       "      <td>2044256.000000</td>\n",
       "      <td>2020-01-10 10:41:00.220</td>\n",
       "    </tr>\n",
       "    <tr>\n",
       "      <td>3615</td>\n",
       "      <td>1.000000</td>\n",
       "      <td>105590338.000000</td>\n",
       "      <td>1.000000</td>\n",
       "      <td>314015548.000000</td>\n",
       "      <td>1.000000</td>\n",
       "      <td>2044256.000000</td>\n",
       "      <td>2020-01-10 10:42:00.760</td>\n",
       "    </tr>\n",
       "    <tr>\n",
       "      <td>3616</td>\n",
       "      <td>1.000000</td>\n",
       "      <td>105590338.000000</td>\n",
       "      <td>1.000000</td>\n",
       "      <td>314015548.000000</td>\n",
       "      <td>1.000000</td>\n",
       "      <td>2044256.000000</td>\n",
       "      <td>2020-01-10 10:43:00.307</td>\n",
       "    </tr>\n",
       "    <tr>\n",
       "      <td>3617</td>\n",
       "      <td>1.000000</td>\n",
       "      <td>105590338.000000</td>\n",
       "      <td>1.000000</td>\n",
       "      <td>314015548.000000</td>\n",
       "      <td>1.000000</td>\n",
       "      <td>2044256.000000</td>\n",
       "      <td>2020-01-10 10:44:00.917</td>\n",
       "    </tr>\n",
       "    <tr>\n",
       "      <td>3618</td>\n",
       "      <td>1.000000</td>\n",
       "      <td>105590338.000000</td>\n",
       "      <td>1.000000</td>\n",
       "      <td>314015548.000000</td>\n",
       "      <td>1.000000</td>\n",
       "      <td>2044256.000000</td>\n",
       "      <td>2020-01-10 10:45:00.373</td>\n",
       "    </tr>\n",
       "    <tr>\n",
       "      <td>3372</td>\n",
       "      <td>1.000000</td>\n",
       "      <td>105590338.000000</td>\n",
       "      <td>1.000000</td>\n",
       "      <td>314015548.000000</td>\n",
       "      <td>1.000000</td>\n",
       "      <td>2044256.000000</td>\n",
       "      <td>2020-01-10 10:46:00.930</td>\n",
       "    </tr>\n",
       "    <tr>\n",
       "      <td>3373</td>\n",
       "      <td>1.000000</td>\n",
       "      <td>105590338.000000</td>\n",
       "      <td>1.000000</td>\n",
       "      <td>314015548.000000</td>\n",
       "      <td>1.000000</td>\n",
       "      <td>2044256.000000</td>\n",
       "      <td>2020-01-10 10:47:00.400</td>\n",
       "    </tr>\n",
       "    <tr>\n",
       "      <td>3374</td>\n",
       "      <td>1.000000</td>\n",
       "      <td>105590338.000000</td>\n",
       "      <td>1.000000</td>\n",
       "      <td>314015548.000000</td>\n",
       "      <td>1.000000</td>\n",
       "      <td>2044256.000000</td>\n",
       "      <td>2020-01-10 10:48:00.900</td>\n",
       "    </tr>\n",
       "    <tr>\n",
       "      <td>3375</td>\n",
       "      <td>1.000000</td>\n",
       "      <td>105590338.000000</td>\n",
       "      <td>1.000000</td>\n",
       "      <td>314015548.000000</td>\n",
       "      <td>1.000000</td>\n",
       "      <td>2044256.000000</td>\n",
       "      <td>2020-01-10 10:49:00.400</td>\n",
       "    </tr>\n",
       "    <tr>\n",
       "      <td>3376</td>\n",
       "      <td>1.000000</td>\n",
       "      <td>105590338.000000</td>\n",
       "      <td>1.000000</td>\n",
       "      <td>314015548.000000</td>\n",
       "      <td>1.000000</td>\n",
       "      <td>2044256.000000</td>\n",
       "      <td>2020-01-10 10:50:00.933</td>\n",
       "    </tr>\n",
       "    <tr>\n",
       "      <td>3377</td>\n",
       "      <td>1.000000</td>\n",
       "      <td>105590338.000000</td>\n",
       "      <td>1.000000</td>\n",
       "      <td>314015548.000000</td>\n",
       "      <td>1.000000</td>\n",
       "      <td>2044256.000000</td>\n",
       "      <td>2020-01-10 10:51:00.503</td>\n",
       "    </tr>\n",
       "    <tr>\n",
       "      <td>3380</td>\n",
       "      <td>1.000000</td>\n",
       "      <td>105590338.000000</td>\n",
       "      <td>1.000000</td>\n",
       "      <td>314015548.000000</td>\n",
       "      <td>1.000000</td>\n",
       "      <td>2044256.000000</td>\n",
       "      <td>2020-01-10 10:52:00.090</td>\n",
       "    </tr>\n",
       "    <tr>\n",
       "      <td>3381</td>\n",
       "      <td>1.000000</td>\n",
       "      <td>105590338.000000</td>\n",
       "      <td>1.000000</td>\n",
       "      <td>314015548.000000</td>\n",
       "      <td>1.000000</td>\n",
       "      <td>2044256.000000</td>\n",
       "      <td>2020-01-10 10:53:00.540</td>\n",
       "    </tr>\n",
       "    <tr>\n",
       "      <td>3382</td>\n",
       "      <td>1.000000</td>\n",
       "      <td>105590338.000000</td>\n",
       "      <td>1.000000</td>\n",
       "      <td>314015548.000000</td>\n",
       "      <td>1.000000</td>\n",
       "      <td>2044256.000000</td>\n",
       "      <td>2020-01-10 10:54:00.100</td>\n",
       "    </tr>\n",
       "    <tr>\n",
       "      <td>3383</td>\n",
       "      <td>1.000000</td>\n",
       "      <td>105590338.000000</td>\n",
       "      <td>1.000000</td>\n",
       "      <td>314015548.000000</td>\n",
       "      <td>1.000000</td>\n",
       "      <td>2044256.000000</td>\n",
       "      <td>2020-01-10 10:55:00.477</td>\n",
       "    </tr>\n",
       "    <tr>\n",
       "      <td>3384</td>\n",
       "      <td>1.000000</td>\n",
       "      <td>105590338.000000</td>\n",
       "      <td>1.000000</td>\n",
       "      <td>314015548.000000</td>\n",
       "      <td>1.000000</td>\n",
       "      <td>2044256.000000</td>\n",
       "      <td>2020-01-10 10:56:00.963</td>\n",
       "    </tr>\n",
       "    <tr>\n",
       "      <td>3385</td>\n",
       "      <td>1.000000</td>\n",
       "      <td>105590338.000000</td>\n",
       "      <td>1.000000</td>\n",
       "      <td>314015548.000000</td>\n",
       "      <td>1.000000</td>\n",
       "      <td>2044256.000000</td>\n",
       "      <td>2020-01-10 10:57:00.450</td>\n",
       "    </tr>\n",
       "    <tr>\n",
       "      <td>3386</td>\n",
       "      <td>1.000000</td>\n",
       "      <td>105590338.000000</td>\n",
       "      <td>1.000000</td>\n",
       "      <td>314015548.000000</td>\n",
       "      <td>1.000000</td>\n",
       "      <td>2044256.000000</td>\n",
       "      <td>2020-01-10 10:58:00.953</td>\n",
       "    </tr>\n",
       "    <tr>\n",
       "      <td>3387</td>\n",
       "      <td>1.000000</td>\n",
       "      <td>105590338.000000</td>\n",
       "      <td>1.000000</td>\n",
       "      <td>314015548.000000</td>\n",
       "      <td>1.000000</td>\n",
       "      <td>2044256.000000</td>\n",
       "      <td>2020-01-10 10:59:00.410</td>\n",
       "    </tr>\n",
       "    <tr>\n",
       "      <td>3388</td>\n",
       "      <td>1.000000</td>\n",
       "      <td>105590338.000000</td>\n",
       "      <td>1.000000</td>\n",
       "      <td>314015548.000000</td>\n",
       "      <td>1.000000</td>\n",
       "      <td>2044256.000000</td>\n",
       "      <td>2020-01-10 11:00:00.197</td>\n",
       "    </tr>\n",
       "    <tr>\n",
       "      <td>3389</td>\n",
       "      <td>1.000000</td>\n",
       "      <td>105590338.000000</td>\n",
       "      <td>1.000000</td>\n",
       "      <td>314015548.000000</td>\n",
       "      <td>1.000000</td>\n",
       "      <td>2044256.000000</td>\n",
       "      <td>2020-01-10 11:01:00.777</td>\n",
       "    </tr>\n",
       "    <tr>\n",
       "      <td>3390</td>\n",
       "      <td>1.000000</td>\n",
       "      <td>105590338.000000</td>\n",
       "      <td>1.000000</td>\n",
       "      <td>314015548.000000</td>\n",
       "      <td>1.000000</td>\n",
       "      <td>2044256.000000</td>\n",
       "      <td>2020-01-10 11:02:00.363</td>\n",
       "    </tr>\n",
       "    <tr>\n",
       "      <td>3391</td>\n",
       "      <td>1.000000</td>\n",
       "      <td>105590338.000000</td>\n",
       "      <td>1.000000</td>\n",
       "      <td>314015548.000000</td>\n",
       "      <td>1.000000</td>\n",
       "      <td>2044256.000000</td>\n",
       "      <td>2020-01-10 11:03:00.880</td>\n",
       "    </tr>\n",
       "    <tr>\n",
       "      <td>3392</td>\n",
       "      <td>1.000000</td>\n",
       "      <td>105590338.000000</td>\n",
       "      <td>1.000000</td>\n",
       "      <td>314015548.000000</td>\n",
       "      <td>1.000000</td>\n",
       "      <td>2044256.000000</td>\n",
       "      <td>2020-01-10 11:04:00.570</td>\n",
       "    </tr>\n",
       "  </tbody>\n",
       "</table>\n",
       "</div>"
      ],
      "text/plain": [
       "      ASC_AntenaEvent     rowCount_ASC  BCL_TaskCreation     rowCount_BCL  \\\n",
       "3548         1.000000 105590338.000000          1.000000 314015548.000000   \n",
       "3547         1.000000 105590338.000000          1.000000 314015548.000000   \n",
       "3549         1.000000 105590338.000000          1.000000 314015548.000000   \n",
       "3554         1.000000 105590338.000000          1.000000 314015548.000000   \n",
       "3555         1.000000 105590338.000000          1.000000 314015548.000000   \n",
       "3556         1.000000 105590338.000000          1.000000 314015548.000000   \n",
       "3557         1.000000 105590338.000000          1.000000 314015548.000000   \n",
       "3558         1.000000 105590338.000000          1.000000 314015548.000000   \n",
       "3560         1.000000 105590338.000000          1.000000 314015548.000000   \n",
       "3597         1.000000 105590338.000000          1.000000 314015548.000000   \n",
       "3598         1.000000 105590338.000000          1.000000 314015548.000000   \n",
       "3559         1.000000 105590338.000000          1.000000 314015548.000000   \n",
       "3599         1.000000 105590338.000000          1.000000 314015548.000000   \n",
       "3600         1.000000 105590338.000000          1.000000 314015548.000000   \n",
       "3601         1.000000 105590338.000000          1.000000 314015548.000000   \n",
       "3603         1.000000 105590338.000000          1.000000 314015548.000000   \n",
       "3604         1.000000 105590338.000000          1.000000 314015548.000000   \n",
       "3605         1.000000 105590338.000000          1.000000 314015548.000000   \n",
       "3606         1.000000 105590338.000000          1.000000 314015548.000000   \n",
       "3607         1.000000 105590338.000000          1.000000 314015548.000000   \n",
       "3609         1.000000 105590338.000000          1.000000 314015548.000000   \n",
       "3610         1.000000 105590338.000000          1.000000 314015548.000000   \n",
       "3611         1.000000 105590338.000000          1.000000 314015548.000000   \n",
       "3608         1.000000 105590338.000000          1.000000 314015548.000000   \n",
       "3612         1.000000 105590338.000000          1.000000 314015548.000000   \n",
       "3613         1.000000 105590338.000000          1.000000 314015548.000000   \n",
       "3614         1.000000 105590338.000000          1.000000 314015548.000000   \n",
       "3615         1.000000 105590338.000000          1.000000 314015548.000000   \n",
       "3616         1.000000 105590338.000000          1.000000 314015548.000000   \n",
       "3617         1.000000 105590338.000000          1.000000 314015548.000000   \n",
       "3618         1.000000 105590338.000000          1.000000 314015548.000000   \n",
       "3372         1.000000 105590338.000000          1.000000 314015548.000000   \n",
       "3373         1.000000 105590338.000000          1.000000 314015548.000000   \n",
       "3374         1.000000 105590338.000000          1.000000 314015548.000000   \n",
       "3375         1.000000 105590338.000000          1.000000 314015548.000000   \n",
       "3376         1.000000 105590338.000000          1.000000 314015548.000000   \n",
       "3377         1.000000 105590338.000000          1.000000 314015548.000000   \n",
       "3380         1.000000 105590338.000000          1.000000 314015548.000000   \n",
       "3381         1.000000 105590338.000000          1.000000 314015548.000000   \n",
       "3382         1.000000 105590338.000000          1.000000 314015548.000000   \n",
       "3383         1.000000 105590338.000000          1.000000 314015548.000000   \n",
       "3384         1.000000 105590338.000000          1.000000 314015548.000000   \n",
       "3385         1.000000 105590338.000000          1.000000 314015548.000000   \n",
       "3386         1.000000 105590338.000000          1.000000 314015548.000000   \n",
       "3387         1.000000 105590338.000000          1.000000 314015548.000000   \n",
       "3388         1.000000 105590338.000000          1.000000 314015548.000000   \n",
       "3389         1.000000 105590338.000000          1.000000 314015548.000000   \n",
       "3390         1.000000 105590338.000000          1.000000 314015548.000000   \n",
       "3391         1.000000 105590338.000000          1.000000 314015548.000000   \n",
       "3392         1.000000 105590338.000000          1.000000 314015548.000000   \n",
       "\n",
       "      DTTB_IncomeEvents  rowCount_DTTB         probingTimestamp  \n",
       "3548           1.000000 2044256.000000  2020-01-10 10:04:18.837  \n",
       "3547           1.000000 2044256.000000  2020-01-10 10:16:29.063  \n",
       "3549           1.000000 2044256.000000  2020-01-10 10:17:00.510  \n",
       "3554           1.000000 2044256.000000  2020-01-10 10:18:00.977  \n",
       "3555           1.000000 2044256.000000  2020-01-10 10:19:00.610  \n",
       "3556           1.000000 2044256.000000  2020-01-10 10:20:00.970  \n",
       "3557           1.000000 2044256.000000  2020-01-10 10:21:00.440  \n",
       "3558           1.000000 2044256.000000  2020-01-10 10:22:00.933  \n",
       "3560           1.000000 2044256.000000  2020-01-10 10:23:00.893  \n",
       "3597           1.000000 2044256.000000  2020-01-10 10:24:00.407  \n",
       "3598           1.000000 2044256.000000  2020-01-10 10:25:00.880  \n",
       "3559           1.000000 2044256.000000  2020-01-10 10:26:00.447  \n",
       "3599           1.000000 2044256.000000  2020-01-10 10:27:00.237  \n",
       "3600           1.000000 2044256.000000  2020-01-10 10:28:00.723  \n",
       "3601           1.000000 2044256.000000  2020-01-10 10:29:00.320  \n",
       "3603           1.000000 2044256.000000  2020-01-10 10:30:00.790  \n",
       "3604           1.000000 2044256.000000  2020-01-10 10:31:00.320  \n",
       "3605           1.000000 2044256.000000  2020-01-10 10:32:00.773  \n",
       "3606           1.000000 2044256.000000  2020-01-10 10:33:00.870  \n",
       "3607           1.000000 2044256.000000  2020-01-10 10:34:00.353  \n",
       "3609           1.000000 2044256.000000  2020-01-10 10:35:00.943  \n",
       "3610           1.000000 2044256.000000  2020-01-10 10:36:00.510  \n",
       "3611           1.000000 2044256.000000  2020-01-10 10:37:00.060  \n",
       "3608           1.000000 2044256.000000  2020-01-10 10:38:00.683  \n",
       "3612           1.000000 2044256.000000  2020-01-10 10:39:00.163  \n",
       "3613           1.000000 2044256.000000  2020-01-10 10:40:00.757  \n",
       "3614           1.000000 2044256.000000  2020-01-10 10:41:00.220  \n",
       "3615           1.000000 2044256.000000  2020-01-10 10:42:00.760  \n",
       "3616           1.000000 2044256.000000  2020-01-10 10:43:00.307  \n",
       "3617           1.000000 2044256.000000  2020-01-10 10:44:00.917  \n",
       "3618           1.000000 2044256.000000  2020-01-10 10:45:00.373  \n",
       "3372           1.000000 2044256.000000  2020-01-10 10:46:00.930  \n",
       "3373           1.000000 2044256.000000  2020-01-10 10:47:00.400  \n",
       "3374           1.000000 2044256.000000  2020-01-10 10:48:00.900  \n",
       "3375           1.000000 2044256.000000  2020-01-10 10:49:00.400  \n",
       "3376           1.000000 2044256.000000  2020-01-10 10:50:00.933  \n",
       "3377           1.000000 2044256.000000  2020-01-10 10:51:00.503  \n",
       "3380           1.000000 2044256.000000  2020-01-10 10:52:00.090  \n",
       "3381           1.000000 2044256.000000  2020-01-10 10:53:00.540  \n",
       "3382           1.000000 2044256.000000  2020-01-10 10:54:00.100  \n",
       "3383           1.000000 2044256.000000  2020-01-10 10:55:00.477  \n",
       "3384           1.000000 2044256.000000  2020-01-10 10:56:00.963  \n",
       "3385           1.000000 2044256.000000  2020-01-10 10:57:00.450  \n",
       "3386           1.000000 2044256.000000  2020-01-10 10:58:00.953  \n",
       "3387           1.000000 2044256.000000  2020-01-10 10:59:00.410  \n",
       "3388           1.000000 2044256.000000  2020-01-10 11:00:00.197  \n",
       "3389           1.000000 2044256.000000  2020-01-10 11:01:00.777  \n",
       "3390           1.000000 2044256.000000  2020-01-10 11:02:00.363  \n",
       "3391           1.000000 2044256.000000  2020-01-10 11:03:00.880  \n",
       "3392           1.000000 2044256.000000  2020-01-10 11:04:00.570  "
      ]
     },
     "execution_count": 75,
     "metadata": {},
     "output_type": "execute_result"
    }
   ],
   "source": [
    "work_dataset.head(50)"
   ]
  },
  {
   "cell_type": "markdown",
   "metadata": {},
   "source": [
    "As we can see above for one rowCount value there are many measurements of probingTimestamp. So, I'll try to group the data by rowCounts."
   ]
  },
  {
   "cell_type": "markdown",
   "metadata": {},
   "source": [
    "### Grouping by rowCount_ASC"
   ]
  },
  {
   "cell_type": "code",
   "execution_count": 100,
   "metadata": {},
   "outputs": [],
   "source": [
    "probingTimestamp_per_rowcount_ASC = pd.DataFrame(work_dataset, columns = ['rowCount_ASC','probingTimestamp'])"
   ]
  },
  {
   "cell_type": "code",
   "execution_count": 101,
   "metadata": {},
   "outputs": [],
   "source": [
    "probingTimestamp_per_rowcount_ASC = probingTimestamp_per_rowcount_ASC.groupby('rowCount_ASC').agg('count')"
   ]
  },
  {
   "cell_type": "code",
   "execution_count": 102,
   "metadata": {},
   "outputs": [],
   "source": [
    "probingTimestamp_per_rowcount_ASC = probingTimestamp_per_rowcount_ASC.sort_values(by='probingTimestamp')"
   ]
  },
  {
   "cell_type": "code",
   "execution_count": 111,
   "metadata": {},
   "outputs": [
    {
     "data": {
      "image/png": "[encoded data removed]",
      "text/plain": [
       "<Figure size 576x576 with 1 Axes>"
      ]
     },
     "metadata": {},
     "output_type": "display_data"
    }
   ],
   "source": [
    "sns.set() \n",
    "probingTimestamp_per_rowcount_ASC.hist(figsize=(8,8), color='blue') \n",
    "plt.show()"
   ]
  },
  {
   "cell_type": "markdown",
   "metadata": {},
   "source": [
    "### Grouping by rowCount_BCL"
   ]
  },
  {
   "cell_type": "code",
   "execution_count": 103,
   "metadata": {},
   "outputs": [],
   "source": [
    "probingTimestamp_per_rowcount_BCL = pd.DataFrame(work_dataset, columns = ['rowCount_BCL','probingTimestamp'])"
   ]
  },
  {
   "cell_type": "code",
   "execution_count": 104,
   "metadata": {},
   "outputs": [],
   "source": [
    "probingTimestamp_per_rowcount_BCL = probingTimestamp_per_rowcount_BCL.groupby('rowCount_BCL').agg('count')"
   ]
  },
  {
   "cell_type": "code",
   "execution_count": 105,
   "metadata": {},
   "outputs": [],
   "source": [
    "probingTimestamp_per_rowcount_BCL = probingTimestamp_per_rowcount_BCL.sort_values(by='probingTimestamp')"
   ]
  },
  {
   "cell_type": "code",
   "execution_count": 112,
   "metadata": {},
   "outputs": [
    {
     "data": {
      "image/png": "[encoded data removed]",
      "text/plain": [
       "<Figure size 576x576 with 1 Axes>"
      ]
     },
     "metadata": {},
     "output_type": "display_data"
    }
   ],
   "source": [
    "sns.set() \n",
    "probingTimestamp_per_rowcount_BCL.hist(figsize=(8,8), color='blue') \n",
    "plt.show()"
   ]
  },
  {
   "cell_type": "markdown",
   "metadata": {},
   "source": [
    "### Grouping by rowCount_DTTB"
   ]
  },
  {
   "cell_type": "code",
   "execution_count": 106,
   "metadata": {},
   "outputs": [],
   "source": [
    "probingTimestamp_per_rowcount_DTTB = pd.DataFrame(work_dataset, columns = ['rowCount_DTTB','probingTimestamp'])"
   ]
  },
  {
   "cell_type": "code",
   "execution_count": 107,
   "metadata": {},
   "outputs": [],
   "source": [
    "probingTimestamp_per_rowcount_DTTB = probingTimestamp_per_rowcount_DTTB.groupby('rowCount_DTTB').agg('count')"
   ]
  },
  {
   "cell_type": "code",
   "execution_count": 108,
   "metadata": {},
   "outputs": [],
   "source": [
    "probingTimestamp_per_rowcount_DTTB = probingTimestamp_per_rowcount_DTTB.sort_values(by='probingTimestamp')"
   ]
  },
  {
   "cell_type": "code",
   "execution_count": 115,
   "metadata": {},
   "outputs": [
    {
     "data": {
      "image/png": "[encoded data removed]",
      "text/plain": [
       "<Figure size 576x576 with 1 Axes>"
      ]
     },
     "metadata": {},
     "output_type": "display_data"
    }
   ],
   "source": [
    "sns.set() \n",
    "probingTimestamp_per_rowcount_DTTB.hist(figsize=(8,8), color='blue') \n",
    "plt.show()"
   ]
  },
  {
   "cell_type": "markdown",
   "metadata": {},
   "source": [
    "# INNE"
   ]
  },
  {
   "cell_type": "markdown",
   "metadata": {},
   "source": [
    "pd.set_option('float_format', '{:f}'.format)"
   ]
  },
  {
   "cell_type": "markdown",
   "metadata": {},
   "source": [
    "work_dataset.describe()"
   ]
  },
  {
   "cell_type": "markdown",
   "metadata": {},
   "source": [
    "I change the dataStream data into numerical, in the way you can see below:\n",
    "* ASC_AntenaEvent : 1\n",
    "* BCL_TaskCreation : 2\n",
    "* DTTB_IncomeEvents : 3"
   ]
  },
  {
   "cell_type": "markdown",
   "metadata": {},
   "source": [
    "work_dataset = work_dataset.replace({'ASC_AntenaEvent':1, 'BCL_TaskCreation':2, 'DTTB_IncomeEvents':3})"
   ]
  },
  {
   "cell_type": "markdown",
   "metadata": {},
   "source": [
    "work_dataset.dataStream.unique()"
   ]
  },
  {
   "cell_type": "markdown",
   "metadata": {},
   "source": [
    "Now it's time to sort data by time and take a look:"
   ]
  },
  {
   "cell_type": "markdown",
   "metadata": {},
   "source": [
    "sorted_ds = work_dataset.sort_values(by='probingTimestamp')"
   ]
  },
  {
   "cell_type": "markdown",
   "metadata": {},
   "source": [
    "sorted_ds.head(10)"
   ]
  },
  {
   "cell_type": "markdown",
   "metadata": {},
   "source": [
    "sorted_ds.tail(10)"
   ]
  },
  {
   "cell_type": "markdown",
   "metadata": {},
   "source": [
    "Data was collected from 2020-01-10 10:04:18.837 to 2020-05-02 07:57:00.537. \n",
    "\n",
    "One row for one dataStream (without last position - there was only DTTB notification), in different order."
   ]
  },
  {
   "cell_type": "markdown",
   "metadata": {},
   "source": [
    "sorted_ds.probingTimestamp = pd.to_datetime(sorted_ds.probingTimestamp)"
   ]
  },
  {
   "cell_type": "markdown",
   "metadata": {},
   "source": [
    "sorted_ds['Difference'] = np.where(sorted_ds.dataStream == sorted_ds.dataStream.shift(), sorted_ds.probingTimestamp - sorted_ds.probingTimestamp.shift(), np.nan)"
   ]
  },
  {
   "cell_type": "markdown",
   "metadata": {},
   "source": [
    "sorted_ds.head(60)"
   ]
  },
  {
   "cell_type": "markdown",
   "metadata": {},
   "source": [
    "stupid_result_of_difference = sorted_ds.sort_values(by='Difference')"
   ]
  },
  {
   "cell_type": "markdown",
   "metadata": {},
   "source": [
    "stupid_result_of_difference.head(60)"
   ]
  },
  {
   "cell_type": "markdown",
   "metadata": {},
   "source": [
    "## Taaaaak, muszę to przekonwertować żeby było widać dokładnie różnice. No i żeby nie było NaT :p \n",
    "\n",
    "\n",
    "# A na koniec mój ultrazajebisty histogram, na którym wszystko przepięknie widać:      ...xD"
   ]
  },
  {
   "cell_type": "markdown",
   "metadata": {},
   "source": [
    "sns.set()\n",
    "work_dataset['rowCount'].hist(figsize=(30,30), color='blue')\n",
    "plt.show()"
   ]
  }
 ],
 "metadata": {
  "kernelspec": {
   "display_name": "Python 3",
   "language": "python",
   "name": "python3"
  },
  "language_info": {
   "codemirror_mode": {
    "name": "ipython",
    "version": 3
   },
   "file_extension": ".py",
   "mimetype": "text/x-python",
   "name": "python",
   "nbconvert_exporter": "python",
   "pygments_lexer": "ipython3",
   "version": "3.7.3"
  }
 },
 "nbformat": 4,
 "nbformat_minor": 2
}
